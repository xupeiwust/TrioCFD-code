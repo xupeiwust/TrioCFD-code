{
 "cells": [
  {
   "attachments": {},
   "cell_type": "markdown",
   "id": "boolean-earth",
   "metadata": {
    "jupyter": {
     "source_hidden": false
    }
   },
   "source": [
    "<center> <h1> Stokes configuration : Probleme_FT_Disc_gen </h1></center>\n"
   ]
  },
  {
   "cell_type": "code",
   "execution_count": null,
   "id": "c50babfc",
   "metadata": {
    "collapsed": false,
    "jupyter": {
     "outputs_hidden": false,
     "source_hidden": false
    },
    "scrolled": true
   },
   "outputs": [],
   "source": [
    "from trustutils import run\n",
    "run.introduction(\"Edouard Butaye\")\n",
    "run.TRUST_parameters()"
   ]
  },
  {
   "cell_type": "markdown",
   "id": "dd69b8bc",
   "metadata": {
    "jupyter": {
     "source_hidden": false
    }
   },
   "source": [
    "## Problem description"
   ]
  },
  {
   "cell_type": "markdown",
   "id": "955094b8",
   "metadata": {
    "jupyter": {
     "source_hidden": false
    }
   },
   "source": [
    "This form allows comparing the hydrodynamic forces computed during the simulation with the theoretical forces under the Stokes flow assumption. The particle settles in a viscous fluid under the effect of gravity. The domain is a cube with a side length of 3 particle diameters. The NS equations are solved in the reference frame of the particle. To do this, we impose the fluid velocity at the domain boundaries. This can be Computed by analytically solving the Stokes flow.\n",
    "\n",
    "\n",
    "                                       imposed pressure and velocity\n",
    "                                     ________________________________\n",
    "                                    |                                |\n",
    "                                    |                                |\n",
    "                                    |          /-----------\\         | \n",
    "                    imposed velociy |         /             \\        | imposed velocity\n",
    "                                    |        |    sperical   |       |\n",
    "                                    |        |    particle   |    |  |\n",
    "                                    |         \\   dimeter D /   g |  |\n",
    "                                    |          \\-----------/      |  |\n",
    "                                    |                            \\ / |\n",
    "                                    |                                |\n",
    "                                    |________________________________|\n",
    "\n",
    "                                           imposed velocity\n"
   ]
  },
  {
   "cell_type": "markdown",
   "id": "69931d85-b395-4cb1-81fa-cdb82d3a6396",
   "metadata": {},
   "source": [
    "## Computation set up\n",
    "### Geometric parameters\n",
    "- Origin : -7.8e-5 -7.8e-5 -7.8e-5\n",
    "- Node numbers : 16 16 16\n",
    "- Lengths : 15.6e-5 15.6e-5 15.6e-5\n",
    "### Physical parameters\n",
    "- Particle :\n",
    "      - mu  3 Pa.s\n",
    "      - rho 10000 kg.m^{-3}\n",
    "      - e_dry 0.97\n",
    "      - radius  2.6e-5 m\n",
    "- Fluid :\n",
    "      - mu  3e-3 Pa.s\n",
    "      - rho 1e3 \n",
    "- Gravity : -10 m.s^{-2}\n",
    "- Surface tension : 0 N/m (not considered for a solid particle) \n",
    "### Numerical parameters\n",
    "- Time scheme : Euler explicite + diffusion implicite\n",
    "- Threshold implicite diffusion : 1e-11\n",
    "- Time step : 10^{-6} s\n",
    "- Total computation time : 10^{-3} s\n",
    "- No remeshing (non-deformable particle)\n",
    "- Velocity interpolation : VDF_lineaire"
   ]
  },
  {
   "cell_type": "code",
   "execution_count": null,
   "id": "5ca7f909-2170-4238-aed3-b1cea8cbe651",
   "metadata": {},
   "outputs": [],
   "source": [
    "run.reset()\n",
    "run.initBuildDirectory()\n",
    "\n",
    "dic_projected_tensor = {\n",
    "    \"method_friction_force_computation\": \"trilinear_linear_projected_tensor\",\n",
    "    \"formule_mu\": \"harmonic\"\n",
    "}\n",
    "dic_complete_tensor = {\n",
    "    \"method_friction_force_computation\": \"trilinear_linear_complete_tensor\",\n",
    "    \"formule_mu\": \"harmonic\"\n",
    "}\n",
    "\n",
    "type_interp = {\n",
    "    \"projected_tensor\": dic_projected_tensor,\n",
    "    \"complete_tensor\": dic_complete_tensor\n",
    "}\n",
    "\n",
    "dic_arithmetic = {\n",
    "    \"method_friction_force_computation\": \"trilinear_linear_projected_tensor\",\n",
    "    \"formule_mu\": \"arithmetic\"\n",
    "}\n",
    "dic_harmonic = {\n",
    "    \"method_friction_force_computation\": \"trilinear_linear_projected_tensor\",\n",
    "    \"formule_mu\": \"harmonic\"\n",
    "}\n",
    "\n",
    "type_visc = {\n",
    "    \"arithmetic\": dic_arithmetic,\n",
    "    \"harmonic\": dic_harmonic\n",
    "}\n",
    "\n",
    "for visc, vvisc in type_visc.items():\n",
    "        target_repo = f\"{visc}\"\n",
    "        run.addCaseFromTemplate(\"stokes.data\", target_repo, {**vvisc})\n",
    "\n",
    "\n",
    "for interp, vinterp in type_interp.items():\n",
    "        target_repo = f\"{interp}\"\n",
    "        run.addCaseFromTemplate(\"stokes.data\", target_repo, {**vinterp})\n",
    "\n",
    "\n",
    "run.printCases()"
   ]
  },
  {
   "cell_type": "code",
   "execution_count": null,
   "id": "ede9e488-eed9-43dc-8a03-33b05b5d5768",
   "metadata": {
    "collapsed": false,
    "jupyter": {
     "outputs_hidden": false
    }
   },
   "outputs": [],
   "source": [
    "run.runCases()"
   ]
  },
  {
   "cell_type": "markdown",
   "id": "b95cc311-99f8-4099-92bb-ef5a3a2fd615",
   "metadata": {},
   "source": [
    "### Performances"
   ]
  },
  {
   "cell_type": "code",
   "execution_count": null,
   "id": "b2c5c5a6-b2c4-4b50-8e9e-9c94c0c86760",
   "metadata": {
    "collapsed": false,
    "jupyter": {
     "outputs_hidden": false
    }
   },
   "outputs": [],
   "source": [
    "table = run.tablePerf()\n",
    "table = table.drop(columns=[\"host\", \"system\"]).drop(\"Total\")\n",
    "table"
   ]
  },
  {
   "cell_type": "markdown",
   "id": "d55cb5f2-2c2d-46a1-9847-99bf5c0807c1",
   "metadata": {},
   "source": [
    "## Theoretical fields\n",
    "### Computation of the terminal velocity.\n",
    "\n",
    "\\begin{equation}\n",
    "U_{inf}=\\frac{2}{3}\\frac{gr_p^2}{\\mu_f}\\frac{1+\\Phi_\\mu}{2+3\\Phi_\\mu}\\left(\\rho_f-\\rho_p\\right)\n",
    "\\end{equation}"
   ]
  },
  {
   "cell_type": "code",
   "execution_count": null,
   "id": "c9b2f200-bf41-4431-8cab-14a8eab65980",
   "metadata": {},
   "outputs": [],
   "source": [
    "Dp=5.2e-5\n",
    "rp=Dp/2\n",
    "g=-10\n",
    "rho_p=10000\n",
    "rho_f=1000\n",
    "xp=0\n",
    "mu_p=3e-0\n",
    "mu_f=3e-3\n",
    "phi_mu=mu_p/mu_f #phi_mu représente la rapport de viscosité entre phases\n",
    "Uinf=2/3*g*rp**2/mu_f*(1+phi_mu)/(2+3*phi_mu)*(rho_p-rho_f)\n",
    "\n",
    "print(f\"The terminal setting velocity is U_inf = {Uinf:.2e} m/s.\")"
   ]
  },
  {
   "cell_type": "markdown",
   "id": "1d2c4bab-7319-4591-826d-3e08b6eab294",
   "metadata": {},
   "source": [
    "### Computation of the velocity field\n"
   ]
  },
  {
   "cell_type": "code",
   "execution_count": null,
   "id": "aa478039-3b5f-4ee4-8eac-70973005d039",
   "metadata": {},
   "outputs": [],
   "source": [
    "import matplotlib.pyplot as plt\n",
    "import numpy as np\n",
    "from math import pi,sqrt\n",
    "\n",
    "cm_to_inches=0.393701\n",
    "width=10.5*cm_to_inches\n",
    "height=7.5*cm_to_inches\n",
    "res_plot_part=100\n",
    "res_plot=500\n",
    "PHI_MU_EQ=True\n",
    "\n",
    "def init_fig(diameter, Nd_width,Nd_height,title):\n",
    "    fig=plt.figure(figsize=[width,height])\n",
    "    ax=fig.add_subplot()\n",
    "    plt.axis('equal')\n",
    "    ry=(Nd_width*diameter/2)/diameter \n",
    "    rz=(Nd_height*diameter/2)/diameter \n",
    "    ax.set_xlabel(r'$y/D_p$')\n",
    "    ax.set_ylabel(r'$z/D_p$')\n",
    "    ax.set_xlim(-ry+1,ry-1)\n",
    "    ax.set_ylim(-rz,rz)\n",
    "    ax.set_title(title)\n",
    "    return(fig,ax,ry,rz)\n",
    "\n",
    "def plot_particle(diameter):\n",
    "    theta=np.linspace(0,2*pi,res_plot_part)\n",
    "    radius=diameter/2\n",
    "    x1=radius*np.cos(theta)/diameter\n",
    "    x2=(radius*np.sin(theta))/diameter\n",
    "    plt.plot(x1,x2, linewidth=1,c='black')\n",
    "    \n",
    "def consider_phi_mu(check_phi_mu):\n",
    "    if check_phi_mu:\n",
    "        return ((2+3*phi_mu)/(1+phi_mu),phi_mu/(1+phi_mu))\n",
    "    else:\n",
    "        return (3,1)\n",
    "fac_r,fac_r3=consider_phi_mu(PHI_MU_EQ)\n",
    "\n",
    "def vel_x(x,y,z,radius,Uinf): # rappel : On suppose ici que la particule est centré en x=z=0 et tombe par gravité suivant y \n",
    "    if sqrt(x**2+y**2+z**2)<radius:\n",
    "        velx = Uinf/(2*radius**2)*(1/(1+phi_mu))*x*z\n",
    "    else:\n",
    "        velx = Uinf*z*x*(fac_r*(radius)/(4*((x**2+y**2+z**2)**1.5))-3*fac_r3*(radius)**3/(4*(x**2+y**2+z**2)**2.5))\n",
    "    return(velx)\n",
    "\n",
    "def vel_y(x,y,z,radius,Uinf): # rappel : On suppose ici que la particule est centré en x=z=0 et tombe par gravité suivant y \n",
    "    if sqrt(x**2+y**2+z**2)<radius:\n",
    "        vely = Uinf/(2*radius**2)*(1/(1+phi_mu))*y*z\n",
    "    else:\n",
    "        vely = Uinf*z*y*(fac_r*(radius)/(4*((x**2+y**2+z**2)**1.5))-3*fac_r3*(radius)**3/(4*(x**2+y**2+z**2)**2.5))\n",
    "    return(vely)\n",
    "\n",
    "def vel_z(x,y,z,radius,Uinf): # rappel : On suppose ici que la particule est centré en x=z=0 et tombe par gravité suivant y \n",
    "    if sqrt(x**2+y**2+z**2)<radius:\n",
    "        velz =  Uinf/(2*(1+phi_mu))*(1+z**2/(radius**2)-2*(x**2+y**2+z**2)/(radius**2))\n",
    "    else:\n",
    "        velz = -Uinf*(+(z**2)*(1/(x**2+y**2+z**2)-fac_r*(radius)/(2*((x**2+y**2+z**2)**1.5))+fac_r3*radius**3/(2*(x**2+y**2+z**2)**2.5))+\n",
    "                      (1-z**2/(x**2+y**2+z**2))*(1-fac_r*radius/(4*(x**2+y**2+z**2)**0.5)-fac_r3*radius**3/(4*(x**2+y**2+z**2)**1.5)))\n",
    "\n",
    "    return(velz)\n",
    "\n",
    "def set_velocity_field(x0, Y, Z, radius, Uinf):\n",
    "    velocity_field_z=np.zeros((len(Y[0]),len(Y[0])))\n",
    "    velocity_field_y=np.zeros((len(Y[0]),len(Y[0])))\n",
    "\n",
    "    for i in range(len(Y)):\n",
    "        for j in range(len(Y[i])):\n",
    "            velocity_field_z[i,j]=vel_z(x0, Y[i,j]*Dp, Z[i,j]*Dp, radius*Dp, Uinf)\n",
    "            velocity_field_y[i,j]=vel_y(x0, Y[i,j]*Dp, Z[i,j]*Dp, radius*Dp, Uinf)\n",
    "    return(velocity_field_y, velocity_field_z)\n",
    "    \n",
    "def init_velocity_field(ry,rz,radius, Uinf):\n",
    "    CoordY=np.linspace(-ry,ry,res_plot)\n",
    "    CoordZ=np.linspace(-rz,+rz,res_plot)\n",
    "    extent = np.min(CoordY), np.max(CoordY), np.min(CoordZ), np.max(CoordZ)\n",
    "    Y,Z=np.meshgrid(CoordY,CoordZ)\n",
    "    Z=-Z\n",
    "    velocity_field_y, velocity_field_z = set_velocity_field(xp, Y, Z, radius, Uinf)\n",
    "    return(Y, Z, velocity_field_y,velocity_field_z, extent)\n",
    "\n",
    "\n",
    "Nd_width,Nd_height=3.5,2.5\n",
    "fig,ax,ry,rz=init_fig(Dp, Nd_width, Nd_height, r'Z-component of th velocity field in the plane $x=0$')\n",
    "Y,Z,velocity_field_y,velocity_field_z,extent=init_velocity_field(ry, rz, rp/Dp, Uinf)\n",
    "im=plt.imshow(velocity_field_z, cmap=plt.cm.jet,extent=extent)\n",
    "cbar=plt.colorbar(im)\n",
    "plot_particle(Dp)\n",
    "\n",
    "fig,ax,ry,rz=init_fig(Dp, Nd_width, Nd_height, r'X/Y-component of the velocity field in the plane $x=0$')\n",
    "im=plt.imshow(velocity_field_y, cmap=plt.cm.jet,extent=extent)\n",
    "cbar=plt.colorbar(im)\n",
    "plot_particle(Dp)"
   ]
  },
  {
   "cell_type": "markdown",
   "id": "7e417470-246b-4ab3-a9f7-2a8647fde777",
   "metadata": {},
   "source": [
    "### Computation of the pressure field"
   ]
  },
  {
   "cell_type": "code",
   "execution_count": null,
   "id": "cd1315e9-fd0f-4ff7-aca5-d88d2c021eac",
   "metadata": {},
   "outputs": [],
   "source": [
    "plane_z=3*rp\n",
    "plane_x=0\n",
    "\n",
    "def init_fig(diameter, Nd_width, Nd_height, title, plane):\n",
    "    fig=plt.figure(figsize=[width,height])\n",
    "    ax=fig.add_subplot()\n",
    "    plt.axis('equal')\n",
    "    rx=(Nd_width*diameter/2)/(diameter/2)\n",
    "    ry=(Nd_height*diameter/2)/(diameter/2)\n",
    "    if plane=='z':\n",
    "        ax.set_xlabel(r'$x/r_p$')\n",
    "        ax.set_ylabel(r'$y/r_p$')\n",
    "    if plane=='x':\n",
    "        ax.set_xlabel(r'$y/r_p$')\n",
    "        ax.set_ylabel(r'$z/r_p$')\n",
    "    ax.set_xlim(-rx+1,rx-1)\n",
    "    ax.set_ylim(-ry,+ry)\n",
    "    ax.set_title(title)\n",
    "    return(fig,ax,rx,ry)\n",
    "    \n",
    "def compute_pressure(x, y, radius, Uinf, plane, h_hydro,max_p_int,max_p_ext): # rappel : On suppose ici que la particule est centré en x=z=0 et tombe par gravité suivant y \n",
    "    if plane=='z':\n",
    "        if sqrt(x**2+y**2+plane_z**2)<radius:\n",
    "            pressure = -mu_p*Uinf*5/(1+phi_mu)*plane_z/(radius**2)  #- rho_f*g*plane_z\n",
    "            if abs(pressure)>max_p_int:\n",
    "                max_p_int=abs(pressure)\n",
    "        else:\n",
    "            pressure = ((2+3*phi_mu)/(1+phi_mu))*1/2*mu_f*Uinf*radius*plane_z/((x**2+y**2+(plane_z)**2)**1.5) #- rho_f*g*plane_z\n",
    "            if abs(pressure)>max_p_ext:\n",
    "                max_p_ext=abs(pressure)\n",
    "    if plane=='x': # ici x joue le rôle de y et y joue le rôle de z\n",
    "        if sqrt(plane_x**2+x**2+y**2)<radius:\n",
    "            pressure = 0#mu_p*Uinf*5/(1+phi_mu)*y/(radius**2)  #- rho_f*g*y\n",
    "            if abs(pressure)>max_p_int:\n",
    "                max_p_int=abs(pressure)\n",
    "        else:\n",
    "            pressure = mu_f*Uinf*((2+3*phi_mu)/(1+phi_mu))*(radius/2)*y/((plane_x**2+x**2+y**2)**1.5)  #- rho_f*g*y\n",
    "            if abs(pressure)>max_p_ext:\n",
    "                max_p_ext=abs(pressure)\n",
    "    \n",
    "    return(pressure, max_p_int, max_p_ext)\n",
    "\n",
    "def set_pressure_field(X, Y, radius, Uinf, plane, h_hydro,max_p_int,max_p_ext):\n",
    "    pressure_field=np.zeros((len(X[0]),len(X[0])))\n",
    "   \n",
    "    for i in range(len(Y)):\n",
    "        for j in range(len(Y[i])):\n",
    "            pressure_field[i,j], max_p_int, max_p_ext =compute_pressure(X[i,j]*rp, Y[i,j]*rp, radius*rp, Uinf, plane, h_hydro,max_p_int,max_p_ext)\n",
    "\n",
    "    return(pressure_field)\n",
    "    \n",
    "def init_pressure_field(rx, ry, radius, Uinf, plane, h_hydro):\n",
    "    max_p_int,max_p_ext=0,0\n",
    "    CoordX=np.linspace(-rx,rx,res_plot)\n",
    "    CoordY=np.linspace(-ry,+ry,res_plot)\n",
    "    extent = np.min(CoordX), np.max(CoordX), np.min(CoordY), np.max(CoordY)\n",
    "    X,Y=np.meshgrid(CoordX, CoordY)\n",
    "    Y=-Y\n",
    "    pressure_field=set_pressure_field(X, Y, radius, Uinf, plane, h_hydro,max_p_int,max_p_ext)\n",
    "    return(X, Y, pressure_field, extent)\n",
    "\n",
    "\n",
    "#%% Tracé des figures\n",
    "# Figure dans le plane z\n",
    "plane='z'\n",
    "fig,ax,rx,ry=init_fig(Dp, Nd_width, Nd_height, r'Pressure field in the plane $z=1.5 Dp$', plane)\n",
    "X,Y,pressure_field,extent=init_pressure_field(rx, ry, rp/Dp, Uinf, plane, Nd_height*Dp)\n",
    "\n",
    "im=plt.imshow(pressure_field, cmap=plt.cm.jet,extent=extent)\n",
    "cbar=plt.colorbar(im)\n",
    "cbar.set_label(r'$P_k\\,/\\,|max(P_k)|$')\n",
    "plot_particle(Dp)\n",
    "#%% Figure dans le plane x\n",
    "plane='x'\n",
    "fig,ax,rx,ry=init_fig(Dp, Nd_width, Nd_height, r'Pressure field in the plane $x=0$',plane)\n",
    "X,Y,pressure_field,extent=init_pressure_field(rx, ry, rp/Dp, Uinf, plane,Nd_height*Dp)\n",
    "\n",
    "im=plt.imshow(pressure_field, cmap=plt.cm.jet,extent=extent)\n",
    "cbar=plt.colorbar(im)\n",
    "cbar.set_label(r'$P\\,/P_{atm}$')\n",
    "plot_particle(Dp)"
   ]
  },
  {
   "cell_type": "markdown",
   "id": "748b5013-c3b3-4d96-a109-18417fafd96f",
   "metadata": {},
   "source": [
    "### Computation of hydrodynamic theoretical forces\n",
    "\n",
    "Friction force\n",
    "\\begin{equation}\n",
    "F_f = -4\\pi \\mu_f r_p U_{inf}\n",
    "\\end{equation}\n",
    "Pressure force\n",
    "\\begin{equation}\n",
    "F_f = -2\\pi \\mu_f r_p U_{inf}\n",
    "\\end{equation}\n",
    "Total hydrodynamic force\n",
    "\\begin{equation}\n",
    "F_f = -6\\pi \\mu_f r_p U_{inf}\n",
    "\\end{equation}\n"
   ]
  },
  {
   "cell_type": "code",
   "execution_count": null,
   "id": "716bf7e4-bb32-4271-9c82-0c5099fbcd71",
   "metadata": {},
   "outputs": [],
   "source": [
    "Ff_th=-4*pi*mu_f*rp*Uinf\n",
    "Fp_th=-2*pi*mu_f*rp*Uinf\n",
    "Fh_th=-6*pi*mu_f*rp*Uinf\n",
    "print(f\"Friction force : {Ff_th:.2e} N\")\n",
    "print(f\"Pressure force : {Fp_th:.2e} N\")\n",
    "print(f\"Total hydrodynamic force : {Fh_th:.2e} N\")"
   ]
  },
  {
   "cell_type": "markdown",
   "id": "379dc9a9-5f45-474d-b509-9f4637690071",
   "metadata": {},
   "source": [
    "## Results\n",
    "### Eulerian fluid & particle velocity\n",
    "\n",
    "The following plot shows a slice of the z-component (vertical direction) of the eulerian fluid velocity at the center of the domain."
   ]
  },
  {
   "cell_type": "code",
   "execution_count": null,
   "id": "43b5dfde-acdf-4ab2-a522-d216a4bc3858",
   "metadata": {},
   "outputs": [],
   "source": [
    "from trustutils import visit\n",
    "fig=visit.Show(f\"./{interp}/lata/post_dom.lata\", \"Pseudocolor\", \"VITESSE_Z_ELEM_dom\")\n",
    "fig.slice(var=\"y\",all=1,type_op=\"slice2d\")\n",
    "fig.plot()"
   ]
  },
  {
   "cell_type": "markdown",
   "id": "7accc9fe-2b2e-4923-8915-872881f8e5d5",
   "metadata": {},
   "source": [
    "The following plot shows a slice of the X and y -components (horizontal directions) of the eulerian fluid velocity at the center of the domain."
   ]
  },
  {
   "cell_type": "code",
   "execution_count": null,
   "id": "2690d26c-718d-4d6e-8338-726e9bde70d5",
   "metadata": {},
   "outputs": [],
   "source": [
    "fig=visit.Show(f\"./{interp}/lata/post_dom.lata\", \"Pseudocolor\", \"VITESSE_X_ELEM_dom\")\n",
    "fig.slice(var=\"y\",all=1,type_op=\"slice2d\")\n",
    "fig.plot()"
   ]
  },
  {
   "cell_type": "code",
   "execution_count": null,
   "id": "84e6e682-4111-4b5d-a86c-3dbe9d8441ab",
   "metadata": {},
   "outputs": [],
   "source": [
    "fig=visit.Show(f\"./{interp}/lata/post_dom.lata\", \"Pseudocolor\", \"VITESSE_Y_ELEM_dom\")\n",
    "fig.slice(var=\"x\",all=1,type_op=\"slice2d\")\n",
    "fig.plot()"
   ]
  },
  {
   "cell_type": "markdown",
   "id": "6699f96c-a36b-46ee-bbda-3131e63602fe",
   "metadata": {},
   "source": [
    "The following plots show the pressure field at the center of the domain. Be aware, the pressure field inside the particle is several order of magnitude larger than the pressure field of the fluid. Consequently, visualization of the pressure field without any post-processing will give no information outside the particle."
   ]
  },
  {
   "cell_type": "code",
   "execution_count": null,
   "id": "d3fd22e3-061c-4ae8-ad87-63c83ed547cd",
   "metadata": {},
   "outputs": [],
   "source": [
    "fig=visit.Show(f\"./{interp}/lata/post_dom.lata\", \"Pseudocolor\", \"PRESSION_ELEM_dom\")\n",
    "fig.slice(var=\"z\",all=1,type_op=\"slice2d\")\n",
    "fig.plot()"
   ]
  },
  {
   "cell_type": "code",
   "execution_count": null,
   "id": "5c231529-651d-4458-8c68-ff4fe24af0b4",
   "metadata": {},
   "outputs": [],
   "source": [
    "fig=visit.Show(f\"./{interp}/lata/post_dom.lata\", \"Pseudocolor\", \"PRESSION_ELEM_dom\")\n",
    "fig.slice(var=\"y\",all=1,type_op=\"slice2d\")\n",
    "fig.plot()"
   ]
  },
  {
   "cell_type": "markdown",
   "id": "0bd87d84-68c2-440a-888a-da9623262709",
   "metadata": {},
   "source": [
    "### Lagrangian particle velocity\n",
    "\n",
    "In the present study, NS equations are solved in the reference frame of the particle. Therefore, if the flow is well resolved, the particle's velocity is zero. If not, this is due to a lack of resolution of hydrodynamic forces. For a resolution of 10 meshes per particle diameter, the "
   ]
  },
  {
   "cell_type": "code",
   "execution_count": null,
   "id": "91fe1784-a637-43a9-a0eb-c946a2ecf0c5",
   "metadata": {
    "collapsed": false,
    "jupyter": {
     "outputs_hidden": false
    }
   },
   "outputs": [],
   "source": [
    "from trustutils import plot\n",
    "import itertools\n",
    "import matplotlib.pyplot as plt\n",
    "import numpy as np\n",
    "marker = itertools.cycle(('^', '+', 'd', 'o', '*', '<', '>', 's'))\n",
    "\n",
    "dcolors = {\"projected_tensor\": \"blue\", \"complete_tensor\": \"red\"}\n",
    "dimension=3"
   ]
  },
  {
   "cell_type": "code",
   "execution_count": null,
   "id": "5c747323",
   "metadata": {
    "collapsed": false,
    "jupyter": {
     "outputs_hidden": false
    }
   },
   "outputs": [],
   "source": [
    "ylabel=[\"Ux\",\"Uy\", \"Uz\"]\n",
    "\n",
    "for dim in range(dimension):\n",
    "    fig,ax=plt.subplots()\n",
    "    ax.set_ylabel(f\"{ylabel[dim]} [m/s]\", fontsize=15)\n",
    "    ax.set_xlabel(r\"$time [s]$\", fontsize=15)\n",
    "    \n",
    "    for interp in type_interp.keys():\n",
    "        time,vel=np.loadtxt(f\"{run.BUILD_DIRECTORY}/{interp}/stokes_particles_trajectory_interf.out\",skiprows=10,usecols=(0, 4+dim),unpack=True)\n",
    "        ax.plot(time,vel,label=f\"{interp}\",lw=1,color=dcolors[interp])\n",
    "        ax.legend(loc=\"best\")\n"
   ]
  },
  {
   "cell_type": "markdown",
   "id": "3b188f71-e85f-4746-b623-ab3a857374dc",
   "metadata": {},
   "source": [
    "### Hydrodynamic forces"
   ]
  },
  {
   "cell_type": "markdown",
   "id": "265b4454-1899-4e39-abdc-9e558c80b23c",
   "metadata": {},
   "source": [
    "To assess deviations to theoretical forces, the reader is referred to figures 5 and 10 of Butaye et al, 2023 : https://www.sciencedirect.com/science/article/pii/S0045793023002967?via%3Dihub "
   ]
  },
  {
   "cell_type": "code",
   "execution_count": null,
   "id": "8bd78a8b-f340-4370-8724-1b11e51cac7c",
   "metadata": {},
   "outputs": [],
   "source": [
    "ylabel=[\"Fp\",\"Ff\", \"Fh\"]\n",
    "\n",
    "for dim in range(dimension):\n",
    "    fig,ax=plt.subplots()\n",
    "    ax.set_ylabel(f\"{ylabel[dim]} [N]\", fontsize=15)\n",
    "    ax.set_xlabel(r\"$time [s]$\", fontsize=15)\n",
    "    ind=0\n",
    "    for interp in type_interp.keys():\n",
    "        if (dim==0):\n",
    "            time,F=np.loadtxt(f\"{run.BUILD_DIRECTORY}/{interp}/stokes_particle_hydrodynamic_forces_interf.out\",skiprows=10,usecols=(0, 4),unpack=True)\n",
    "            if (ind==0): ax.axhline(Fp_th,c='black', label=\"Theoretical value\")\n",
    "        elif (dim==1):\n",
    "            time,F=np.loadtxt(f\"{run.BUILD_DIRECTORY}/{interp}/stokes_particle_hydrodynamic_forces_interf.out\",skiprows=10,usecols=(0, 7),unpack=True)\n",
    "            if (ind==0): ax.axhline(Ff_th,c='black', label=\"Theoretical value\")\n",
    "        else:\n",
    "            time,Fp=np.loadtxt(f\"{run.BUILD_DIRECTORY}/{interp}/stokes_particle_hydrodynamic_forces_interf.out\",skiprows=10,usecols=(0, 4),unpack=True)\n",
    "            _,Ff=np.loadtxt(f\"{run.BUILD_DIRECTORY}/{interp}/stokes_particle_hydrodynamic_forces_interf.out\",skiprows=10,usecols=(0, 7),unpack=True)\n",
    "            F=Fp+Ff\n",
    "            if (ind==0): ax.axhline(Fp_th+Ff_th,c='black', label=\"Theoretical value\")\n",
    "        ax.plot(time,F,label=f\"{interp}\",lw=1,color=dcolors[interp])\n",
    "        ax.legend(loc='best')\n",
    "        ind+=1\n"
   ]
  },
  {
   "cell_type": "markdown",
   "id": "a8e5c98c-b7f1-428f-bb6d-2f91e577d249",
   "metadata": {},
   "source": [
    "# Computation of the viscosity"
   ]
  },
  {
   "cell_type": "markdown",
   "id": "18a829f6-c8ea-4f88-9bd3-d22b9d46393b",
   "metadata": {},
   "source": [
    "It exists several methods to compute the viscosity in two-phase cells as described below.  \n",
    "I represent the volumic phase indicator function for the fluid. $I==1$ indicates a fully fluid cell. $I==0$ indicates a fully solid cell\n",
    "\n",
    "* arithmetic average \\begin{equation} \\mu = I\\mu_f + (1-I)\\mu_p \\end{equation}\n",
    "* harmonic average \\begin{equation} \\mu = \\frac{\\mu_p\\mu_f}{(1-I)\\mu_f+I\\mu_p} \\end{equation}\n",
    "* staircase average \n",
    "$$\\mu= \\mu_f\\: \\text{if}\\: I>0;\\: \\mu_p\\: \\text{otherwise}$$\n",
    "\n",
    "The computation of the phase indicator function remain challenging in staggered control volumes. One method is to apply the phase indicator function calculation method to staggered control volumes.  Another option would be to compute the average value of the volumic phase indicator function in neighboring cells.  \n",
    "\n",
    "In TrioCFD-1.9.6, the phase indicator function is computed accurately in cells and averaged in staggered cells. Therefore, off-diagonal components of the stress tensor are computed with a viscosity interpolated at the gravity center of the edges. The staircase average is not present in TrioCFD-1.9.6.\n"
   ]
  },
  {
   "cell_type": "code",
   "execution_count": null,
   "id": "47ad9040-563b-4193-bf9e-6360acefafa6",
   "metadata": {},
   "outputs": [],
   "source": [
    "ylabel=[\"Ux\",\"Uy\", \"Uz\"]\n",
    "dcolors = {\"arithmetic\": \"blue\", \"harmonic\": \"red\"}\n",
    "for dim in range(dimension):\n",
    "    fig,ax=plt.subplots()\n",
    "    ax.set_ylabel(f\"{ylabel[dim]} [m/s]\", fontsize=15)\n",
    "    ax.set_xlabel(r\"$time [s]$\", fontsize=15)\n",
    "    \n",
    "    for visc, vvisc in type_visc.items():\n",
    "              time,vel=np.loadtxt(f\"{run.BUILD_DIRECTORY}/{visc}/stokes_particles_trajectory_interf.out\",skiprows=10,usecols=(0, 4+dim),unpack=True)\n",
    "              ax.plot(time,vel,label=f\"{visc}\",lw=1,color=dcolors[visc])\n",
    "              ax.legend(loc=\"best\")"
   ]
  },
  {
   "cell_type": "code",
   "execution_count": null,
   "id": "bed77e06-a710-4819-ac50-f44ea5ddb02c",
   "metadata": {},
   "outputs": [],
   "source": []
  }
 ],
 "metadata": {
  "kernelspec": {
   "display_name": "Python 3 (ipykernel)",
   "language": "python",
   "name": "python3"
  },
  "language_info": {
   "codemirror_mode": {
    "name": "ipython",
    "version": 3
   },
   "file_extension": ".py",
   "mimetype": "text/x-python",
   "name": "python",
   "nbconvert_exporter": "python",
   "pygments_lexer": "ipython3",
   "version": "3.12.5"
  },
  "toc-autonumbering": true,
  "widgets": {
   "application/vnd.jupyter.widget-state+json": {
    "state": {},
    "version_major": 2,
    "version_minor": 0
   }
  }
 },
 "nbformat": 4,
 "nbformat_minor": 5
}
