{
 "cells": [
  {
   "attachments": {},
   "cell_type": "markdown",
   "id": "boolean-earth",
   "metadata": {
    "jupyter": {
     "source_hidden": false
    }
   },
   "source": [
    "<center> <h1> Gondret configuration : Probleme_FT_Disc_gen </h1></center>\n"
   ]
  },
  {
   "cell_type": "code",
   "execution_count": null,
   "id": "c50babfc",
   "metadata": {
    "collapsed": false,
    "jupyter": {
     "outputs_hidden": false,
     "source_hidden": false
    },
    "scrolled": true
   },
   "outputs": [],
   "source": [
    "from trustutils import run\n",
    "import matplotlib.pyplot as plt\n",
    "run.introduction(\"Edouard Butaye\")\n",
    "run.TRUST_parameters()"
   ]
  },
  {
   "cell_type": "markdown",
   "id": "dd69b8bc",
   "metadata": {
    "jupyter": {
     "source_hidden": false
    }
   },
   "source": [
    "## Problem description"
   ]
  },
  {
   "cell_type": "markdown",
   "id": "955094b8",
   "metadata": {
    "jupyter": {
     "source_hidden": false
    }
   },
   "source": [
    "This form allows comparing the trajectory of a particle that collide onto a wall in a dry (non-viscous) and wet (viscous) medium.  The particle is dropped and falls under the effect of gravity. The domain is a rectangular parallelepiped with a side length of 3 particle diameters and a height of 4 particle diameters.  \n",
    "For the case of a dry collision, ie without any friction, the trajectory is compared to a analytical result.  \n",
    "For the case of a wet collision, the trajectory is confronted to the experimental study of Gondret (2002) (https://hal.science/hal-02482943).\n",
    "\n",
    "                                       imposed pressure and velocity\n",
    "                                     ________________________________\n",
    "                                    |                                |\n",
    "                                    |                                |\n",
    "                                    |          /-----------\\         | \n",
    "                    imposed velociy |         /             \\        | imposed velocity\n",
    "                                    |        |    sperical   |       |\n",
    "                                    |        |    particle   |    |  |\n",
    "                                    |         \\   dimeter D /   g |  |\n",
    "                                    |          \\-----------/      |  |\n",
    "                                    |                            \\ / |\n",
    "                                    |                                |\n",
    "                                    |                                |\n",
    "                                    |                                |\n",
    "                                    |                                |\n",
    "                                    |                                |\n",
    "                                    |                                |\n",
    "                                    |                                |\n",
    "                                    |                                |\n",
    "                                    |                                |\n",
    "                                    |                                |\n",
    "                                    |                                |\n",
    "                                    |                                |\n",
    "                                    |________________________________|\n",
    "\n",
    "                                           imposed velocity\n"
   ]
  },
  {
   "cell_type": "markdown",
   "id": "69931d85-b395-4cb1-81fa-cdb82d3a6396",
   "metadata": {},
   "source": [
    "## Computation set up\n",
    "### Geometric parameters\n",
    "- Origin : -4.5e-3  0. -4.5e-3\n",
    "- Node numbers : 16 21 16\n",
    "- Lengths : 9e-3 12e-3 9e-3\n",
    "### Physical parameters\n",
    "- Particle :\n",
    "      - mu  10 Pa.s\n",
    "      - rho 7800 kg.m^{-3}\n",
    "      - e_dry 0.97\n",
    "      - radius  1.5e-3 m\n",
    "- Fluid :\n",
    "      - mu  1e-2 Pa.s\n",
    "      - rho 935 \n",
    "- Gravity : -9.81 m.s^{-2}\n",
    "- Surface tension : 0 N/m (not considered for a solid particle) \n",
    "### Numerical parameters\n",
    "- Time scheme : Euler explicite + diffusion implicite\n",
    "- Threshold implicite diffusion : 10^{-11} \n",
    "- Time step : 3.75.10^{-5} s\n",
    "- Total computation time : 10^{-3} s\n",
    "- No remeshing (non-deformable particle)\n",
    "- Velocity interpolation : VDF_lineaire"
   ]
  },
  {
   "cell_type": "code",
   "execution_count": null,
   "id": "5ca7f909-2170-4238-aed3-b1cea8cbe651",
   "metadata": {},
   "outputs": [],
   "source": [
    "run.reset()\n",
    "run.initBuildDirectory()\n",
    "dic_dry_collision = {\n",
    "    \"rho_f\": \"1.2e-3\",\n",
    "    \"rho_p\": \"2150\",\n",
    "    \"mu_f\": \"1.85e-5\",\n",
    "    \"mu_p\": \"1.85e-2\",\n",
    "    \"radius\": \"3e-3\",\n",
    "    \"e_dry\": \"0.8\",\n",
    "    \"Ox\": \"-9e-3\",\n",
    "    \"Oy\": \"0.\",\n",
    "    \"left\": \"-9e-3\",\n",
    "    \"right\": \"9e-3\",\n",
    "    \"h_dom\": \"24e-3\",\n",
    "    \"length\": \"18e-3 24e-3 18e-3\",\n",
    "    \"hinit\": \"9.78e-3\",\n",
    "    \"collision_duration\": \"32e-6\",\n",
    "    \"delta_t\": \"1e-6\",\n",
    "    \"dt_sauv_lata\": \"1e-3\",\n",
    "    \"tmax\": \"0.1\",\n",
    "    \"e_dry\": \"0.8\"\n",
    "}\n",
    "\n",
    "dic_wet_collision = {\n",
    "    \"rho_f\": \"935\",\n",
    "    \"rho_p\": \"7800\",\n",
    "    \"mu_f\": \"1e-2\",\n",
    "    \"mu_p\": \"10\",\n",
    "    \"radius\": \"1.5e-3\",\n",
    "    \"Ox\": \"-4.5e-3\",\n",
    "    \"Oy\": \"0.\",\n",
    "    \"left\": \"-4.5e-3\",\n",
    "    \"right\": \"4.5e-3\",\n",
    "    \"h_dom\": \"12e-3\",\n",
    "    \"length\": \"9e-3 12e-3 9e-3\",\n",
    "    \"hinit\": \"8.88e-3\",\n",
    "    \"collision_duration\": \"3.2e-4\",\n",
    "    \"delta_t\": \"1.e-5\",\n",
    "    \"dt_sauv_lata\": \"6.e-4\",\n",
    "    \"tmax\": \"0.1\",\n",
    "    \"e_dry\": \"0.97\"\n",
    "}\n",
    "\n",
    "dic_hybrid_esi_model = {\"collision_model\": \"hybrid_esi\"}\n",
    "dic_breugem_model = {\"collision_model\": \"breugem\"}\n",
    "\n",
    "collision_type = {\n",
    "    \"dry\": dic_dry_collision,\n",
    "    \"wet\": dic_wet_collision\n",
    "}\n",
    "\n",
    "collision_model = {\n",
    "    \"hybrid_esi\": dic_hybrid_esi_model,\n",
    "    \"breugem\": dic_breugem_model\n",
    "}\n",
    "\n",
    "dic_color = {\n",
    "    \"hybrid_esi\": \"red\",\n",
    "    \"breugem\": \"blue\"\n",
    "}\n",
    "\n",
    "for collision, vcollision in collision_type.items():\n",
    "    for model, vmodel in collision_model.items():\n",
    "        target_repo = f\"{collision}/{model}\"\n",
    "        run.addCaseFromTemplate(\"gondret.data\", target_repo, {**vcollision,**vmodel},nbProcs=12)\n",
    "\n",
    "\n",
    "run.printCases()"
   ]
  },
  {
   "cell_type": "markdown",
   "id": "16f712d1-0510-4aa5-b3e4-46c27f1bf16e",
   "metadata": {},
   "source": [
    "### Mesh generation"
   ]
  },
  {
   "cell_type": "code",
   "execution_count": null,
   "id": "7eb9d912-fc58-4f10-8203-e85ca41b941b",
   "metadata": {},
   "outputs": [],
   "source": [
    "for collision, vcollision in collision_type.items():\n",
    "    for model, vmodel in collision_model.items():\n",
    "            target_repo = f\"{collision}/{model}\"\n",
    "            mesh_gen=run.TRUSTCase(target_repo,f\"{run.ORIGIN_DIRECTORY}/src/mesh_template.data\").copy(\"mesh.data\")\n",
    "            mesh_gen.substitute_template({**vcollision})\n",
    "            run.executeCommand(f\"cd {target_repo}; trust mesh.data\")"
   ]
  },
  {
   "cell_type": "markdown",
   "id": "cfae0a8a-e71d-4484-b62d-a92fb39e23ce",
   "metadata": {},
   "source": [
    "Please note that the computation for all cases requires approximately an hour."
   ]
  },
  {
   "cell_type": "code",
   "execution_count": null,
   "id": "ede9e488-eed9-43dc-8a03-33b05b5d5768",
   "metadata": {
    "collapsed": false,
    "jupyter": {
     "outputs_hidden": false
    }
   },
   "outputs": [],
   "source": [
    "run.runCases()"
   ]
  },
  {
   "cell_type": "markdown",
   "id": "b95cc311-99f8-4099-92bb-ef5a3a2fd615",
   "metadata": {},
   "source": [
    "### Performances"
   ]
  },
  {
   "cell_type": "code",
   "execution_count": null,
   "id": "b2c5c5a6-b2c4-4b50-8e9e-9c94c0c86760",
   "metadata": {
    "collapsed": false,
    "jupyter": {
     "outputs_hidden": false
    }
   },
   "outputs": [],
   "source": [
    "table = run.tablePerf()\n",
    "table = table.drop(columns=[\"host\", \"system\"]).drop(\"Total\")\n",
    "table"
   ]
  },
  {
   "cell_type": "markdown",
   "id": "3a526351-5d3c-42a5-8b3b-f63a055afbb5",
   "metadata": {},
   "source": [
    "## Dry collision"
   ]
  },
  {
   "cell_type": "markdown",
   "id": "3c2094ce-74e9-4e98-ae9a-ae955347853d",
   "metadata": {},
   "source": [
    "### Computation of the particle vertical position and velocity\n",
    "In the case of sedimentation in a non-viscous medium, the particle is subjected solely to gravity.\n",
    "\\begin{equation}\n",
    "a_z=-g\n",
    "\\end{equation}\n",
    "\\begin{equation}\n",
    "u_z=-gt+u_{z,0}\n",
    "\\end{equation}\n",
    "\\begin{equation}\n",
    "y_z=-\\frac{1}{2}gt^2+u_{z,0}t+h_0\n",
    "\\end{equation}\n",
    "After the first rebound, the trajectory can be analyzed as a series of parabolic paths. For each parabola, $h_0=0$ and the initial velocity is calculated by multiplying the impact velocity by the restitution coefficient."
   ]
  },
  {
   "cell_type": "code",
   "execution_count": null,
   "id": "0cc30a21-031c-413d-a212-a0004ade58cb",
   "metadata": {},
   "outputs": [],
   "source": [
    "import numpy as np\n",
    "import pandas as pd\n",
    "### params ###\n",
    "radius=3e-3\n",
    "drop_height=9.78e-3-radius\n",
    "g=9.81\n",
    "spatial_residual=1e-4\n",
    "e_dry=0.8\n",
    "\n",
    "### theoretical trajectory ###\n",
    "def compute_particle_velocity(time,\n",
    "                              initial_velocity):\n",
    "    return (-g*time+initial_velocity)\n",
    "\n",
    "def compute_particle_height(time,\n",
    "                            initial_velocity,\n",
    "                            initial_height):\n",
    "    return (-1/2*g*time**2+initial_velocity*time+initial_height)\n",
    "    \n",
    "final_time=0.1\n",
    "dt=1e-6\n",
    "time_th=[]\n",
    "position_th=[]\n",
    "velocity_th=[]\n",
    "\n",
    "initial_velocity=0.\n",
    "initial_height=drop_height\n",
    "relative_time=0\n",
    "time=0.\n",
    "glob_time=0.\n",
    "ind_time=0\n",
    "while (glob_time<final_time):\n",
    "    vel=compute_particle_velocity(time,\n",
    "                                  initial_velocity)\n",
    "    pos=compute_particle_height(time,\n",
    "                                initial_velocity,\n",
    "                                initial_height)\n",
    "    time_th.append(glob_time)\n",
    "    velocity_th.append(vel)\n",
    "    position_th.append(pos)\n",
    "    \n",
    "    if (pos<spatial_residual and time>1e-3):   \n",
    "        time=0\n",
    "        initial_height=spatial_residual\n",
    "        initial_velocity=e_dry*abs(vel)\n",
    "        \n",
    "    time+=dt\n",
    "    ind_time+=1\n",
    "    glob_time+=dt\n",
    "### data extraction ###\n",
    "df=pd.DataFrame()\n",
    "for model, vmodel in collision_model.items(): \n",
    "    time,py,uy=np.loadtxt(f\"{run.BUILD_DIRECTORY}/dry/{model}/gondret_particles_trajectory_interf.out\",skiprows=10,usecols=(0,2,5),unpack=True)\n",
    "    df[f\"time_{model}\"]=time\n",
    "    df[f\"py_{model}\"]=py-radius\n",
    "    df[f\"uy_{model}\"]=uy\n",
    "\n",
    "### plots ###\n",
    "# position\n",
    "fig,ax=plt.subplots()\n",
    "ax.set_title(\"Position of the bottom of the particle\")\n",
    "ax.set_ylabel(\"height [m]\", fontsize=15)\n",
    "ax.set_xlabel(r\"$time [s]$\", fontsize=15)\n",
    "for model in collision_model.keys(): \n",
    "    ax.plot(df[f\"time_{model}\"],df[f\"py_{model}\"],label=f\"{model}\",lw=1,color=dic_color[model])\n",
    "ax.plot(time_th,position_th,linewidth=1,color=\"black\", label=\"analytical\")\n",
    "ax.legend(loc=\"best\")\n",
    "\n",
    "# velocity\n",
    "fig,ax=plt.subplots()\n",
    "ax.set_title(\"Velocity of the particle\")\n",
    "ax.set_ylabel(\"Velocity [m/s]\", fontsize=15)\n",
    "ax.set_xlabel(r\"$time [s]$\", fontsize=15)\n",
    "for model in collision_model.keys(): \n",
    "    ax.plot(df[f\"time_{model}\"],df[f\"uy_{model}\"],label=f\"{model}\",lw=1,color=dic_color[model])\n",
    "ax.plot(time_th,velocity_th,linewidth=1,color=\"black\", label=\"analytical\")\n",
    "ax.legend(loc=\"best\")"
   ]
  },
  {
   "cell_type": "markdown",
   "id": "c03b150b-ef18-420e-86d2-20ce73941092",
   "metadata": {},
   "source": [
    "## Wet collision"
   ]
  },
  {
   "cell_type": "markdown",
   "id": "1c87679e-f40b-4af4-a274-5925ac9bd3b9",
   "metadata": {},
   "source": [
    "The case of the collision in a wet medium is investigated through the experimental study of Gondret et al.\n",
    "With the current version (TrioCFD-1.9.6), the collision model developed by Breugem is better suited to reproduce the experimental results.\n",
    "This conclusion may change with the computation of the diffusive terms with an harmonic average (expected in TrioCFD-1.9.7)."
   ]
  },
  {
   "cell_type": "code",
   "execution_count": null,
   "id": "5ea977cc-fe4e-4c4e-a7db-5a935e40073f",
   "metadata": {},
   "outputs": [],
   "source": [
    "import numpy as np\n",
    "\n",
    "### data extraction ###\n",
    "df=pd.DataFrame()\n",
    "for model, vmodel in collision_model.items(): \n",
    "    time,py,uy,fy=np.loadtxt(f\"{run.BUILD_DIRECTORY}/wet/{model}/gondret_particles_trajectory_interf.out\",skiprows=10,usecols=(0,2,5,8),unpack=True)\n",
    "    df[f\"time_{model}\"]=time\n",
    "    df[f\"py_{model}\"]=py-radius\n",
    "    df[f\"uy_{model}\"]=uy\n",
    "    df[f\"fy_{model}\"]=fy\n",
    "\n",
    "time_gondret_py,py_gondret=np.loadtxt(f\"{run.ORIGIN_DIRECTORY}/src/data_exp_gondret_position.txt\",unpack=True)\n",
    "time_gondret_uy,uy_gondret=np.loadtxt(f\"{run.ORIGIN_DIRECTORY}/src/data_exp_gondret_velocity.txt\",unpack=True)\n",
    "\n",
    "### plots ###\n",
    "# position\n",
    "fig,ax=plt.subplots()\n",
    "ax.set_title(\"Position of the bottom of the particle\")\n",
    "ax.set_ylabel(\"height [m]\", fontsize=15)\n",
    "ax.set_xlabel(r\"$time [s]$\", fontsize=15)\n",
    "for model in collision_model.keys(): \n",
    "    ax.plot(df[f\"time_{model}\"],df[f\"py_{model}\"],label=f\"{model}\",lw=1,color=dic_color[model])\n",
    "ax.scatter(time_gondret_py,py_gondret-radius,lw=1,color=\"black\",label=\"exp gondret\")\n",
    "ax.legend(loc=\"best\")\n",
    "\n",
    "# velocity\n",
    "fig,ax=plt.subplots()\n",
    "ax.set_title(\"Velocity of the particle\")\n",
    "ax.set_ylabel(\"Velocity [m/s]\", fontsize=15)\n",
    "ax.set_xlabel(r\"$time [s]$\", fontsize=15)\n",
    "for model in collision_model.keys(): \n",
    "    ax.plot(df[f\"time_{model}\"],df[f\"uy_{model}\"],label=f\"{model}\",lw=1,color=dic_color[model])\n",
    "ax.scatter(time_gondret_uy,uy_gondret,lw=1,color=\"black\",label=\"exp gondret\")\n",
    "ax.legend(loc=\"best\")\n",
    "\n",
    "# force\n",
    "fig,ax=plt.subplots()\n",
    "ax.set_title(\"Collision force \")\n",
    "ax.set_ylabel(\"Fy [N]\", fontsize=15)\n",
    "ax.set_xlabel(r\"$time [s]$\", fontsize=15)\n",
    "ax.set_xlim(0.048,0.05)\n",
    "for model in collision_model.keys(): \n",
    "    ax.plot(df[f\"time_{model}\"],df[f\"fy_{model}\"],label=f\"{model}\",lw=1,color=dic_color[model])\n",
    "ax.legend(loc=\"best\")"
   ]
  },
  {
   "cell_type": "code",
   "execution_count": null,
   "id": "15d1eb65-3a9b-4b78-8c3f-819bbf66d624",
   "metadata": {},
   "outputs": [],
   "source": []
  },
  {
   "cell_type": "code",
   "execution_count": null,
   "id": "408e10dc-e1ea-4f08-aa7b-c195726fe2ae",
   "metadata": {},
   "outputs": [],
   "source": []
  }
 ],
 "metadata": {
  "kernelspec": {
   "display_name": "Python 3 (ipykernel)",
   "language": "python",
   "name": "python3"
  },
  "language_info": {
   "codemirror_mode": {
    "name": "ipython",
    "version": 3
   },
   "file_extension": ".py",
   "mimetype": "text/x-python",
   "name": "python",
   "nbconvert_exporter": "python",
   "pygments_lexer": "ipython3",
   "version": "3.12.5"
  },
  "toc-autonumbering": true,
  "widgets": {
   "application/vnd.jupyter.widget-state+json": {
    "state": {},
    "version_major": 2,
    "version_minor": 0
   }
  }
 },
 "nbformat": 4,
 "nbformat_minor": 5
}
