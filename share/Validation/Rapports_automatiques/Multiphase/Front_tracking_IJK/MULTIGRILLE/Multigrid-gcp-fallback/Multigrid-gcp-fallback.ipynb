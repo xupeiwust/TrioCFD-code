{
 "cells": [
  {
   "cell_type": "markdown",
   "id": "e629e0b2",
   "metadata": {},
   "source": [
    "# Multigrd-gcp-fallback test case\n"
   ]
  },
  {
   "cell_type": "markdown",
   "id": "f72669e1",
   "metadata": {},
   "source": [
    "## Introduction\n",
    " \n",
    " Validation made by: Alan BURLOT\n",
    "\n",
    " Report generated 18/02/2024"
   ]
  },
  {
   "cell_type": "markdown",
   "id": "4cb5a36b",
   "metadata": {},
   "source": [
    "### Description\n",
    " \n",
    "In previous versions, the multigrid solver threw an error if the threshold set by the user was not reached. Currently, the multigrid solver must switch to the GCP solver if the former has not reached the required threshold. \n",
    "This test case compares two pressure fields from two computations: the first uses a single level of multigrid (the finest one) and the second uses 3 levels of multigrid, with garbage parameters to make it fail (so that it reverts to GCP). The results from the 2 test cases should be the same.\n",
    "The GCP fallback has been developed by Anida KHIZAR."
   ]
  },
  {
   "cell_type": "code",
   "execution_count": null,
   "id": "dcb3d590",
   "metadata": {},
   "outputs": [],
   "source": [
    "from trustutils import run \n",
    " \n",
    "run.TRUST_parameters(\"1.9.3\")"
   ]
  },
  {
   "cell_type": "code",
   "execution_count": null,
   "id": "077ebf04",
   "metadata": {},
   "outputs": [],
   "source": [
    "run.reset()\n",
    "run.initBuildDirectory()\n",
    "run.addCase(\"MULTIGRID_LVL0\", \"DNS_swarm.data\", nbProcs=4)\n",
    "run.addCase(\"MULTIGRID_LVL3\", \"DNS_swarm.data\", nbProcs=4)\n",
    "run.printCases()\n",
    "run.runCases()"
   ]
  },
  {
   "cell_type": "markdown",
   "id": "141ae945",
   "metadata": {},
   "source": [
    "## Computer Performance"
   ]
  },
  {
   "cell_type": "code",
   "execution_count": null,
   "id": "6c251b2a",
   "metadata": {},
   "outputs": [],
   "source": [
    "run.tablePerf()"
   ]
  },
  {
   "cell_type": "markdown",
   "id": "f0cd7757",
   "metadata": {},
   "source": [
    "## Comparison of the two pressure fields"
   ]
  },
  {
   "cell_type": "markdown",
   "id": "35dd73ca",
   "metadata": {},
   "source": [
    "The number of differences should be null."
   ]
  },
  {
   "cell_type": "code",
   "execution_count": null,
   "id": "225ea0ed",
   "metadata": {},
   "outputs": [],
   "source": [
    "run.executeCommand(\"compare_lata MULTIGRID_LVL0/DNS_swarm.lata MULTIGRID_LVL3/DNS_swarm.lata\")"
   ]
  }
 ],
 "metadata": {
  "kernelspec": {
   "display_name": "Python 3 (ipykernel)",
   "language": "python",
   "name": "python3"
  },
  "language_info": {
   "codemirror_mode": {
    "name": "ipython",
    "version": 3
   },
   "file_extension": ".py",
   "mimetype": "text/x-python",
   "name": "python",
   "nbconvert_exporter": "python",
   "pygments_lexer": "ipython3",
   "version": "3.7.16"
  }
 },
 "nbformat": 4,
 "nbformat_minor": 5
}
