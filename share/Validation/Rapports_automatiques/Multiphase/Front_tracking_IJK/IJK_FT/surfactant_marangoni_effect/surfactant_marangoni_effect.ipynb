{
 "cells": [
  {
   "cell_type": "markdown",
   "id": "8ac30d61",
   "metadata": {},
   "source": [
    "# Marangoni cas test pour IJK FT\n"
   ]
  },
  {
   "cell_type": "markdown",
   "id": "803f4555",
   "metadata": {},
   "source": [
    "## Introduction\n",
    " \n",
    " Validation made by: Antoine du Cluzeau\n",
    "\n",
    " Report generated 31/01/2024"
   ]
  },
  {
   "cell_type": "code",
   "execution_count": null,
   "id": "97420a48",
   "metadata": {
    "scrolled": true
   },
   "outputs": [],
   "source": [
    "from trustutils import run \n",
    "from pathlib import Path\n",
    " \n",
    "run.TRUST_parameters(\"1.9.4_beta\")"
   ]
  },
  {
   "cell_type": "code",
   "execution_count": null,
   "id": "7e4f0f69",
   "metadata": {},
   "outputs": [],
   "source": [
    "run.reset()\n",
    "run.initBuildDirectory()  # copy src/ in build/\n",
    "run.addCase(\".\", \"Original_interfacial_source.data\", nbProcs=8) \n",
    "run.addCase(\".\", \"Original_interfacial_source_et_marangoni.data\", nbProcs=8) \n",
    "run.addCase(\".\", \"Tryggvason_interfacial_source.data\", nbProcs=8) \n",
    "run.addCase(\".\", \"Tryggvason_interfacial_source_et_marangoni.data\", nbProcs=8) \n",
    "run.printCases()\n",
    "run.runCases()"
   ]
  },
  {
   "cell_type": "markdown",
   "id": "6c66f9ca",
   "metadata": {},
   "source": [
    "## Computer Performance"
   ]
  },
  {
   "cell_type": "code",
   "execution_count": null,
   "id": "09dc67d4",
   "metadata": {},
   "outputs": [],
   "source": [
    "run.tablePerf()"
   ]
  },
  {
   "cell_type": "markdown",
   "id": "9e4f8776",
   "metadata": {},
   "source": [
    "## Resultats\n"
   ]
  },
  {
   "cell_type": "code",
   "execution_count": null,
   "id": "a51024a1",
   "metadata": {},
   "outputs": [],
   "source": [
    "from trustutils import visit\n",
    "from math import *\n",
    "import re\n",
    "import os\n",
    "import matplotlib\n",
    "import numpy as np\n",
    "import matplotlib.pyplot as plt\n",
    "from matplotlib.collections import LineCollection\n",
    "from matplotlib.colors import ListedColormap, BoundaryNorm\n",
    "import sys\n",
    "from collections import Counter\n",
    "import matplotlib.patches as mpatches\n",
    "print(os.getcwd())\n",
    "sys.path.append(os.getcwd())\n",
    "from Fields import *\n",
    "import glob\n",
    "import turtle"
   ]
  },
  {
   "cell_type": "code",
   "execution_count": null,
   "id": "17225ce5",
   "metadata": {},
   "outputs": [],
   "source": [
    "def param_image(name, grid=True, legend=True, legend_out=True, n_dpi=100, fontsizelegend=10):\n",
    "    scalepng=3.5       \n",
    "    inSizeLegend=int(scalepng*3.5)\n",
    "    if (grid):\n",
    "        plt.grid()\n",
    "    plt.ticklabel_format(style='sci', axis='y', scilimits=(0,0))\n",
    "    plt.tick_params(axis='x', labelsize=12)\n",
    "    plt.tick_params(axis='y', labelsize=12)\n",
    "    if (legend_out):\n",
    "    \tplt.legend(fontsize=fontsizelegend, loc='center left', bbox_to_anchor=(1.05, 0.5))\n",
    "    else:\n",
    "    \tplt.legend(fontsize=fontsizelegend, loc=0,prop={'size':inSizeLegend}, frameon=True, ncol=1)\n",
    "    \tplt.legend(fontsize=fontsizelegend).set_visible(legend) ### deactive la legende\n",
    "        \n",
    "def trouver_dernier_fichier(repertoire, debut):\n",
    "    fichiers = glob.glob(os.path.join(repertoire, f\"{debut}*\"))\n",
    "\n",
    "    # Filtrer uniquement les fichiers (exclure les dossiers)\n",
    "    fichiers = [f for f in fichiers if os.path.isfile(f)]\n",
    "\n",
    "    if not fichiers:\n",
    "        return None  # Retourner None si aucun fichier correspondant n'a été trouvé\n",
    "\n",
    "    # Trouver le fichier le plus récent\n",
    "    dernier_fichier = max(fichiers, key=os.path.getctime)\n",
    "    return dernier_fichier"
   ]
  },
  {
   "cell_type": "markdown",
   "id": "9c99ff85",
   "metadata": {},
   "source": [
    "On réalise un cas test du terme source de Marangoni selon Marudoglu et Tryggvason (2007), voir aussi thèse de Kalyani (p.88)\n",
    "On impose une concentration de surfactant\n",
    "\\begin{equation}\n",
    "\\sigma(z)= \\sigma_0(1-\\beta\\frac{z-z_b}{l_z})\n",
    "\\end{equation}\n",
    "$z$ est la hauteur, $z_b$ la hauteur du centre de gravité de la bulle. $l_z$ est la hauteur du domaine numérique.\n",
    "On peut alors montrer que pour $Ca=\\mu_lu_r/\\sigma_0$ très petit, et pour $Re=\\rho_lr_bv_r/\\mu_l$ très petit, il existe une solution analytique. La vitesse terminale de la bulle générée par effet Marangoni est :\n",
    "\\begin{equation}\n",
    "V_{YBG}=\\frac{2\\sigma_0\\beta r_b}{l_z(6\\mu_l+9\\mu_v)}\n",
    "\\end{equation}"
   ]
  },
  {
   "cell_type": "code",
   "execution_count": null,
   "id": "5758689e",
   "metadata": {},
   "outputs": [],
   "source": [
    "V = 4.188666666666667e-12 \n",
    "a = (V/((4./3.)*3.1415))**(1./3.)\n",
    "L = 0.001\n",
    "beta = 5.\n",
    "sigma0 = 0.0002\n",
    "mu_v = 2.944271909999159e-03\n",
    "mu_d = 2.944271909999159e-03\n",
    "rhov = 1000.\n",
    "rhod = 1000.\n",
    "repertoire = \"build/\"\n",
    "debut = \"diphasique_moyenne\"\n",
    "\n",
    "\n",
    "UI=Field.LoadFromFile(trouver_dernier_fichier(repertoire, debut), 0, 2)\n",
    "I=Field.LoadFromFile(trouver_dernier_fichier(repertoire, debut), 0, 1)\n",
    "U = UI/I\n",
    "Ul = U.integrale()\n",
    "\n",
    "Vybg = 2. * sigma0 * beta * a /  (L * ( 6 * mu_v + 9 * mu_d))\n",
    "\n",
    "position=Field.LoadFromFile(repertoire+\"Original_interfacial_source_bulles_centre_x.out\", 0, 1)\n",
    "velocity=position.gradient()-Ul\n",
    "Re = rhod * a * velocity.npa[velocity.npa.size-2] / mu_d\n",
    "Ca = mu_v * velocity.npa[velocity.npa.size-2] / sigma0\n",
    "print(\"Re terminal = \", Re)\n",
    "print(\"Ca terminal = \", Ca)\n",
    "print(\" \")\n",
    "velocity = velocity / Vybg\n",
    "\n",
    "plt.figure()\n",
    "plt.plot(velocity.ax, velocity.npa, color='red', label=\"original\", linestyle='-')\n",
    "\n",
    "position=Field.LoadFromFile(repertoire+\"Original_interfacial_source_et_marangoni_bulles_centre_x.out\", 0, 1)\n",
    "velocity=position.gradient()-Ul\n",
    "velocity = velocity / Vybg\n",
    "plt.plot(velocity.ax, velocity.npa, color='blue', label=\"original + marangoni\", linestyle='-')\n",
    "\n",
    "position=Field.LoadFromFile(repertoire+\"Tryggvason_interfacial_source_bulles_centre_x.out\", 0, 1)\n",
    "velocity=position.gradient()-Ul\n",
    "velocity = velocity / Vybg\n",
    "plt.plot(velocity.ax, velocity.npa, color='green', label=\"Tryggvason\", linestyle='-')\n",
    "\n",
    "position=Field.LoadFromFile(repertoire+\"Tryggvason_interfacial_source_et_marangoni_bulles_centre_x.out\", 0, 1)\n",
    "velocity=position.gradient()-Ul\n",
    "velocity = velocity / Vybg\n",
    "plt.plot(velocity.ax, velocity.npa, color='brown', label=\"Tryggvason + marangoni\", linestyle='-')\n",
    "\n",
    "velocity = velocity * 0. + 1.\n",
    "plt.plot(velocity.ax, velocity.npa, color='black', label=\"Solution Young et al.\", linestyle='-')\n",
    "\n",
    "plt.legend(fontsize=10, loc=0,prop={'size':10}, frameon=True, ncol=1)\n",
    "plt.legend(fontsize=10).set_visible(True) ### deactive la legende\n",
    "plt.ylabel(r\"Terminal Velocity ($V_t/V_{YBG}$)\", fontsize=15)\n",
    "plt.xlabel(\"Time (t)\", fontsize=15)\n",
    "plt.ylim(0.,1.2)\n",
    "plt.show()\n"
   ]
  },
  {
   "cell_type": "code",
   "execution_count": null,
   "id": "8adc9e1a-21ec-492a-a25a-31085007bcde",
   "metadata": {},
   "outputs": [],
   "source": [
    "\n"
   ]
  },
  {
   "cell_type": "markdown",
   "id": "424fadb6",
   "metadata": {},
   "source": []
  },
  {
   "cell_type": "markdown",
   "id": "6e8504e9",
   "metadata": {},
   "source": [
    "On s'assure par vérification visuel de la régularité du champ en fin de calcul que tout s'est bien déroulé. "
   ]
  },
  {
   "cell_type": "code",
   "execution_count": null,
   "id": "80c205a6",
   "metadata": {},
   "outputs": [],
   "source": [
    "visit.showField(\"Original_interfacial_source.lata\", \"Pseudocolor\", \"GRADX_SIGMA_SOM_INTERFACES\", plotmesh=False)"
   ]
  },
  {
   "cell_type": "code",
   "execution_count": null,
   "id": "e3928f4a",
   "metadata": {},
   "outputs": [],
   "source": [
    "visit.showField(\"Original_interfacial_source_et_marangoni.lata\", \"Pseudocolor\", \"GRADX_SIGMA_SOM_INTERFACES\", plotmesh=False)"
   ]
  },
  {
   "cell_type": "code",
   "execution_count": null,
   "id": "152a4afb",
   "metadata": {},
   "outputs": [],
   "source": [
    "visit.showField(\"Tryggvason_interfacial_source.lata\", \"Pseudocolor\", \"GRADX_SIGMA_SOM_INTERFACES\", plotmesh=False)"
   ]
  },
  {
   "cell_type": "code",
   "execution_count": null,
   "id": "520af376",
   "metadata": {},
   "outputs": [],
   "source": [
    "visit.showField(\"Tryggvason_interfacial_source_et_marangoni.lata\", \"Pseudocolor\", \"GRADX_SIGMA_SOM_INTERFACES\", plotmesh=False)"
   ]
  },
  {
   "cell_type": "code",
   "execution_count": null,
   "id": "b247f1a5-fc11-48bd-b286-af75a42c7c0f",
   "metadata": {},
   "outputs": [],
   "source": []
  },
  {
   "cell_type": "code",
   "execution_count": null,
   "id": "bdc1eac2-6d2d-4244-bf4e-e0368796937a",
   "metadata": {},
   "outputs": [],
   "source": []
  }
 ],
 "metadata": {
  "kernelspec": {
   "display_name": "Python 3 (ipykernel)",
   "language": "python",
   "name": "python3"
  },
  "language_info": {
   "codemirror_mode": {
    "name": "ipython",
    "version": 3
   },
   "file_extension": ".py",
   "mimetype": "text/x-python",
   "name": "python",
   "nbconvert_exporter": "python",
   "pygments_lexer": "ipython3",
   "version": "3.12.5"
  }
 },
 "nbformat": 4,
 "nbformat_minor": 5
}
