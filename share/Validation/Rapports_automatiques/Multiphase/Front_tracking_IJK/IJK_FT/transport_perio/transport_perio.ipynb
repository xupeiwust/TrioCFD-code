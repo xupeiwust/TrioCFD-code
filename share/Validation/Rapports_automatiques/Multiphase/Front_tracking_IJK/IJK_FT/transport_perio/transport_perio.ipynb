{
 "cells": [
  {
   "cell_type": "markdown",
   "id": "2dc0b81d",
   "metadata": {},
   "source": [
    "# Transport periodique front-tracking en IJK"
   ]
  },
  {
   "cell_type": "markdown",
   "id": "f72f4043",
   "metadata": {},
   "source": [
    "## Introduction\n",
    " \n",
    " Validation made by: G.B.\n",
    " \n",
    " Report generated 26/03/2025"
   ]
  },
  {
   "cell_type": "markdown",
   "id": "f836d3f4",
   "metadata": {},
   "source": [
    "### Description\n",
    " \n",
    "\n",
    "\n"
   ]
  },
  {
   "cell_type": "markdown",
   "id": "229732cd",
   "metadata": {},
   "source": [
    "### TRUST parameters\n",
    " \n",
    "* Version TRUST :  \n"
   ]
  },
  {
   "cell_type": "code",
   "execution_count": null,
   "id": "5e862485-301f-4131-b9fb-0b9a3ddc7e3f",
   "metadata": {},
   "outputs": [],
   "source": [
    "# Prepare to do here later"
   ]
  },
  {
   "cell_type": "code",
   "execution_count": null,
   "id": "1fee8f68",
   "metadata": {},
   "outputs": [],
   "source": [
    "from trustutils import run\n",
    " \n",
    "run.reset() \n",
    "run.initBuildDirectory()\n",
    "run.executeCommand(\"./prepare\")\n",
    "dic_cas = {\"procs\":\"1 1 1\", \"freprise_interf\": \"init.lata\", \"mode\":\"WRITE_PASS\", \"Debogfile\":\"seq.txt\", \"Debogseuil\":\"-1.\", \\\n",
    "           \"vy\":\"0.2\", \"fsauv\":\"ConvMultiSpherePerio.repr\", \"frepr\":\"ConvMultiSpherePerio.repr\", \\\n",
    "           \"lata_meshname\":\"FTMESH\" }\n",
    "run.addCaseFromTemplate(\"ijkft_ConvectionMultiSphere_template.data\",\".\",dic_cas, nbProcs=1,targetData=\"ijkft_ConvectionMultiSphere_seq.data\")\n",
    "\n",
    "dic_cas = {\"procs\":\"2 2 2\", \"freprise_interf\": \"init.lata\", \"mode\":\"CHECK_PASS\", \"Debogfile\":\"seq.txt\", \"Debogseuil\":\"0.\", \\\n",
    "           \"vy\":\"0.2\", \"fsauv\":\"ConvMultiSpherePerio_par8.repr\", \"frepr\":\"ConvMultiSpherePerio_par8.repr\", \\\n",
    "           \"lata_meshname\":\"FTMESH\" }\n",
    "run.addCaseFromTemplate(\"ijkft_ConvectionMultiSphere_template.data\",\".\",dic_cas, nbProcs=8,targetData=\"ijkft_ConvectionMultiSphere_par8.data\")\n",
    "\n",
    "# Remove Debog from template (Debog and 6 following lines) for restart and remove nom_sauvegarde\n",
    "run.executeCommand(\"sed -e '/DebogIJK/,+6d' -e '/nom_sauvegarde/d' ijkft_ConvectionMultiSphere_template.data > ijkft_ConvectionMultiSphere_template2.data\")\n",
    "\n",
    "dic_cas = {\"procs\":\"1 1 1\", \"freprise_interf\": \"ConvMultiSpherePerio.repr.lata\", \\\n",
    "           \"vy\":\"-0.25*sin(x*6.28318530717959/0.4)*sin(z*6.28318530717959/0.5)\", \\\n",
    "           \"frepr\":\"ConvMultiSpherePerio.repr\", \\\n",
    "           \"lata_meshname\":\"INTERFACES\" }\n",
    "run.addCaseFromTemplate(\"ijkft_ConvectionMultiSphere_template2.data\",\".\",dic_cas, nbProcs=1,targetData=\"ijkft_ConvectionMultiSphere_seq_reprise.data\")\n",
    "\n",
    "dic_cas = {\"procs\":\"2 2 2\", \"freprise_interf\": \"ConvMultiSpherePerio_par8.repr.lata\",  \\\n",
    "           \"vy\":\"-0.25*sin(x*6.28318530717959/0.4)*sin(z*6.28318530717959/0.5)\", \\\n",
    "           \"frepr\":\"ConvMultiSpherePerio_par8.repr\", \\\n",
    "           \"lata_meshname\":\"INTERFACES\" }\n",
    "run.addCaseFromTemplate(\"ijkft_ConvectionMultiSphere_template2.data\",\".\",dic_cas, nbProcs=8,targetData=\"ijkft_ConvectionMultiSphere_par8_reprise.data\")\n",
    "\n",
    "run.executeCommand(\"sed -i \\\"/nom_reprise/d\\\" ijkft_ConvectionMultiSphere_seq.data\")\n",
    "run.executeCommand(\"sed -i \\\"/nom_reprise/d\\\" ijkft_ConvectionMultiSphere_par8.data\")\n",
    "\n",
    "run.printCases()\n",
    "run.runCases(preventConcurrent=True)"
   ]
  },
  {
   "cell_type": "markdown",
   "id": "84e4e004",
   "metadata": {},
   "source": [
    "## Maillage genere par cree\\_multi\\_bulles.sh\n",
    " \n"
   ]
  },
  {
   "cell_type": "markdown",
   "id": "d1746d4a",
   "metadata": {},
   "source": [
    "### Etat initial genere par cree\\_multi\\_bulles.sh\n",
    " \n",
    " "
   ]
  },
  {
   "cell_type": "code",
   "execution_count": null,
   "id": "6bd5474d",
   "metadata": {},
   "outputs": [],
   "source": [
    "from trustutils import visit\n",
    " \n",
    "visu = visit.Show(\"init.lata\",\"Mesh\",\"FTMESH\")\n",
    "visu.addField(\"init.lata\",\"Pseudocolor\",\"COMPO_CONNEXE_ELEM_FTMESH\")\n",
    "visu.plot()"
   ]
  },
  {
   "cell_type": "markdown",
   "id": "8bc5469e",
   "metadata": {},
   "source": [
    "## Verification of sequential and parallel calculations (comparing initial / final states)"
   ]
  },
  {
   "cell_type": "code",
   "execution_count": null,
   "id": "e7db6ccb",
   "metadata": {},
   "outputs": [],
   "source": [
    "from trustutils import visit\n",
    "def myFigures(sub_calc=\"\", pretitle=\"Initial \"):\n",
    "    inst ={0:\"initial\", -1:\"final\"}\n",
    "    # A first dummy plot because empty option fails. \n",
    "    visu = visit.Show(\"ijkft_ConvectionMultiSphere_seq.lata\",\"Mesh\",name=\"DOM\", plotmesh=False, \\\n",
    "                          nX=2, nY=2,size=12,title=f\"{pretitle} runs (seq or par8)\")\n",
    "    for j,calc in enumerate([\"seq\", \"par8\"]):\n",
    "        part=f\"{calc}{sub_calc}\"\n",
    "        basename=f\"ijkft_ConvectionMultiSphere_{part}.lata\"\n",
    "        for i, k in enumerate(inst.keys()):\n",
    "            visu.add(basename,\"Pseudocolor\",\"VISCOSITY_ELEM_DOM\", \\\n",
    "                          xIndice=i, yIndice=j,plotmesh=True, iteration=k, title=f\"{calc.upper()} -- {inst[k].upper()} STEP\")\n",
    "            visu.visitCommand(\"PseudocolorAtts = PseudocolorAttributes()\")\n",
    "            visu.visitCommand(\"PseudocolorAtts.opacityType = PseudocolorAtts.Constant \")\n",
    "            visu.visitCommand(\"PseudocolorAtts.opacity = 0.1\")\n",
    "            visu.visitCommand(\"SetPlotOptions(PseudocolorAtts)\")\n",
    "            visu.addField(basename,\"Pseudocolor\",\"COMPO_CONNEXE_ELEM_INTERFACES\",plotmesh=True)\n",
    "            visu.addField(basename,\"Mesh\",\"DOM_EXT\")\n",
    "            pass\n",
    "        pass\n",
    "    visu.plot()\n",
    "    return\n",
    "\n",
    "myFigures()\n"
   ]
  },
  {
   "cell_type": "markdown",
   "id": "1580d188",
   "metadata": {},
   "source": [
    "## Restart cases (seq/par8) "
   ]
  },
  {
   "cell_type": "code",
   "execution_count": null,
   "id": "272afb97-9714-4e9a-a3ce-f75917374fb1",
   "metadata": {},
   "outputs": [],
   "source": [
    "myFigures(\"_reprise\", \"Restart \")"
   ]
  },
  {
   "cell_type": "markdown",
   "id": "07cdef12",
   "metadata": {},
   "source": [
    "### Coupe du champ de vitesse Y sur le domaine etendu\n",
    " \n",
    " "
   ]
  },
  {
   "cell_type": "code",
   "execution_count": null,
   "id": "f3943ebf-c97b-4a11-9bfb-d50681e0c392",
   "metadata": {},
   "outputs": [],
   "source": [
    "def myFigures2(slice=False, interf_var=\"COMPO_CONNEXE_ELEM_INTERFACES\"):\n",
    "    runs ={\"initial\":\"\", \"reprise\":\"_reprise\"}\n",
    "    # A first dummy plot because empty option fails. \n",
    "    visu = visit.Show(\"ijkft_ConvectionMultiSphere_seq.lata\",\"Mesh\",name=\"DOM\", plotmesh=False, \\\n",
    "                          nX=2, nY=2,size=12,title=f\"Runs (seq or par8) (precalc or restart) (last step)\")\n",
    "    for j,calc in enumerate([\"seq\", \"par8\"]):\n",
    "        for i, k in enumerate(runs.keys()):\n",
    "            part=f\"{calc}{runs[k]}\"\n",
    "            basename=f\"ijkft_ConvectionMultiSphere_{part}.lata\"\n",
    "            print(basename)\n",
    "            visu.add(basename,\"Pseudocolor\",\"VELOCITY_FT_Y_FACES_DOM_EXT_dual\", \\\n",
    "                          xIndice=i, yIndice=j,plotmesh=True, iteration=-1, title=f\"{calc.upper()} -- {k.upper()}\")\n",
    "            visu.visitCommand(\"PseudocolorAtts = PseudocolorAttributes()\")\n",
    "            visu.visitCommand(\"PseudocolorAtts.opacityType = PseudocolorAtts.Constant \")\n",
    "            visu.visitCommand(\"PseudocolorAtts.opacity = 0.1\")\n",
    "            visu.visitCommand(\"SetPlotOptions(PseudocolorAtts)\")\n",
    "            visu.addField(basename,\"Pseudocolor\",interf_var,plotmesh=False)\n",
    "            if slice:\n",
    "                visu.slice(origin=[0,0,0.1],var='z',all=1, type_op=\"slice2d\")\n",
    "            pass\n",
    "        pass\n",
    "    visu.plot()\n",
    "    return\n",
    "\n",
    "myFigures2(slice=True)"
   ]
  },
  {
   "cell_type": "markdown",
   "id": "9f4f0629",
   "metadata": {},
   "source": [
    "### Decoupage parallele des interfaces\n",
    " \n",
    " "
   ]
  },
  {
   "cell_type": "code",
   "execution_count": null,
   "id": "7fbaccb1-df89-4e1b-8af1-4b6a94a81d24",
   "metadata": {},
   "outputs": [],
   "source": [
    "myFigures2(slice=False, interf_var=\"FACETTE_PE_OWNER_ELEM_INTERFACES\")"
   ]
  }
 ],
 "metadata": {
  "kernelspec": {
   "display_name": "Python 3 (ipykernel)",
   "language": "python",
   "name": "python3"
  },
  "language_info": {
   "codemirror_mode": {
    "name": "ipython",
    "version": 3
   },
   "file_extension": ".py",
   "mimetype": "text/x-python",
   "name": "python",
   "nbconvert_exporter": "python",
   "pygments_lexer": "ipython3",
   "version": "3.12.5"
  },
  "title": "Transport periodique front-tracking en IJK"
 },
 "nbformat": 4,
 "nbformat_minor": 5
}
