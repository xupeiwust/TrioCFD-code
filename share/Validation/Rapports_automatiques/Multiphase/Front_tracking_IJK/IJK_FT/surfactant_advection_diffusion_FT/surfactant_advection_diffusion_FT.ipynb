{
 "cells": [
  {
   "cell_type": "markdown",
   "id": "8ac30d61",
   "metadata": {},
   "source": [
    "# Advection diffusion cas test pour un champ sur l'interface FT\n"
   ]
  },
  {
   "cell_type": "markdown",
   "id": "803f4555",
   "metadata": {},
   "source": [
    "## Introduction\n",
    " \n",
    " Validation made by: Antoine du Cluzeau\n",
    "\n",
    " Report generated 31/01/2024"
   ]
  },
  {
   "cell_type": "code",
   "execution_count": null,
   "id": "97420a48",
   "metadata": {},
   "outputs": [],
   "source": [
    "from trustutils import run \n",
    "from pathlib import Path\n",
    " \n",
    "run.TRUST_parameters(\"1.9.4_beta\")"
   ]
  },
  {
   "cell_type": "code",
   "execution_count": null,
   "id": "7e4f0f69",
   "metadata": {},
   "outputs": [],
   "source": [
    "run.reset()\n",
    "run.initBuildDirectory()  # copy src/ in build/\n",
    "run.addCase(\".\", \"diffusion.data\", nbProcs=8) \n",
    "run.addCase(\".\", \"advection_croissance.data\", nbProcs=8) \n",
    "run.addCase(\".\", \"advection_decroissance.data\", nbProcs=8) \n",
    "run.printCases()\n",
    "run.runCases()"
   ]
  },
  {
   "cell_type": "markdown",
   "id": "6c66f9ca",
   "metadata": {},
   "source": [
    "## Computer Performance"
   ]
  },
  {
   "cell_type": "code",
   "execution_count": null,
   "id": "09dc67d4",
   "metadata": {},
   "outputs": [],
   "source": [
    "run.tablePerf()"
   ]
  },
  {
   "cell_type": "markdown",
   "id": "9e4f8776",
   "metadata": {},
   "source": [
    "## Resultats\n"
   ]
  },
  {
   "cell_type": "code",
   "execution_count": null,
   "id": "a51024a1",
   "metadata": {},
   "outputs": [],
   "source": [
    "from trustutils import visit\n",
    "from math import *\n",
    "import re\n",
    "import os\n",
    "import matplotlib\n",
    "import numpy as np\n",
    "import matplotlib.pyplot as plt\n",
    "from matplotlib.collections import LineCollection\n",
    "from matplotlib.colors import ListedColormap, BoundaryNorm\n",
    "import sys\n",
    "from collections import Counter\n",
    "import matplotlib.patches as mpatches\n",
    "print(os.getcwd())\n",
    "sys.path.append(os.getcwd())\n",
    "from Fields import *\n",
    "import glob\n",
    "import turtle"
   ]
  },
  {
   "cell_type": "code",
   "execution_count": null,
   "id": "17225ce5",
   "metadata": {},
   "outputs": [],
   "source": [
    "def param_image(name, grid=True, legend=False, legend_out=True, n_dpi=100, fontsizelegend=10):\n",
    "    scalepng=3.5       \n",
    "    inSizeLegend=int(scalepng*3.5)\n",
    "    if (grid):\n",
    "        plt.grid()\n",
    "    plt.ticklabel_format(style='sci', axis='y', scilimits=(0,0))\n",
    "    plt.tick_params(axis='x', labelsize=12)\n",
    "    plt.tick_params(axis='y', labelsize=12)\n",
    "    if (legend_out):\n",
    "    \tplt.legend(fontsize=fontsizelegend, loc='center left', bbox_to_anchor=(1.05, 0.5))\n",
    "    else:\n",
    "    \tplt.legend(fontsize=fontsizelegend, loc=0,prop={'size':inSizeLegend}, frameon=True, ncol=1)\n",
    "    \tplt.legend(fontsize=fontsizelegend).set_visible(legend) ### deactive la legende"
   ]
  },
  {
   "cell_type": "markdown",
   "id": "9c99ff85",
   "metadata": {},
   "source": [
    "On réalise un cas test de diffusion pure d'un champ FT :\n",
    "\\begin{equation}\n",
    "\\frac{\\partial\\Gamma}{\\partial t} = D_s\\nabla_s^2\\Gamma\n",
    "\\end{equation}\n",
    "On simule pour cela une bulle au repos dans un écoulement au repos.\n",
    "On impose une quantité initiale de surfactant sous la forme : \n",
    "\\begin{equation}\n",
    "\\Gamma(\\theta)=0.5(1-cos\\theta)\n",
    "\\end{equation}\n",
    "où $\\theta$ est l'angle entre la verticale et le segment allant du centre de masse de la bulle jusqu'à un point de l'interface. La solution analytique s'écrit alors :\n",
    "\\begin{equation}\n",
    "\\Gamma(\\theta, t)=0.5(1-e^{-2t*/Pe_s}cos\\theta)\n",
    "\\end{equation}\n",
    "où $Pe_s = Ud_b/D_s$ et $t^*=tU/d_b$.\n",
    "On postraite ici le maximum de concentration pour le comparer la valeur théorique :\n",
    "\\begin{equation}\n",
    "\\Gamma_{max}(t)=0.5(1-e^{-2t*/Pe_s})\n",
    "\\end{equation}"
   ]
  },
  {
   "cell_type": "code",
   "execution_count": null,
   "id": "5758689e",
   "metadata": {},
   "outputs": [],
   "source": [
    "Surfactant_max=Field.LoadFromFile(\"build/diffusion_bulles_surfactant_max.out\", 0, 1)\n",
    "Surfactant_max_theorique=Field.LoadFromFile(\"build/diffusion_bulles_surfactant_max.out\", 0, 1)\n",
    "for i in range(len(Surfactant_max_theorique)):\n",
    "    Surfactant_max_theorique.npa[i] = 0.5 * (1.+exp(-2*Surfactant_max_theorique.ax[i]*1.e-7/(0.0001*0.0001)))\n",
    "\n",
    "plt.figure()\n",
    "plt.ylabel(\"quantite max\", fontsize=15)\n",
    "plt.xlabel(r\"$t$\", fontsize=15)\n",
    "plt.scatter(Surfactant_max.ax, Surfactant_max.npa, color='red', label=\"DNS\", marker='x')\n",
    "plt.plot(Surfactant_max_theorique.ax, Surfactant_max_theorique.npa, color='black', label=\"ref\", linestyle='-')\n",
    "param_image(\"Diffusion.png\", legend=True, legend_out=False)\n",
    "plt.show()\n"
   ]
  },
  {
   "cell_type": "markdown",
   "id": "424fadb6",
   "metadata": {},
   "source": [
    "On réalise un cas test d'advection pure d'un champ FT :\n",
    "\\begin{equation}\n",
    "\\frac{\\partial\\Gamma}{\\partial t} + \\nabla_s.(\\Gamma u_s)= 0\n",
    "\\end{equation}\n",
    "On simule pour cela une bulle au repos dans un écoulement au repos.\n",
    "La bulle va alors être soumise à une variation de son volume (croissant et décroissant).\n",
    "L'on doit s'assurer alors de la conservation de la quantite de surfactant sur l'interface telle que :\n",
    "\\begin{equation}\n",
    "\\Gamma(t)=\\frac{A_0}{A(t)}\\Gamma_0\n",
    "\\end{equation}\n",
    "où $A$ est la surface de la bulle à un instant donné, et $\\Gamma_0$ la concentration initiale de surfactant."
   ]
  },
  {
   "cell_type": "code",
   "execution_count": null,
   "id": "9329efc3",
   "metadata": {},
   "outputs": [],
   "source": [
    "Surfactant_c=Field.LoadFromFile(\"build/advection_croissance_bulles_surfactant.out\", 0, 1)\n",
    "Surfactant_ref_c=Field.LoadFromFile(\"build/advection_croissance_bulles_surfactant.out\", 0, 1)\n",
    "Surfactant_ref_c[:]=Surfactant_ref_c.npa[0]\n",
    "Surface_c=Field.LoadFromFile(\"build/advection_croissance_bulles_surface.out\", 0, 1)\n",
    "concentration_ref_c =Surfactant_ref_c/Surface_c\n",
    "concentration_c=Surfactant_c/Surface_c\n",
    "Surfactant=Field.LoadFromFile(\"build/advection_decroissance_bulles_surfactant.out\", 0, 1)\n",
    "Surfactant_ref=Field.LoadFromFile(\"build/advection_decroissance_bulles_surfactant.out\", 0, 1)\n",
    "Surfactant_ref[:]=Surfactant_ref.npa[0]\n",
    "Surface=Field.LoadFromFile(\"build/advection_decroissance_bulles_surface.out\", 0, 1)\n",
    "concentration_ref =Surfactant_ref/Surface\n",
    "concentration=Surfactant/Surface\n",
    "\n",
    "plt.figure()\n",
    "plt.ylabel(\"concentration\", fontsize=15)\n",
    "plt.xlabel(r\"$t$\", fontsize=15)\n",
    "plt.xlim(0.,0.01)\n",
    "plt.ylim(0.,1.5)\n",
    "plt.scatter(concentration_c.ax, concentration_c.npa, color='red', label=\"DNS volume croissant\", marker='x')\n",
    "plt.plot(concentration_ref_c.ax, concentration_ref_c.npa, color='red', label=\"ref\", linestyle='-')\n",
    "plt.scatter(concentration.ax, concentration.npa, color='blue', label=\"DNS volume decroissant\", marker='x')\n",
    "plt.plot(concentration_ref.ax, concentration_ref.npa, color='blue', label=\"ref\", linestyle='-')\n",
    "param_image(\"Advection.png\", legend=True, legend_out=False)\n",
    "plt.show()"
   ]
  },
  {
   "cell_type": "markdown",
   "id": "6e8504e9",
   "metadata": {},
   "source": [
    "On s'assure par vérification visuel de la régularité du champ en fin de calcul que tout s'est bien déroulé.\n",
    "On observe en particulier qu'il n'y a pas de diffusion numérique associée au processus de remaillage lorsque l'interface gonfle ou dégonfle. Cela permet de valider l'algorithme pour le calcul des intersections des triangles et la redistribution conservative, et non diffusive, dans les phases de correction de volume, de barycentrage, d'ajout et de suppression de sommets. "
   ]
  },
  {
   "cell_type": "code",
   "execution_count": null,
   "id": "7d8b58b6",
   "metadata": {},
   "outputs": [],
   "source": [
    "visit.showField(\"diffusion.lata\", \"Pseudocolor\", \"CONCENTRATION_INTERFACE_ELEM_INTERFACES\", plotmesh=False)"
   ]
  },
  {
   "cell_type": "code",
   "execution_count": null,
   "id": "80c205a6",
   "metadata": {},
   "outputs": [],
   "source": [
    "visit.showField(\"advection_croissance.lata\", \"Pseudocolor\", \"CONCENTRATION_INTERFACE_ELEM_INTERFACES\", plotmesh=False)"
   ]
  },
  {
   "cell_type": "code",
   "execution_count": null,
   "id": "e3928f4a",
   "metadata": {},
   "outputs": [],
   "source": [
    "visit.showField(\"advection_decroissance.lata\", \"Pseudocolor\", \"CONCENTRATION_INTERFACE_ELEM_INTERFACES\", plotmesh=False)"
   ]
  },
  {
   "cell_type": "code",
   "execution_count": null,
   "id": "152a4afb",
   "metadata": {},
   "outputs": [],
   "source": []
  },
  {
   "cell_type": "code",
   "execution_count": null,
   "id": "520af376",
   "metadata": {},
   "outputs": [],
   "source": []
  },
  {
   "cell_type": "code",
   "execution_count": null,
   "id": "32680ff6-7195-4209-a9a5-98cbcf64715f",
   "metadata": {},
   "outputs": [],
   "source": []
  }
 ],
 "metadata": {
  "kernelspec": {
   "display_name": "Python 3 (ipykernel)",
   "language": "python",
   "name": "python3"
  },
  "language_info": {
   "codemirror_mode": {
    "name": "ipython",
    "version": 3
   },
   "file_extension": ".py",
   "mimetype": "text/x-python",
   "name": "python",
   "nbconvert_exporter": "python",
   "pygments_lexer": "ipython3",
   "version": "3.12.5"
  }
 },
 "nbformat": 4,
 "nbformat_minor": 5
}
