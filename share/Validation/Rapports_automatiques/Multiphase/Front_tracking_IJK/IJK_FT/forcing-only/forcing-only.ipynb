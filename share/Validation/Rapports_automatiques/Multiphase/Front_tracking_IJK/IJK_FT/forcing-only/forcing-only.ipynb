{
 "cells": [
  {
   "cell_type": "markdown",
   "id": "8ac30d61",
   "metadata": {},
   "source": [
    "# forcage-seul test case\n"
   ]
  },
  {
   "cell_type": "markdown",
   "id": "803f4555",
   "metadata": {},
   "source": [
    "## Introduction\n",
    " \n",
    " Validation made by: ab256925\n",
    "\n",
    " Report generated 31/01/2024"
   ]
  },
  {
   "cell_type": "markdown",
   "id": "0bacd5bb",
   "metadata": {},
   "source": [
    "### Description\n",
    " \n",
    "Sketch of a classic jupyter validation form with main example of validation.\n",
    "\n",
    "For additional information, please consult validation form documentation with <code>Run_fiche -doc</code> and report to the more detailed tutorial in $TRUST_ROOT/Validation/Rapports_automatiques/Verification/SampleFormJupyter."
   ]
  },
  {
   "cell_type": "code",
   "execution_count": null,
   "id": "97420a48",
   "metadata": {},
   "outputs": [],
   "source": [
    "from trustutils import run \n",
    " \n",
    "run.TRUST_parameters(\"1.9.4_beta\")"
   ]
  },
  {
   "cell_type": "code",
   "execution_count": null,
   "id": "7e4f0f69",
   "metadata": {},
   "outputs": [],
   "source": [
    "run.reset()\n",
    "run.initBuildDirectory()\n",
    "run.addCase(\".\", \"DNS_thi.data\", nbProcs=1) \n",
    "run.printCases()\n",
    "run.runCases()"
   ]
  },
  {
   "cell_type": "markdown",
   "id": "6c66f9ca",
   "metadata": {},
   "source": [
    "## Computer Performance"
   ]
  },
  {
   "cell_type": "code",
   "execution_count": null,
   "id": "09dc67d4",
   "metadata": {},
   "outputs": [],
   "source": [
    "run.tablePerf()"
   ]
  },
  {
   "cell_type": "markdown",
   "id": "13b69210",
   "metadata": {},
   "source": [
    "Visu visit"
   ]
  },
  {
   "cell_type": "code",
   "execution_count": null,
   "id": "dc6071f8",
   "metadata": {},
   "outputs": [],
   "source": [
    "from trustutils import visit\n",
    "visit.showMesh(\"DNS_thi.lata\", \"DOM\")"
   ]
  },
  {
   "cell_type": "code",
   "execution_count": null,
   "id": "0e0f72c3",
   "metadata": {},
   "outputs": [],
   "source": [
    "visit.showField(\"DNS_thi.lata\", \"Pseudocolor\", \"CELL_FORCE_PH_X_ELEM_DOM\", plotmesh=False)"
   ]
  }
 ],
 "metadata": {
  "kernelspec": {
   "display_name": "Python 3 (ipykernel)",
   "language": "python",
   "name": "python3"
  },
  "language_info": {
   "codemirror_mode": {
    "name": "ipython",
    "version": 3
   },
   "file_extension": ".py",
   "mimetype": "text/x-python",
   "name": "python",
   "nbconvert_exporter": "python",
   "pygments_lexer": "ipython3",
   "version": "3.7.16"
  }
 },
 "nbformat": 4,
 "nbformat_minor": 5
}
