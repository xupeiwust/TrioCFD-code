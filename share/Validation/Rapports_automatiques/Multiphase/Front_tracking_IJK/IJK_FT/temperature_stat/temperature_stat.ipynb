{
 "cells": [
  {
   "cell_type": "markdown",
   "id": "e7010b5f",
   "metadata": {},
   "source": [
    "# Fiche de validation des statistiques de la temperature"
   ]
  },
  {
   "cell_type": "markdown",
   "id": "25833df5",
   "metadata": {},
   "source": [
    "## Introduction\n",
    " \n",
    " Validation made by: A.S.\n",
    " \n",
    " Report generated 11/04/2025\n",
    "\n",
    " Ported to jupyter from prm by Téo Boutin.\n",
    "\n",
    "For now, this does not seem to be testing restart of temperature stats properly. It only checks that the related keywords are understood by TrioCFD I think. TODO later"
   ]
  },
  {
   "cell_type": "markdown",
   "id": "c0ede852",
   "metadata": {},
   "source": [
    "### TRUST parameters\n",
    " \n",
    "* Version TRUST :  \n"
   ]
  },
  {
   "cell_type": "code",
   "execution_count": null,
   "id": "65b78d12",
   "metadata": {},
   "outputs": [],
   "source": [
    "from trustutils import run\n",
    "\n",
    "\n",
    "run.reset()\n",
    "run.initBuildDirectory()\n",
    "\n",
    "\n",
    "run.executeCommand(\"trust test.data\")\n",
    "run.executeCommand(\"trust test_par2.data 2\")\n"
   ]
  },
  {
   "cell_type": "code",
   "execution_count": null,
   "id": "90573f74-81ab-4690-81e4-447fb2ccf9ac",
   "metadata": {},
   "outputs": [],
   "source": [
    "\n",
    "run.addCase(\".\",\"reprise.data\")\n",
    "run.addCase(\".\",\"reprise_par2.data\",nbProcs=2)\n",
    "run.printCases()\n",
    "run.runCases()"
   ]
  },
  {
   "cell_type": "markdown",
   "id": "217982ec",
   "metadata": {},
   "source": [
    "## Test 1\n",
    " \n",
    "Cas test sans interface avec un init.lata vide\n",
    "\n"
   ]
  },
  {
   "cell_type": "markdown",
   "id": "c0af13c1",
   "metadata": {},
   "source": [
    "### Fin de la reprise parallele\n",
    " \n",
    " "
   ]
  },
  {
   "cell_type": "code",
   "execution_count": null,
   "id": "67d73df4",
   "metadata": {},
   "outputs": [],
   "source": [
    "from trustutils import visit\n",
    " \n",
    "visu = visit.Show(\"reprise_par2.lata\",\"Mesh\",\"DOM\")\n",
    "visu.normal3D([0,1,0])\n",
    "visu.up3D([1,0,0])\n",
    "visu.zoom3D([0,0,1.])\n",
    "visu.addField(\"reprise_par2.lata\",\"Pseudocolor\",\"TEMPERATURE_0_ELEM_DOM\",mesh=\"DOM\")\n",
    "visu.slice(origin=[0.,0.,0.],normal=[0.,1.,0.],type_op=\"slice\")\n",
    "\n",
    "visu.plot()"
   ]
  }
 ],
 "metadata": {
  "kernelspec": {
   "display_name": "Python 3 (ipykernel)",
   "language": "python",
   "name": "python3"
  },
  "language_info": {
   "codemirror_mode": {
    "name": "ipython",
    "version": 3
   },
   "file_extension": ".py",
   "mimetype": "text/x-python",
   "name": "python",
   "nbconvert_exporter": "python",
   "pygments_lexer": "ipython3",
   "version": "3.12.5"
  },
  "title": "Fiche de validation des statistiques de la temperature"
 },
 "nbformat": 4,
 "nbformat_minor": 5
}
