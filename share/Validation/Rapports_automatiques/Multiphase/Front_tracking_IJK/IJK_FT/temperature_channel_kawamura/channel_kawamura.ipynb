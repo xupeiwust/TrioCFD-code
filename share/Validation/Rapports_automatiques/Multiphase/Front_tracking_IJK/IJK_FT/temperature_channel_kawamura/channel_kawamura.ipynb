{
 "cells": [
  {
   "cell_type": "markdown",
   "id": "20f4968a",
   "metadata": {},
   "source": [
    "# Channel flow with heat transfer: single-phase reference."
   ]
  },
  {
   "cell_type": "markdown",
   "id": "89ae34ad",
   "metadata": {},
   "source": [
    "## Introduction\n",
    " \n",
    " Validation made by: Guillaume BOIS (gb218285)\n",
    "\n",
    " Report created on 12/02/2025"
   ]
  },
  {
   "cell_type": "markdown",
   "id": "6bb5e881",
   "metadata": {},
   "source": [
    "### TRUST parameters\n",
    " \n",
    "* Version TRUST :  1.9.6_beta\n"
   ]
  },
  {
   "cell_type": "markdown",
   "id": "68775d53-46c6-4d88-8124-2ff91b97572c",
   "metadata": {},
   "source": [
    "### Description\n",
    "\n",
    "This test case is inspired from the single- and two-phase channels studied by Sonolet (2023), see chap. 2 and in particular Sec 2.3.\n",
    "The channel dimensions are $2\\pi h\\times \\pi h\\times 2h$ with the channel half-width $h=5~\\text{mm}$.\n",
    "\n",
    "The flow is sustained by a source term, initially $S_0 = \\tau_w/h = 0.010179478266401963 / 0.005 =2.0358956532803925 $ but for a better statistical convergence, it evolves in time according to an ad-hoc law including damping : \n",
    "\\begin{equation}\n",
    "\\frac{\\partial S(t)}{\\partial t} = 59438 (0.06468292398802113-\\left\\langle u\\right\\rangle)+20. (2.0358956532803925-S(t)) \n",
    "\\end{equation}\n",
    "This physical setup is the same as the coarse case of sec. 2.3 of Sonolet (2023)$. It allows measurements of the effect of channel turbulence.\n",
    "\n",
    "To reduce the cost, the coarsest case from Sonolet (2023) is further reduced (by 6 in wall normal direction) from $192 \\times 96 \\times 576$ to $192 \\times 96 \\times 96$, resulting in domain of $\\approx 1.78$Mons elements.\n",
    "\n",
    "For the time being, this case is run with an Euler Explicit time-scheme instead of RK3 used by Sonolet (2023).\n",
    "\n",
    "The Reynolds friction number is controlled around $Re_\\tau = 180$.\n",
    "An incoming wall flux $q_w=1W/m^2$ is prescribed at both walls. \n",
    "The keyword `wall_flux` is set to impose a sink of energy compensating incoming fluxes. \n",
    "\n",
    "The temperature is rendered dimensionless by \n",
    "\\begin{equation}\n",
    "T^+ = \\frac{T \\rho C_p u_\\tau}{q_w}\n",
    "\\end{equation}\n",
    "\n",
    "The initial solution is the result of a coarsening of an estabilished solution obtained by Sonolet (2023). \n",
    "The problem `switch_ft_double`in the test case `switch.data` is used to check the functionality of interpolating the very-coarse solution used here back to its initial mesh M0 (Tab 2.2, Sonolet, 2023).\n",
    "\n",
    "Only 3 liquid Prandtl numbers are considered from the original list, thus recovering the corresponding temperature fields for $Pr=1, \\, 0.1, \\, 2.615$.\n"
   ]
  },
  {
   "cell_type": "code",
   "execution_count": null,
   "id": "1382f8ea-2a48-4fc3-9dc6-41cd5a1780db",
   "metadata": {},
   "outputs": [],
   "source": [
    "rhol=594.38\n",
    "lda=1\n",
    "cp=1.46355028026988002e+05\n",
    "mul=6.8327e-5\n",
    "conserved_cases = [2,4,7]\n",
    "print(\"SIMULATIONS FROM SONOLET 2023\")\n",
    "for i,cp in enumerate([1.46355028026988002e+05\n",
    "    , 2.06133842291531982e+04\n",
    "    , 1.46355028026988002e+04\n",
    "    , 7.31775140134940011e+03\n",
    "    , 1.46355028026987998e+03\n",
    "    , 1.03912069899160997e+04\n",
    "    , 2.92710056053975995e+03\n",
    "    , 3.82789450583224971e+04]) :\n",
    "    Pr=(mul*cp/lda)\n",
    "    if (i in conserved_cases):\n",
    "        print(f\"cp={cp} and Pr={Pr}\")"
   ]
  },
  {
   "cell_type": "code",
   "execution_count": null,
   "id": "ed3d79eb-7da0-4b82-a771-a249669e8706",
   "metadata": {},
   "outputs": [],
   "source": [
    "# prepare"
   ]
  },
  {
   "cell_type": "code",
   "execution_count": null,
   "id": "645045e9",
   "metadata": {
    "scrolled": true
   },
   "outputs": [],
   "source": [
    "from trustutils import run\n",
    " \n",
    "run.reset() \n",
    "run.addCase(\".\",\"test.data\",nbProcs=8)\n",
    "\n",
    "# Tester un pre_run avec un seuil du solver plus lache si la reprise après le switch est trop diffile pour le solveur de pression\n",
    "#dic_pre = {\"procs\":\"1 1 1\", \"nb_pas\": 1, \"timestep\":1.e-8, \"repr_file\":\"very_coarse.sauv.lata\", \\\n",
    "#          \"seuil_gros\":1.e-3 , \"seuil_AMG\":1.e-2 , \\\n",
    "#           \"# projection_initiale #\":\"projection_initiale\" }\n",
    "#run.addCaseFromTemplate(\"template_kawa.data\",\".\",dic_pre, nbProcs=1, targetData=\"pre_run.data\")\n",
    "\n",
    "dic_cas = {\"procs\":\"3 3 1\", \"nb_pas\": 8000, \"timestep\":1., \"repr_file\":\"very_coarse.sauv.lata\", \\\n",
    "          \"seuil_gros\":1e-8 , \"seuil_AMG\":1e-7 }\n",
    "run.addCaseFromTemplate(\"template_kawa.data\",\".\",dic_cas, nbProcs=9,targetData=\"temperature_channel_monop.data\")\n",
    "run.addCase(\".\",\"switch.data\",nbProcs=9)\n",
    "run.executeCommand(\"tar xzf sauv_lata.tgz\",verbose=1)\n",
    "#run.executeCommand(\"sed -i \\\"/rank_reprise_temperature/d\\\" temperature_channel_monop.data\")\n",
    "run.printCases()\n",
    "run.runCases() # Mettre prevent_concurrent si pre_run.data et changer \"repr_file\":\"very_coarse dans dic_cas par \"pre_run\""
   ]
  },
  {
   "cell_type": "markdown",
   "id": "b34abb85-d2e5-468c-81ed-9c23b3d89aba",
   "metadata": {},
   "source": [
    "# Single-phase results"
   ]
  },
  {
   "cell_type": "markdown",
   "id": "80835c12",
   "metadata": {},
   "source": [
    "### Canal : Lambda2 (structures turbulentes)\n",
    " \n",
    " "
   ]
  },
  {
   "cell_type": "code",
   "execution_count": null,
   "id": "ae6bc638",
   "metadata": {},
   "outputs": [],
   "source": [
    "from trustutils import visit\n",
    " \n",
    "# visu = visit.Show(\"temperature_channel_monop.lata\",\"Contour\",\"LAMBDA2_ELEM_DOM\",nX=2, subtitle=\"Final state\", iteration=-1, plotmesh=False)\n",
    "visu = visit.Show(\"temperature_channel_monop.lata\",\"Contour\",\"LAMBDA2_ELEM_DOM\",iteration=-1, plotmesh=False)\n",
    "visu.visitCommand(\"ContourAtts = ContourAttributes()\")\n",
    "visu.visitCommand(\"ContourAtts.contourMethod = ContourAtts.Value\")\n",
    "visu.visitCommand(\"ContourAtts.contourNLevels = 10\")\n",
    "visu.visitCommand(\"ContourAtts.contourValue = (-200, 200)\")\n",
    "visu.visitCommand(\"SetPlotOptions(ContourAtts)\")\n",
    "visu.normal3D([0,1,0])\n",
    "visu.up3D([0,0,-1])\n",
    "visu.zoom3D([0,0,1.])\n",
    "visu.plot()"
   ]
  },
  {
   "cell_type": "markdown",
   "id": "cc01db2b",
   "metadata": {},
   "source": [
    "## Resultats champs de vitesse et temperature\n",
    "### Etat final (vz et T)"
   ]
  },
  {
   "cell_type": "code",
   "execution_count": null,
   "id": "3c387f97",
   "metadata": {},
   "outputs": [],
   "source": [
    "from trustutils import visit\n",
    "\n",
    "for iters in [0,-1]:\n",
    "    visu = visit.Show(\"temperature_channel_monop.lata\",\"Pseudocolor\",\"VELOCITY_X_FACES_DOM_dual\",mesh=\"DOM\", iteration=iters)\n",
    "    visu.normal3D([0,1,0])\n",
    "    visu.up3D([0,0,-1])\n",
    "    visu.zoom3D([0,0,1.])\n",
    "    visu.plot()\n",
    "\n",
    "    for var in [\"TEMPERATURE\", \"TEMPERATURE_ADIMENSIONNELLE_THETA\"]:\n",
    "        for i in range(3):\n",
    "            visu = visit.Show(\"temperature_channel_monop.lata\",\"Pseudocolor\",f\"{var}_{i}_ELEM_DOM\",iteration=iters, plotmesh=False)\n",
    "            visu.normal3D([0,1,0])\n",
    "            visu.up3D([0,0,-1])\n",
    "            visu.zoom3D([0,0,1.])\n",
    "            visu.plot()"
   ]
  },
  {
   "cell_type": "markdown",
   "id": "78ad5d89",
   "metadata": {},
   "source": [
    "## Resultats convergence en temps\n",
    " \n"
   ]
  },
  {
   "cell_type": "code",
   "execution_count": null,
   "id": "c6fe3f6c",
   "metadata": {},
   "outputs": [],
   "source": [
    "from trustutils import plot \n",
    "\n",
    "data = plot.loadText(\"temperature_channel_monop_acceleration.out\") \n",
    "t=data[1]\n",
    "ub=(data[2])\n",
    "tp=data[6]\n",
    "S=data[7]\n",
    "tauw=data[4]\n",
    "t-=t[0]\n",
    "tp-=tp[0]\n",
    "\n",
    "trange=[t[0],t[-1]]\n",
    "\n",
    "fig = plot.Graph(r\"debit en fonction du temps\") \n",
    "fig.add(t,ub,label=r\"Simu\",marker='+')\n",
    "fig.add(trange,[0.06468292398802113, 0.06468292398802113],label=r\"target\",marker='-')\n",
    "fig.label(r\"$t^+$ [s]\",r\"Bulk velocity $\\left\\langle u\\right\\rangle$ [m/s]\")\n",
    "\n",
    "fig = plot.Graph(r\"Wall-friction\") \n",
    "fig.add(t,tauw,label=r\"Simu\",marker='+')\n",
    "fig.add(trange,[0.010179478266401963, 0.010179478266401963],label=r\"target\",marker='-')\n",
    "fig.label(r\"$t^+$ [s]\",r\"Wall-friction $\\tau_w$ [...]\")\n",
    "\n",
    "fig = plot.Graph(r\"Source term\") \n",
    "fig.add(tp,S,label=r\"Simu\",marker='+')\n",
    "fig.add(trange,[2.0358956532803925, 2.0358956532803925],label=r\"target\",marker='-')\n",
    "fig.label(r\"$t^+$ [s]\",r\"Source $S$ [??]\")\n"
   ]
  },
  {
   "cell_type": "markdown",
   "id": "10775e09",
   "metadata": {},
   "source": [
    "# Statistical quantities\n",
    "\n",
    "Here, $U$ is the streamwise velocity, and $W$ the wall-normal component.\n",
    "Thus, $\\overline{u'u'}$ are streamwise Reynolds stresses while $\\overline{u'w'}$ are shear cross-correlations"
   ]
  },
  {
   "cell_type": "code",
   "execution_count": null,
   "id": "ef7cfb4e",
   "metadata": {},
   "outputs": [],
   "source": [
    "from trustutils import plot \n",
    "tini = 278.260172\n",
    "tfin = 278.321976\n",
    "moy = plot.loadText(f\"monophasique_statistiques_{tfin}.txt\")\n",
    "inst_ini = plot.loadText(f\"monophasique_moyenne_spatiale_{tini}.txt\")\n",
    "inst_fin = plot.loadText(f\"monophasique_moyenne_spatiale_{tfin}.txt\")\n",
    "z = moy[0]\n",
    "\n",
    "colors=['r', 'g', 'b']\n",
    "\n",
    "fig = plot.Graph(r\"Velocity across the channel\") \n",
    "for i,u in enumerate([\"U\", \"V\", \"W\"]):\n",
    "    fig.add(z,(moy[i+2]),label=r\"\"+f\"mean {u}\",marker='-', color=colors[i])\n",
    "    fig.add(z,(inst_ini[i+2]),label=r\"\"+f\"ini {u}\",marker='+', color=colors[i])\n",
    "    fig.add(z,(inst_fin[i+2]),label=r\"\"+f\"mean {u}\",marker='x', color=colors[i])\n",
    "    \n",
    "fig.label(r\"z\",r\"Velocities\")\n",
    "\n",
    "# To see something on such a short time, let's do deviations from the mean\n",
    "fig = plot.Graph(r\"Deviations Velocity across the channel\") \n",
    "for i,u in enumerate([\"U\", \"V\", \"W\"]):\n",
    "    fig.add(z,(inst_ini[i+2]-moy[i+2]),label=r\"\"+f\"ini {u}\",marker='+', color=colors[i])\n",
    "    fig.add(z,(inst_fin[i+2]-moy[i+2]),label=r\"\"+f\"mean {u}\",marker='x', color=colors[i])\n",
    "fig.label(r\"z\",r\"Velocities deviations : $u-\\overline{u}$\")\n",
    "\n",
    "# Cross-correlation:\n",
    "fig = plot.Graph(r\"Cross-correlation\") \n",
    "uvp = moy[13]-moy[2]*moy[3]\n",
    "uwp = moy[15]-moy[2]*moy[4]\n",
    "uup = moy[10]-moy[2]*moy[2]\n",
    "fig.add(z,uup,marker='-', label=r\"$\\overline{u'u'}=\\overline{uu}-\\overline{u}\\,\\overline{u}$\", color=colors[0])\n",
    "fig.add(z,uvp,marker='-', label=r\"$\\overline{u'v'}=\\overline{uv}-\\overline{u}\\,\\overline{v}$\", color=colors[1])\n",
    "fig.add(z,uwp,marker='-', label=r\"$\\overline{u'w'}=\\overline{uw}-\\overline{u}\\,\\overline{w}$\", color=colors[2])\n",
    "fig.label(r\"z\",r\"Cross-correlation\")\n",
    "\n"
   ]
  },
  {
   "cell_type": "code",
   "execution_count": null,
   "id": "ed8104ba-2f92-43cd-9df5-53f03e9c3300",
   "metadata": {},
   "outputs": [],
   "source": [
    "# Thermals stats\n",
    "import numpy as np\n",
    "ths = range(2)\n",
    "\n",
    "fig = plot.Graph(r\"Temperatures\") \n",
    "fig2 = plot.Graph(r\"Temperatures RMS\") \n",
    "for idx in ths:\n",
    "    moy = plot.loadText(f\"monophasique_statistiques_thermique_{idx}_{tfin}.txt\")\n",
    "    inst_ini = plot.loadText(f\"monophasique_moyenne_spatiale_thermique_{idx}_{tini}.txt\")\n",
    "    inst_fin = plot.loadText(f\"monophasique_moyenne_spatiale_thermique_{idx}_{tfin}.txt\")\n",
    "    fig.add(z,(moy[1]-moy[1][0]),label=r\"\"+f\"mean T\",marker='-', color=colors[idx])\n",
    "    fig.add(z,(inst_ini[1]-inst_ini[1]),label=r\"\"+f\"ini T\",marker='+', color=colors[idx])\n",
    "    fig.add(z,(inst_fin[1]-inst_fin[1][0]),label=r\"\"+f\"finale T\",marker='x', color=colors[idx])\n",
    "\n",
    "    Trms = np.sqrt(moy[2]-moy[1]*moy[1])\n",
    "    fig2.add(z,(Trms),label=r\"\"+f\"mean T\",marker='-', color=colors[idx])\n",
    "    Trms = np.sqrt(inst_ini[2]-inst_ini[1]*inst_ini[1])\n",
    "    fig2.add(z,(Trms),label=r\"\"+f\"ini T\",marker='+', color=colors[idx])\n",
    "    Trms = np.sqrt(inst_fin[2]-inst_fin[1]*inst_fin[1])\n",
    "    fig2.add(z,(Trms),label=r\"\"+f\"fin T\",marker='x', color=colors[idx])\n",
    "    \n",
    "fig.label(r\"z\",r\"Temperature difference $T-T_{wall}$\")\n",
    "fig2.label(r\"z\",r\"Temperature RMS\")\n"
   ]
  },
  {
   "cell_type": "markdown",
   "id": "c73d44bf-b8e2-4ddf-8419-2efda73fdf4f",
   "metadata": {},
   "source": [
    "# TODO\n",
    "\n",
    "Log-log mean velocity profile (see Fig. 2.2b from Sonolet (2023))\n",
    "\n",
    "Velocity fluctuations in the channel (see Figs. 2.3-2.4 from Sonolet (2023))\n",
    "\n",
    "Temperature dimensionless velocity profile (see Fig. 2.6-2.7 from Sonolet (2023))\n",
    "\n",
    "Correlations velocity/temperature (see Fig. 2.8 from Sonolet (2023))\n",
    "\n",
    "Energy budget (see Fig. 2.9 from Sonolet (2023))"
   ]
  },
  {
   "cell_type": "code",
   "execution_count": null,
   "id": "963c4100-c1e4-4dc1-ace1-30a78ed39f94",
   "metadata": {},
   "outputs": [],
   "source": []
  }
 ],
 "metadata": {
  "kernelspec": {
   "display_name": "Python 3 (ipykernel)",
   "language": "python",
   "name": "python3"
  },
  "language_info": {
   "codemirror_mode": {
    "name": "ipython",
    "version": 3
   },
   "file_extension": ".py",
   "mimetype": "text/x-python",
   "name": "python",
   "nbconvert_exporter": "python",
   "pygments_lexer": "ipython3",
   "version": "3.12.5"
  },
  "title": "Ecoulement à bulles en canal / en essaim de bulles libres / en essaim de bulles fixes"
 },
 "nbformat": 4,
 "nbformat_minor": 5
}
