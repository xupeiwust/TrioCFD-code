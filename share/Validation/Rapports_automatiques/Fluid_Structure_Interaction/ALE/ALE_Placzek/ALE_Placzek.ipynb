{
 "cells": [
  {
   "cell_type": "markdown",
   "id": "36cf76f5",
   "metadata": {},
   "source": [
    "## Purpose \n",
    " \n",
    "The purpose is to assess the robustness of the ALE module implemented in TrioCFD, considering the case of a single oscillating cylinder subject to an incident laminar cross-flow. The results of our 2D numerical simulations are compared to those in [1] obtained with STAR-CCM.\n",
    "\n",
    " Validation made by : M. A. Puscas \n",
    " \n",
    " Report generated  19/11/2024\n"
   ]
  },
  {
   "cell_type": "code",
   "execution_count": null,
   "id": "c2162d91",
   "metadata": {},
   "outputs": [],
   "source": [
    "from trustutils import run\n",
    " \n",
    "run.reset() \n",
    "run.addCase(\"F_0.5\",\"ALE_Placzek.data\",nbProcs=4)\n",
    "run.addCase(\"F_0.9\",\"ALE_Placzek.data\",nbProcs=4)\n",
    "run.runCases()"
   ]
  },
  {
   "cell_type": "markdown",
   "id": "b52daed2",
   "metadata": {},
   "source": [
    "## Problem Description \n",
    " \n",
    "The domain used for the numerical simulations is the one in Figure 1.\n",
    "\n"
   ]
  },
  {
   "cell_type": "markdown",
   "id": "2feca5e7",
   "metadata": {},
   "source": [
    "### Geometry \n"
   ]
  },
  {
   "cell_type": "markdown",
   "id": "6a85ec55",
   "metadata": {},
   "source": [
    "![](src/pb_scheme.png)"
   ]
  },
  {
   "cell_type": "markdown",
   "id": "d0e6fc17",
   "metadata": {},
   "source": [
    "### Initial Conditions and Boundary Conditions \n"
   ]
  },
  {
   "cell_type": "markdown",
   "id": "69400987",
   "metadata": {},
   "source": [
    "We study the interaction between a moving cylinder and an incident cross-flow. The cylinder is imposed a sinusoidal displacement of frequency $F_0$ and amplitude $A$.  The frequency ratio is noted $f=F_0/F_s$ and the dimensionless amplitude is $A^*=A/D=0.25$. As in [1], our simulations are performed at a low Reynolds number $Re=DU_{\\infty}/\\nu=100$, with $U_{\\infty}$ the incident uniform fluid velocity. For such a low Reynolds number, the flow is 2D and laminar. The computations start from the final state of the solution obtained with the fixed cylinder (from which we find a Strouhal number $St=F_s D/U_\\infty= 0.167$, exactly as ref. [1]). The simulations are performed at different frequencies to cover both the lock-in and unlocked zones. A configuration is locked (resp. unlocked) if the frequency of the vortex shedding $F_s$ equals (resp. differs from) the frequency of the imposed cylinder displacement.\n"
   ]
  },
  {
   "cell_type": "markdown",
   "id": "96a86549",
   "metadata": {},
   "source": [
    "### Fluid Properties \n"
   ]
  },
  {
   "cell_type": "markdown",
   "id": "594ad994",
   "metadata": {},
   "source": [
    "The tube bundle is immersed in a Newtonian incompressible homogeneous fluid, with mass density $\\rho \\,(1000 \\,Kg/m^3 )$ and kinematic viscosity $\\nu \\,(10^{-6}\\, m^2/s)$.\n"
   ]
  },
  {
   "cell_type": "markdown",
   "id": "69f548f4",
   "metadata": {},
   "source": [
    "## Case Setup \n",
    " \n"
   ]
  },
  {
   "cell_type": "markdown",
   "id": "13c3d1fd",
   "metadata": {},
   "source": [
    "### Grid \n"
   ]
  },
  {
   "cell_type": "markdown",
   "id": "b7a17cff",
   "metadata": {},
   "source": [
    "A refined mesh is used in the regions with large gradient fields whereas a loose mesh is used in the areas with low gradient fields. \n"
   ]
  },
  {
   "cell_type": "markdown",
   "id": "013f02fe",
   "metadata": {},
   "source": [
    "Calculation has been partitioned on 4 processors, such that each processor worked with 20000-30000 elements.\n"
   ]
  },
  {
   "cell_type": "markdown",
   "id": "1ab47571",
   "metadata": {},
   "source": [
    "### Model Options \n"
   ]
  },
  {
   "cell_type": "markdown",
   "id": "6515e38a",
   "metadata": {},
   "source": [
    "The fluid problem with moving boundaries is handled by the Arbitrary Lagrangian-Eulerian (ALE) method.\n"
   ]
  },
  {
   "cell_type": "markdown",
   "id": "b6967759",
   "metadata": {},
   "source": [
    "In the ALE approach, the fluid flow is computed in a domain that is deformed in order to follow the movement of the fluid-solid interface. It provides a hybrid description not associated with the fluid particles and the laboratory coordinates. We associate the description with a moving imaginary mesh that follows the fluid domain.\n"
   ]
  },
  {
   "cell_type": "markdown",
   "id": "5cc1b618",
   "metadata": {},
   "source": [
    "## Results \n",
    "### Validation Specific Informations \n",
    "* Version TRUST : 1.9.5 \n",
    "* Problem: Pb\\_hydraulique\\_ALE\n",
    "* Dimension: 2D\n",
    "* Domain: Domaine\\_ALE\n",
    "* Pressure solver: Solver\\_moving\\_mesh\\_ALE PETSC Cholesky\n",
    "* Discretization: VEFPre1B\n",
    "* Time scheme: Scheme\\_euler\\_implicit with solver implicite\\_ALE GMRES\n",
    "* Medium: Fluide\\_Incompressible\n",
    "* Hydraulic problem: Navier\\_Stokes\\_standard\\_ALE\n",
    "* Convection scheme: ALE muscl\n",
    "* Generated Test cases : \n",
    "\t- F\\_0.5/ALE\\_Placzek.data :  \n",
    "\t- F\\_0.9/ALE\\_Placzek.data :  \n"
   ]
  },
  {
   "cell_type": "markdown",
   "id": "62156256",
   "metadata": {},
   "source": [
    "### Performance Chart\n",
    " \n",
    " "
   ]
  },
  {
   "cell_type": "code",
   "execution_count": null,
   "id": "4165a620",
   "metadata": {},
   "outputs": [],
   "source": [
    "run.tablePerf()"
   ]
  },
  {
   "cell_type": "markdown",
   "id": "01a19c4a",
   "metadata": {},
   "source": [
    "### Plot Data \n",
    " \n"
   ]
  },
  {
   "cell_type": "markdown",
   "id": "ca2c9a08",
   "metadata": {},
   "source": [
    "#### Locked configuration\n"
   ]
  },
  {
   "cell_type": "markdown",
   "id": "18a4ffd5",
   "metadata": {},
   "source": [
    "In order to highlight the lock-in phenomenous, the Power Spectral Density (PSD) is used. We can see that for $f=0.9$ there is only one peak at $f*=1$ i.e. at $f_0$ because $f*=f/f_0$ which shows that the vortex shedding is governed by the forced oscillation. The phase portraits also show that, indeed the cycle is well defined.\n"
   ]
  },
  {
   "cell_type": "markdown",
   "id": "c25a5f86-519c-4009-a6df-3badaec00698",
   "metadata": {},
   "source": [
    "![](build/ReferenceSolution/ref_F0.9.png)\n",
    "\n",
    "Locked configuration, $f=0.9$. Evolution of the lift coeﬃcient (ﬁrst column) and its PSD (second column). Reference solution [1]."
   ]
  },
  {
   "cell_type": "code",
   "execution_count": null,
   "id": "61fcf852-d2b8-4225-88ea-25928ba7b739",
   "metadata": {},
   "outputs": [],
   "source": [
    "import numpy as np\n",
    "import matplotlib.pyplot as plt\n",
    "from scipy import signal\n",
    "\n"
   ]
  },
  {
   "cell_type": "code",
   "execution_count": null,
   "id": "da33d3ea-7927-455e-82ca-46423cbc354b",
   "metadata": {},
   "outputs": [],
   "source": [
    "\n",
    "##Import des données\n",
    "\n",
    "F_p=np.loadtxt(run.BUILD_DIRECTORY + '/F_0.9/ALE_Placzek_pb_Force_pression.out') #Force de pression\n",
    "\n",
    "Fv_p = np.loadtxt(run.BUILD_DIRECTORY + '/F_0.9/ALE_Placzek_pb_Contrainte_visqueuse.out') #Contrainte visqueuse\n",
    "\n",
    "placzek = np.loadtxt(run.BUILD_DIRECTORY + '/ReferenceSolution/Placzek_Cl_alpha_0.9.dat')\n",
    "\n",
    "##Paramètres de l'étude\n",
    "\n",
    "Reynolds=100       #Reynolds number \n",
    "D=0.001             #cylinder diameter\n",
    "nu=1.e-6            #cinematic viscosity\n",
    "rho=1000            #volumic mass\n",
    "\n",
    "V=nu*Reynolds/D     #inlet velocity\n",
    "f_v = 16.87        #Strouhal frequency\n",
    "\n",
    "## Paramètres à changer\n",
    "KC=0.25            #Kalegan Karpenter number (A/D)\n",
    "f0=f_v*0.9           #imposed frequency on the cylinder\n",
    "nb_p_i=25        #number of period to ignore\n",
    "\n",
    "omega=2*np.pi*f0      #pulsation\n",
    "A=KC*D             #displacment amplitude\n",
    "T=1/f0             #oscillation period \n",
    "ti=T*nb_p_i        #start time to compute coefficient \n",
    "\n",
    "\n",
    "# How many period are available ?\n",
    "nb_p=1\n",
    "for i in range(len(F_p[:,0])):\n",
    "\tt=F_p[i,0]\n",
    "\tif t > nb_p*T:\n",
    "\t\tnb_p=nb_p+1\n",
    "\t\tl=i            #the indice of the time corresponding to the period-ending is kept\n",
    "tf=nb_p*T          #final time to compute coefficient \n",
    "\n",
    "#data selection in the time interval asked\n",
    "t=0\n",
    "i=0\n",
    "while t < ti:\n",
    "\tt=F_p[i,0]\n",
    "\ti=i+1\n",
    "\n",
    "\n",
    "\n",
    "\n",
    "##sélection des données\n",
    "t= F_p[i:l,0]       #time\n",
    "Fx=F_p[i:l,1]      #pressure force x direction\n",
    "Fv_x=Fv_p[i:l,1]    #viscous force x direction\n",
    "Fy=F_p[i:l,2]       #pressure force y direction\n",
    "Fv_y=Fv_p[i:l,2]    #viscous force y direction\n",
    "\n",
    "alpha=KC*np.sin(omega*t) #+np.full_like(t,np.pi)# #vertical displacement\n",
    "v_ale=KC*omega*np.cos(omega*t) #vertical speed\n",
    "\n",
    "Fx_t=Fx+Fv_x                #total force x direction\n",
    "Fy_t=Fy+Fv_y                #total force y direction\n",
    "\n",
    "\n",
    "\n",
    "##-------Drag------- \n",
    "Drag_mean=np.mean(Fx_t) \n",
    "Drag_std=np.std(Fx_t) \n",
    "\n",
    "Cd=Fx_t/(0.5*rho*V*V*D) \n",
    "Cd_mean=np.mean(Cd) \n",
    "Cd_std=np.std(Cd) \n",
    "\n",
    "# print(f'Cd moyen = {Cd_mean}')\n",
    "\n",
    " ##-------Lift------- \n",
    "Lift_mean=np.mean(Fy_t) \n",
    "Lift_std=np.std(Fy_t) \n",
    "\n",
    "Cl_brut=(Fy+Fv_y)/(0.5*rho*V*V*D) \n",
    "\n",
    "# Fenêtre de lissage (nombre de points à utiliser pour la moyenne mobile)\n",
    "window = 12\n",
    "\n",
    "# Calcul de la moyenne mobile\n",
    "Cl = np.convolve(Cl_brut, np.ones(window)/window, mode='valid')\n",
    "\n",
    "Cl_mean=np.mean(Cl) \n",
    "Cl_std=np.std(Cl) \n",
    "Cl_peak=np.max(Cl)\n",
    "\n",
    "#print(f'Cl max = {Cl_peak}')\n",
    "\n",
    "DataOut = np.column_stack((round(Cd_mean,3),round(Cl_peak,3)))\n",
    "np.savetxt(run.BUILD_DIRECTORY + '/F_0.9/Cd_Cl.txt', DataOut)\n",
    "\n",
    "\n",
    "# Color settings (CEA colors)\n",
    "\n",
    "# Primary colours\n",
    "\n",
    "cea_red = (229/255,0,25/255)\n",
    "cea_black = (0,0,0)\n",
    "cea_white = (1,1,1)\n",
    "cea_darkblue = (62/255,74/255,131/255)\n",
    "cea_lightblue = (126/255,156/255,187/255)\n",
    "cea_darkgrey = (38/255,38/255,38/255)\n",
    "cea_yellow = (1,205/255,49/255)\n",
    "\n",
    "# Additional ones\n",
    "macaron = (218/255,131/255,123/255)\n",
    "archipel = (0,147/255,157/255)\n",
    "glycine = (167/255,37/255,135/255)\n",
    "opera = (189/255,152/255,122/255)\n",
    "\n",
    "# Plot Settings\n",
    "A = 5.5 # Want figures to be A6\n",
    "plt.rc('figure', figsize=[46.82 * .5**(.5 * A), 33.11 * .5**(.5 * A)])\n",
    "plt.rc('text', usetex=True)\n",
    "\n",
    "plt.rc('font', family='serif', size=18) #font of axislabels and title, write r before label string\n",
    "\n",
    "\n",
    "#Cl en fonction de t\n",
    "plt.plot(t[window-1:]/T, Cl,color =cea_darkblue)\n",
    "plt.xlabel(r'$t/T_0$')\n",
    "plt.ylabel(r'$C_L$')\n",
    "plt.ylim(-0.8,0.8)\n",
    "plt.xlim(nb_p_i, nb_p)\n",
    "plt.grid(True)\n",
    "plt.tight_layout()\n",
    "plt.title(r'Locked configuration, $f=0.9$. Evolution of the lift coeﬃcient. Current study.')\n",
    "plt.savefig(run.BUILD_DIRECTORY + '/F_0.9/Cl.png', bbox_inches='tight')\n",
    "plt.figure()\n",
    "\n",
    "# Calculer la transformée de Fourier discrète (DFT) du signal\n",
    "fft_result = np.fft.fft(Cl)\n",
    "\n",
    "# Calculer la fréquence associée à chaque composante de la DFT\n",
    "frequencies = np.fft.fftfreq(len(Cl), np.mean(np.diff(t)))\n",
    "\n",
    "# Calculer la densité de puissance spectrale (PSD)\n",
    "psd = np.abs(fft_result)**2 / len(Cl)\n",
    "\n",
    "\n",
    "plt.plot(frequencies/f0, psd/max(psd),color = cea_darkblue)\n",
    "plt.xlabel(r'$F^*=f/f_0$')\n",
    "plt.xticks(np.arange(0, 5, 0.5))\n",
    "plt.ylim(0,1.1)\n",
    "plt.xlim(0,5)\n",
    "plt.ylabel(r'$PSD_n$')\n",
    "plt.grid(True)\n",
    "plt.tight_layout()\n",
    "plt.title(r'Locked configuration, $f=0.9$. Evolution of the normalised PSD. Current study.')\n",
    "plt.savefig(run.BUILD_DIRECTORY + '/F_0.9/PSD.png', bbox_inches='tight')\n",
    "plt.figure()\n",
    "\n",
    "#Cl en fonction de alpha\n",
    "\n",
    "plt.plot(alpha[window-1:] ,Cl, label=r'Current study', color=cea_darkblue, ls='-', zorder=1)\n",
    "plt.scatter(placzek[:,0], placzek[:,1], label = r'Ref. [1], Placzek',marker='+', color = cea_red, s=30, zorder=2)\n",
    "\n",
    "plt.xlabel(r'$\\alpha$')\n",
    "plt.ylabel(r'$C_L$')\n",
    "#plt.ylim(-2,2)\n",
    "plt.grid(True)\n",
    "plt.xticks(np.arange(-0.25, 0.3, 0.1))\n",
    "plt.yticks(np.arange(-0.15, 0.2, 0.05))\n",
    "plt.ylim(-0.16,0.16)\n",
    "plt.xlim(-0.3,0.3)\n",
    "plt.legend(loc='upper center', bbox_to_anchor=(0.45, -0.15), ncol=2, fontsize = 18)\n",
    "plt.tight_layout()\n",
    "plt.title(r'Locked configuration, $f=0.9$. Evolution of the associated phase portrait. Current study.')\n",
    "plt.savefig(run.BUILD_DIRECTORY + \"/F_0.9/Cl_alpha.png\", bbox_inches='tight')\n",
    "\n"
   ]
  },
  {
   "cell_type": "markdown",
   "id": "154c9499",
   "metadata": {},
   "source": [
    "#### Unlocked configuration\n"
   ]
  },
  {
   "cell_type": "markdown",
   "id": "d8bd6709",
   "metadata": {},
   "source": [
    " In order to get out of the lock-in zone, simulations at $f=0.5$ are performed. The lift coefficient is no longer only controlled by the forced oscillations. The lift coefficient signal is no longer purely sinusoidal, this can also be seen through the phase portraits which no longer have well defined limits. We can define the cycle-to-cycle period different from the period of the signal which can now extend over several oscillations (which we will call the beating period). For $F=0.5$, the Strouhal frequency from the fixed cylinder is placed at $f_s/f_0=1/F=2$. So we can see that the cycle-to-cycle period corresponds to the strouhal period $T_s=0.5T_0$ as found by ref. [1].\n"
   ]
  },
  {
   "cell_type": "markdown",
   "id": "dc9bb7f0",
   "metadata": {},
   "source": [
    "![](build/ReferenceSolution/ref_F0.5.png)\n",
    "\n",
    "Unlocked configuration, $f=0.5$. Evolution of the lift coeﬃcient (ﬁrst column) and its PSD (second column). Reference solution [1]."
   ]
  },
  {
   "cell_type": "code",
   "execution_count": null,
   "id": "db94de97-509a-4904-ac68-f5bdb2386f87",
   "metadata": {},
   "outputs": [],
   "source": [
    "import numpy as np\n",
    "import matplotlib.pyplot as plt\n",
    "from scipy import signal\n",
    "\n",
    "\n",
    "\n",
    "##Import des données\n",
    "\n",
    "F_p=np.loadtxt(run.BUILD_DIRECTORY + '/F_0.5/ALE_Placzek_pb_Force_pression.out') #Force de pression\n",
    "\n",
    "Fv_p = np.loadtxt(run.BUILD_DIRECTORY + '/F_0.5/ALE_Placzek_pb_Contrainte_visqueuse.out') #Contrainte visqueuse\n",
    "\n",
    "placzek = np.loadtxt(run.BUILD_DIRECTORY + '/ReferenceSolution/Placzek_Cl_alpha_0.5.dat')\n",
    "\n",
    "##Paramètres de l'étude\n",
    "\n",
    "Reynolds=100       #Reynolds number \n",
    "D=0.001             #cylinder diameter\n",
    "nu=1.e-6            #cinematic viscosity\n",
    "rho=1000            #volumic mass\n",
    "\n",
    "V=nu*Reynolds/D     #inlet velocity\n",
    "f_v = 16.87        #Strouhal frequency\n",
    "\n",
    "## Paramètres à changer\n",
    "KC=0.25            #Kalegan Karpenter number (A/D)\n",
    "f0=f_v*0.5            #imposed frequency on the cylinder\n",
    "nb_p_i=1        #number of period to ignore\n",
    "\n",
    "omega=2*np.pi*f0      #pulsation\n",
    "A=KC*D             #displacment amplitude\n",
    "T=1/f0             #oscillation period \n",
    "ti=T*nb_p_i        #start time to compute coefficient \n",
    "\n",
    "\n",
    "# How many period are available ?\n",
    "nb_p=1\n",
    "for i in range(len(F_p[:,0])):\n",
    "\tt=F_p[i,0]\n",
    "\tif t > nb_p*T:\n",
    "\t\tnb_p=nb_p+1\n",
    "\t\tl=i            #the indice of the time corresponding to the period-ending is kept\n",
    "tf=nb_p*T          #final time to compute coefficient \n",
    "\n",
    "#data selection in the time interval asked\n",
    "t=0\n",
    "i=0\n",
    "while t < ti:\n",
    "\tt=F_p[i,0]\n",
    "\ti=i+1\n",
    "\n",
    "\n",
    "\n",
    "\n",
    "##sélection des données\n",
    "t= F_p[i:l,0]       #time\n",
    "Fx=F_p[i:l,1]      #pressure force x direction\n",
    "Fv_x=Fv_p[i:l,1]    #viscous force x direction\n",
    "Fy=F_p[i:l,2]       #pressure force y direction\n",
    "Fv_y=Fv_p[i:l,2]    #viscous force y direction\n",
    "\n",
    "alpha=KC*np.sin(omega*t) #+np.full_like(t,np.pi)# #vertical displacement\n",
    "v_ale=KC*omega*np.cos(omega*t) #vertical speed\n",
    "\n",
    "Fx_t=Fx+Fv_x                #total force x direction\n",
    "Fy_t=Fy+Fv_y                #total force y direction\n",
    "\n",
    "\n",
    "\n",
    "##-------Drag------- \n",
    "Drag_mean=np.mean(Fx_t) \n",
    "Drag_std=np.std(Fx_t) \n",
    "\n",
    "Cd=Fx_t/(0.5*rho*V*V*D) \n",
    "Cd_mean=np.mean(Cd) \n",
    "Cd_std=np.std(Cd) \n",
    "\n",
    "# print(f'Cd moyen = {Cd_mean}')\n",
    "\n",
    " ##-------Lift------- \n",
    "Lift_mean=np.mean(Fy_t) \n",
    "Lift_std=np.std(Fy_t) \n",
    "\n",
    "Cl_brut=(Fy+Fv_y)/(0.5*rho*V*V*D) \n",
    "\n",
    "# Fenêtre de lissage (nombre de points à utiliser pour la moyenne mobile)\n",
    "window = 12\n",
    "\n",
    "# Calcul de la moyenne mobile\n",
    "Cl = np.convolve(Cl_brut, np.ones(window)/window, mode='valid')\n",
    "\n",
    "Cl_mean=np.mean(Cl) \n",
    "Cl_std=np.std(Cl) \n",
    "Cl_peak=np.max(Cl)\n",
    "\n",
    "# print(f'Cl max = {Cl_peak}')\n",
    "\n",
    "DataOut = np.column_stack((round(Cd_mean,3),round(Cl_peak,3)))\n",
    "np.savetxt(run.BUILD_DIRECTORY + '/F_0.5/Cd_Cl.txt', DataOut)\n",
    "\n",
    "# Color settings (CEA colors)\n",
    "\n",
    "# Primary colours\n",
    "\n",
    "cea_red = (229/255,0,25/255)\n",
    "cea_black = (0,0,0)\n",
    "cea_white = (1,1,1)\n",
    "cea_darkblue = (62/255,74/255,131/255)\n",
    "cea_lightblue = (126/255,156/255,187/255)\n",
    "cea_darkgrey = (38/255,38/255,38/255)\n",
    "cea_yellow = (1,205/255,49/255)\n",
    "\n",
    "# Additional ones\n",
    "macaron = (218/255,131/255,123/255)\n",
    "archipel = (0,147/255,157/255)\n",
    "glycine = (167/255,37/255,135/255)\n",
    "opera = (189/255,152/255,122/255)\n",
    "\n",
    "# Plot Settings\n",
    "A = 5.5 # Want figures to be A6\n",
    "plt.rc('figure', figsize=[46.82 * .5**(.5 * A), 33.11 * .5**(.5 * A)])\n",
    "plt.rc('text', usetex=True)\n",
    "\n",
    "plt.rc('font', family='serif', size=18) #font of axislabels and title, write r before label string\n",
    "\n",
    "\n",
    "#Cl en fonction de t\n",
    "plt.plot(t[window-1:]/T, Cl,color = cea_darkblue)\n",
    "plt.xlabel(r'$t/T_0$')\n",
    "plt.ylabel(r'$C_L$')\n",
    "plt.ylim(-0.5,0.5)\n",
    "plt.xlim(nb_p_i,9.5)\n",
    "plt.grid(True)\n",
    "plt.tight_layout()\n",
    "plt.title(r'Unocked configuration, $f=0.5$. Evolution of the lift coeﬃcient. Current study.')\n",
    "plt.savefig(run.BUILD_DIRECTORY + '/F_0.5/Cl.png', bbox_inches='tight')\n",
    "plt.figure()\n",
    "\n",
    "# Calculer la transformée de Fourier discrète (DFT) du signal\n",
    "fft_result = np.fft.fft(Cl)\n",
    "\n",
    "# Calculer la fréquence associée à chaque composante de la DFT\n",
    "frequencies = np.fft.fftfreq(len(Cl), np.mean(np.diff(t)))\n",
    "\n",
    "# Calculer la densité de puissance spectrale (PSD)\n",
    "psd = np.abs(fft_result)**2 / len(Cl)\n",
    "\n",
    "\n",
    "plt.plot(frequencies/f0, psd/max(psd),color = cea_darkblue)\n",
    "plt.xlabel(r'$F^*=f/f_0$')\n",
    "plt.xticks(np.arange(0, 5, 0.5))\n",
    "plt.ylim(0,1.1)\n",
    "plt.xlim(0,5)\n",
    "plt.ylabel(r'$PSD_n$')\n",
    "\n",
    "\n",
    "plt.grid(True)\n",
    "plt.tight_layout()\n",
    "plt.title(r'Unlocked configuration, $f=0.5$. Evolution of the normalised PSD. Current study.')\n",
    "plt.savefig(run.BUILD_DIRECTORY + '/F_0.5/PSD.png', bbox_inches='tight')\n",
    "plt.figure()\n",
    "\n",
    "#Cl en fonction de alpha\n",
    "\n",
    "plt.plot(alpha[window-1:] ,Cl, label=r'Current study', color=cea_darkblue, ls='-', zorder=1)\n",
    "plt.scatter(placzek[:,0], placzek[:,1], label = r'Ref. [1], Placzek',marker='+', color = cea_red, s=30, zorder=2)\n",
    "\n",
    "plt.xlabel(r'$\\alpha$')\n",
    "plt.ylabel(r'$C_L$')\n",
    "#plt.ylim(-2,2)\n",
    "plt.grid(True)\n",
    "plt.legend()\n",
    "plt.tight_layout()\n",
    "plt.title(r'Unlocked configuration, $f=0.5$. Evolution of the associated phase portrait. Current study.')\n",
    "plt.savefig(run.BUILD_DIRECTORY + \"/F_0.5/Cl_alpha.png\", bbox_inches='tight')\n"
   ]
  },
  {
   "cell_type": "markdown",
   "id": "7008ca4c",
   "metadata": {},
   "source": [
    "## Aerodynamic coefficients.\n"
   ]
  },
  {
   "cell_type": "markdown",
   "id": "9110dfd2",
   "metadata": {},
   "source": [
    "To study the evolution of the fluid force ${\\bf{F}}$ acting on the cylinder, we introduce the drag and the lift coefficients $C_D = \\frac{F_D}{1/2 \\rho U_{\\infty}^2 D}$ and $C_L = \\frac{F_L}{1/2 \\rho U_{\\infty}^2 D}$,  with $F_D={\\bf{F}}\\cdot {\\bf{e_x}}$ and $F_L={\\bf{F}}\\cdot {\\bf{e_y}}$.\n"
   ]
  },
  {
   "cell_type": "markdown",
   "id": "4be816f3",
   "metadata": {},
   "source": [
    "### Mean drag coefficient and the maximal lift coefficient with the frequency ratio $f = 1.1 $\n",
    " \n",
    " "
   ]
  },
  {
   "cell_type": "code",
   "execution_count": null,
   "id": "6667f162-4513-43a7-8031-7e0bd9776a39",
   "metadata": {
    "jp-MarkdownHeadingCollapsed": true
   },
   "outputs": [],
   "source": [
    "from trustutils import plot \n",
    " \n",
    "columns=['Mean $C_D$ ', ' Max $C_L$'] \n",
    "tab = plot.Table(columns)\n",
    "tab.addLine([[1.5, 0.136]],r\"Reference solution [1] \")\n",
    "data = plot.loadText(\"F_0.9/Cd_Cl.txt\", transpose=True, dtype=\"str\")\n",
    "tab.addLine([[ data[0], data[1] ]],r\"Current study\")\n",
    "tab.setTitle(\"Mean drag coefficient and the maximal lift coefficient with the frequency ratio $f = 1.1 $\")\n",
    "display(tab)"
   ]
  },
  {
   "cell_type": "markdown",
   "id": "6e6d49be",
   "metadata": {},
   "source": [
    "### Mean drag coefficient and the maximal lift coefficient with the frequency ratio $f = 0.5 $\n",
    " \n",
    " "
   ]
  },
  {
   "cell_type": "code",
   "execution_count": null,
   "id": "9589609c",
   "metadata": {},
   "outputs": [],
   "source": [
    "from trustutils import plot \n",
    " \n",
    "columns=['Mean $C_D$ ', ' Max $C_L$'] \n",
    "tab = plot.Table(columns)\n",
    "tab.addLine([[1.38, 0.418]],r\"Reference solution [1] \")\n",
    "data = plot.loadText(\"F_0.5/Cd_Cl.txt\",transpose=False, dtype=\"str\")\n",
    "tab.addLine([[ data[0], data[1] ]],r\"Current study\")\n",
    "tab.setTitle(\"Mean drag coefficient and the maximal lift coefficient with the frequency ratio $f = 0.5 $\")\n",
    "display(tab)"
   ]
  },
  {
   "cell_type": "markdown",
   "id": "e27b15ef",
   "metadata": {},
   "source": [
    "## Conclusion \n",
    " \n",
    "The harmonic motion of a circular wall in a quiescent viscous fluid, has been  numerically simulated. A FEV method is applied to solve such a problem in conjunction with the ALE approach. The numerical results are in line with the numerical results of [1].\n",
    "\n"
   ]
  },
  {
   "cell_type": "markdown",
   "id": "8e9550e2",
   "metadata": {},
   "source": [
    "## References: \n",
    " \n",
    "* 1. J. F. Placzek, A. Sigrist and A. Hamdouni. Numerical simulation of an oscillating cylinder in a cross-flow at low reynolds number: Forced and free oscillations. Computers and Fluids, 38:80–100, 2009. \n"
   ]
  }
 ],
 "metadata": {
  "kernelspec": {
   "display_name": "Python 3 (ipykernel)",
   "language": "python",
   "name": "python3"
  },
  "language_info": {
   "codemirror_mode": {
    "name": "ipython",
    "version": 3
   },
   "file_extension": ".py",
   "mimetype": "text/x-python",
   "name": "python",
   "nbconvert_exporter": "python",
   "pygments_lexer": "ipython3",
   "version": "3.12.5"
  }
 },
 "nbformat": 4,
 "nbformat_minor": 5
}
