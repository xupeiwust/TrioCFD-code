{
 "cells": [
  {
   "cell_type": "markdown",
   "id": "24064c35",
   "metadata": {},
   "source": [
    "## Purpose \n",
    " \n",
    "This test case aims to validate the ALE (Arbitrary Lagrangian–Eulerian) implementation in TrioCFD against the SPHERIC benchmark [1], which represents a 2D incompressible flow around a translating square cylinder in a rectangular tank.\n",
    "The geometry and motion setup are adapted from the benchmark. The Reynolds number is fixed at Re = 50. The test examines the hydrodynamic response of the fluid when the square begins at rest and linearly accelerates to a constant horizontal velocity within one second.\n",
    " This scenario is representative of fluid–structure interaction cases and provides a basis for comparing results between particle-based methods (SPH) and mesh-based ALE formulations.\n",
    " \n",
    " Validation made by : M. A. Puscas \n",
    " \n",
    " Report generated  06/06/2025\n"
   ]
  },
  {
   "cell_type": "code",
   "execution_count": null,
   "id": "eaa0fdeb",
   "metadata": {},
   "outputs": [],
   "source": [
    "from trustutils import run\n",
    " \n",
    "run.reset() \n",
    "run.addCase(\".\",\"TranslatingSquare_ALE_CoarseMesh.data\")\n",
    "run.runCases()"
   ]
  },
  {
   "cell_type": "markdown",
   "id": "41915f44",
   "metadata": {},
   "source": [
    "## Problem Description \n",
    " \n",
    "The computational domain used in the simulation matches the SPHERIC benchmark configuration and is shown in Figure 1.\n",
    "\n"
   ]
  },
  {
   "cell_type": "markdown",
   "id": "0ee81d6a",
   "metadata": {},
   "source": [
    "### Geometry \n"
   ]
  },
  {
   "cell_type": "code",
   "execution_count": null,
   "id": "e76003c0",
   "metadata": {},
   "outputs": [],
   "source": [
    "from IPython.display import Image, display\n",
    "\n",
    "\n",
    "display(Image(filename='src/geometry.png'))"
   ]
  },
  {
   "cell_type": "markdown",
   "id": "1fe6493b",
   "metadata": {},
   "source": [
    "### Initial Conditions and Boundary Conditions \n"
   ]
  },
  {
   "cell_type": "markdown",
   "id": "b2eb1892",
   "metadata": {},
   "source": [
    "The square is initially at rest and accelerates horizontally, reaching its maximum velocity after 1 second. The imposed motion is visualized below.\n"
   ]
  },
  {
   "cell_type": "code",
   "execution_count": null,
   "id": "70eab411",
   "metadata": {},
   "outputs": [],
   "source": [
    "from IPython.display import Image, display\n",
    "\n",
    "\n",
    "display(Image(filename='src/velocity.png'))"
   ]
  },
  {
   "cell_type": "markdown",
   "id": "afbf4f20",
   "metadata": {},
   "source": [
    "The tank boundaries (left, right, top, and bottom) are fixed and impermeable. The fluid is initially at rest throughout the domain.\n"
   ]
  },
  {
   "cell_type": "markdown",
   "id": "ab4cc8b0",
   "metadata": {},
   "source": [
    "## Results \n",
    "### Validation Specific Informations \n",
    "* Version TRUST :  \n",
    "* Problem : Pb\\_hydraulique\\_ALE\n",
    "* Dimension : 2D\n",
    "* Domain : Domaine\\_ALE\n",
    "* Discretization : VEFPre1B\n",
    "* Time scheme : Scheme\\_euler\\_implicit with solver implicite\\_ALE\n",
    "* Medium : Fluide\\_Incompressible\n",
    "* Hydraulic problem : Navier\\_Stokes\\_standard\\_ALE\n",
    "* Convection scheme: ALE amont\n",
    "* Generated Test cases : \n",
    "\t- ./TranslatingSquare\\_ALE\\_CoarseMesh.data : /* jdd provided in annex */  \n"
   ]
  },
  {
   "cell_type": "markdown",
   "id": "c2e38542",
   "metadata": {},
   "source": [
    "### Performance Chart\n",
    " \n",
    " "
   ]
  },
  {
   "cell_type": "code",
   "execution_count": null,
   "id": "961854ed",
   "metadata": {},
   "outputs": [],
   "source": [
    "run.tablePerf()"
   ]
  },
  {
   "cell_type": "markdown",
   "id": "072cb162",
   "metadata": {},
   "source": [
    "### Plot Data \n",
    " \n"
   ]
  },
  {
   "cell_type": "markdown",
   "id": "50a265d1",
   "metadata": {},
   "source": [
    "The primary quantity of interest is the pressure component of the drag coefficient acting on the square, which reflects the interaction between the fluid and the moving body.\n",
    "\n",
    "The drag coefficient pressure component $C_{D,p}$ (pressure component) is given by:\n",
    "\n",
    "\n",
    "\n",
    "$\\displaystyle{C_d = \\frac{\\int_{\\text{interface}} (-p \\cdot \\vec{n}_x) \\, dS}{\\frac{1}{2} \\cdot \\rho  \\cdot S \\cdot U_{\\text{max}}^2}}$\n",
    "\n",
    "where $U_{\\text{max} = 1 \\, \\text{m/s}}$ (the maximum velocity of the obstacle). \n"
   ]
  },
  {
   "cell_type": "code",
   "execution_count": null,
   "id": "c7cba162",
   "metadata": {},
   "outputs": [],
   "source": [
    "from trustutils import plot \n",
    " \n",
    "fig = plot.Graph(r\"Drag coefficient pressure component\") \n",
    "data = plot.loadText(\"ReferenceSolution.dat\")\n",
    "fig.add(data[0],data[1],label=r\"SPHERIC benchmark\",marker='-x')\n",
    "data = plot.loadText(\"TranslatingSquare_ALE_CoarseMesh_SONDE_DRAG_COEF_PRESSURE_COMP.son\")\n",
    "fig.add(data[0],data[1],label=r\"TrioCFD\",marker='-x')\n",
    "\n",
    "fig.label(r\"Time (s)\",r\"Cd (pressure component)\")\n"
   ]
  },
  {
   "cell_type": "markdown",
   "id": "ed848a44-eafb-40dc-8c6d-b3826530f6c4",
   "metadata": {},
   "source": [
    "The drag coefficient viscous component $\\displaystyle{C_{D,\\nu}}$ (viscous component) is given by:\n",
    "\n",
    "\n",
    "$\\displaystyle{C_{D,\\nu} = \\frac{\\int_{\\text{interface}} \\left( \\boldsymbol{\\tau} \\cdot \\vec{n} \\right)_x \\, dS}{\\frac{1}{2} \\cdot \\rho \\cdot S \\cdot U_{\\text{max}}^2} }$\n",
    "\n",
    "\n",
    "where $\\displaystyle{\\boldsymbol{\\tau}}$ is the viscous stress tensor and $\\displaystyle{\\left( \\boldsymbol{\\tau} \\cdot \\vec{n} \\right)_x}$ is its projection in the flow direction (x). As before, $\\displaystyle{U_{\\text{max}} = 1 \\, \\text{m/s}}$ is the reference velocity. "
   ]
  },
  {
   "cell_type": "code",
   "execution_count": null,
   "id": "0a10ff02-499a-4a59-837a-d95f269f72b8",
   "metadata": {},
   "outputs": [],
   "source": [
    "from trustutils import plot \n",
    "import numpy as np\n",
    "\n",
    "\n",
    "vitesse=1\n",
    "surface=1\n",
    "rho=1\n",
    "param = 1/(0.5*(vitesse**2)*surface*rho)\n",
    "\n",
    "\n",
    "fig = plot.Graph(r\"Drag coefficient viscous component\") \n",
    "data = plot.loadText(\"ReferenceSolution.dat\")\n",
    "fig.add(data[0],data[2],label=r\"SPHERIC benchmark\",marker='-x')\n",
    "\n",
    "data_ale =plot.loadText('TranslatingSquare_ALE_CoarseMesh_pb_Contrainte_visqueuse.out')\n",
    "x_ale = data_ale[0]\n",
    "y_ale = data_ale[5]+data_ale[7]\n",
    "y_ale =param *abs(y_ale)\n",
    "fig.add(x_ale,y_ale,label=r\"TrioCFD\",marker='-x')\n",
    "\n",
    "fig.label(r\"Time (s)\",r\"Cd (viscous component)\")"
   ]
  },
  {
   "cell_type": "markdown",
   "id": "e15b5cd2",
   "metadata": {},
   "source": [
    "Flow field visualizations provide insight into pressure and velocity distribution, as well as the mesh deformation due to the ALE approach. \n"
   ]
  },
  {
   "cell_type": "markdown",
   "id": "2976d4ba",
   "metadata": {},
   "source": [
    "### Pressure field (SOM)\n",
    " \n",
    " "
   ]
  },
  {
   "cell_type": "code",
   "execution_count": null,
   "id": "1d47cac5",
   "metadata": {},
   "outputs": [],
   "source": [
    "from trustutils import visit\n",
    " \n",
    "visu = visit.Show(\"TranslatingSquare_ALE_CoarseMesh.lata\",\"Pseudocolor\",\"PRESSION_SOM_dom\",plotmesh=False)\n",
    "visu.plot()"
   ]
  },
  {
   "cell_type": "markdown",
   "id": "2ae43385",
   "metadata": {},
   "source": [
    "### X-component of velocity (ELEM)\n",
    " \n",
    " "
   ]
  },
  {
   "cell_type": "code",
   "execution_count": null,
   "id": "f08e4693",
   "metadata": {},
   "outputs": [],
   "source": [
    "from trustutils import visit\n",
    " \n",
    "visu = visit.Show(\"TranslatingSquare_ALE_CoarseMesh.lata\",\"Pseudocolor\",\"VITESSE_X_ELEM_dom\",plotmesh=False)\n",
    "visu.plot()"
   ]
  },
  {
   "cell_type": "markdown",
   "id": "4d6c9be0",
   "metadata": {},
   "source": [
    "### Y-component of velocity (ELEM)\n",
    " \n",
    " "
   ]
  },
  {
   "cell_type": "code",
   "execution_count": null,
   "id": "5acb5a4c",
   "metadata": {},
   "outputs": [],
   "source": [
    "from trustutils import visit\n",
    " \n",
    "visu = visit.Show(\"TranslatingSquare_ALE_CoarseMesh.lata\",\"Pseudocolor\",\"VITESSE_Y_ELEM_dom\",plotmesh=False)\n",
    "visu.plot()"
   ]
  },
  {
   "cell_type": "markdown",
   "id": "be853bda",
   "metadata": {},
   "source": [
    "### Mesh velocity norm (SOM)\n",
    " \n",
    " "
   ]
  },
  {
   "cell_type": "code",
   "execution_count": null,
   "id": "d32856be",
   "metadata": {},
   "outputs": [],
   "source": [
    "from trustutils import visit\n",
    " \n",
    "visu = visit.Show(\"TranslatingSquare_ALE_CoarseMesh.lata\",\"Pseudocolor\",\"norme_ALEMESHVELOCITY_SOM_dom\",plotmesh=False)\n",
    "visu.plot()"
   ]
  },
  {
   "cell_type": "markdown",
   "id": "28be8e11",
   "metadata": {},
   "source": [
    "## Conclusion \n",
    " \n",
    "The 2D SPHERIC benchmark [1] reference results were compared with the ALE-based TrioCFD simulations. Due to computational cost, it was not feasible to use the same fine mesh resolution ($\\Delta x$ =0.0167) as in the benchmark for this validation sheet. Such high-resolution ALE simulations would require significantly more time, which is impractical for the current analysis and formation goals.\n",
    "Therefore, the ALE results presented here are obtained with a coarser mesh of approximately three times the cell size ($\\Delta x$=0.05). Despite this, the overall drag evolution remains consistent in trend with the benchmark data, though ALE simulations tend to slightly underestimate the drag coefficient.\n",
    " These results confirm that TrioCFD with ALE discretization captures the main physical behavior of the benchmark, validating its use for more complex FSI problems, provided mesh resolution and computational cost are appropriately balanced.\n",
    " \n"
   ]
  },
  {
   "cell_type": "markdown",
   "id": "97cf8323",
   "metadata": {},
   "source": [
    "## References: \n",
    " \n",
    "* 1. A. Colagrossi, 'SPHERIC benchmark 6: 2D Incompressible flow around a moving square inside a rectangular box. - 2D SPH Validation.', SPHERIC, [Online]. Available: http://spheric-sph.org/tests/test-6. [Accessed Sept. 29, 2017]. \n",
    "* 2. D. Panunzio, M. A. Puscas, and R. Lagrange, 'FSI--vibrations of immersed cylinders. Simulations with the engineering open source code TrioCFD. Test cases and experimental comparisons',  Comptes Rendus. M\\'{e}canique, 2022. \n"
   ]
  },
  {
   "cell_type": "markdown",
   "id": "d6480c5f",
   "metadata": {},
   "source": [
    "## Data Files"
   ]
  },
  {
   "cell_type": "markdown",
   "id": "65badc16",
   "metadata": {},
   "source": [
    "### TranslatingSquare\\_ALE\\_CoarseMesh"
   ]
  },
  {
   "cell_type": "code",
   "execution_count": null,
   "id": "4a6adac9",
   "metadata": {},
   "outputs": [],
   "source": [
    "run.dumpDatasetMD(\"./TranslatingSquare_ALE_CoarseMesh.data\")"
   ]
  }
 ],
 "metadata": {
  "kernelspec": {
   "display_name": "Python 3 (ipykernel)",
   "language": "python",
   "name": "python3"
  },
  "language_info": {
   "codemirror_mode": {
    "name": "ipython",
    "version": 3
   },
   "file_extension": ".py",
   "mimetype": "text/x-python",
   "name": "python",
   "nbconvert_exporter": "python",
   "pygments_lexer": "ipython3",
   "version": "3.12.5"
  }
 },
 "nbformat": 4,
 "nbformat_minor": 5
}
