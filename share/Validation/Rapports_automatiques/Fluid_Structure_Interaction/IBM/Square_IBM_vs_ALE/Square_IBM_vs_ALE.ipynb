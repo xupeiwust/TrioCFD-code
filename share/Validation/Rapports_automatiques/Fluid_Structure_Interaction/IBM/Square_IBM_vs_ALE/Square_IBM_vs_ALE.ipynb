{
 "cells": [
  {
   "cell_type": "markdown",
   "id": "1380af42",
   "metadata": {},
   "source": [
    "## Purpose \n",
    "\n"
   ]
  },
  {
   "cell_type": "markdown",
   "id": "2747b8de-0763-406c-adf7-d1cb746978f5",
   "metadata": {},
   "source": [
    " \n",
    "This test case was created to validate the direct-forcing immersed boundary method implemented (DF) in TrioCFD by comparing it to the ALE discretization using the SPHERIC benchmark [1]. The geometry is taken from [1], and the test case with a Reynolds number of 50 was selected.\n",
    "\n",
    "\n",
    "In this test, the flow around a horizontally moving square in a tank is investigated. Initially, the square is stationary and reaches its maximum velocity within one second.\n",
    "\n",
    "Validation made by : Amal DERRO\n",
    " \n",
    "Report generated  19/05/2025"
   ]
  },
  {
   "cell_type": "code",
   "execution_count": null,
   "id": "d4ea1cf3-c593-4759-8329-6d68f0cb2dce",
   "metadata": {},
   "outputs": [],
   "source": [
    "from trustutils import run\n",
    "from multiprocessing import Pool\n",
    "\n",
    "def my_run_cases(data_folder,test_case, nb_proc):\n",
    "    run.addCase(data_folder,test_case, nbProcs=nb_proc)\n",
    "    run.printCases()\n",
    "    run.runCases()\n",
    "\n",
    "def fonction_wrapper(args):\n",
    "    return my_run_cases(*args)  # Décompresser les arguments (tuple)\n",
    "\n",
    "if __name__ == \"__main__\":\n",
    "    params = [(\"./VEF\",\"square.data\" , 2), (\"./VDF\",\"square.data\", 12), (\"./ALE\",\"SquareObstacle_ALE.data\",1)]  # Liste des tuples de paramètres\n",
    "    num_processes = 3  # Nombre de processus à utiliser\n",
    "\n",
    "    # Créer un Pool pour exécuter la fonction en parallèle\n",
    "    with Pool(processes=num_processes) as pool:\n",
    "        results = pool.map(fonction_wrapper, params)  # Exécute la fonction avec chaque paire de paramètres"
   ]
  },
  {
   "cell_type": "markdown",
   "id": "7871d7ae",
   "metadata": {},
   "source": [
    "## Problem Description \n",
    " The geometry is described in Figure 1. The red line represents the solid boundary of the tank, while the black line indicates the initial position of the square at time t=0. For t>0, the square moves to the right with a prescribed motion, starting from rest and accelerating to a final steady maximum velocity (see Boundary Conditions)."
   ]
  },
  {
   "cell_type": "markdown",
   "id": "afcd86bf",
   "metadata": {},
   "source": [
    "### Geometry\n"
   ]
  },
  {
   "cell_type": "code",
   "execution_count": null,
   "id": "ac6f9f17",
   "metadata": {},
   "outputs": [],
   "source": [
    "from IPython.display import Image, display\n",
    "\n",
    "# Afficher l'image\n",
    "display(Image(filename='src/geometry.png'))\n",
    "\n",
    "\n"
   ]
  },
  {
   "cell_type": "markdown",
   "id": "92af2632-04ae-4d05-8071-34c50cdfbc1f",
   "metadata": {},
   "source": [
    "######                       Figure 1: Geometry used in the simulation\n"
   ]
  },
  {
   "cell_type": "markdown",
   "id": "e845fd09",
   "metadata": {},
   "source": [
    "### Initial Conditions and Boundary Conditions \n"
   ]
  },
  {
   "cell_type": "markdown",
   "id": "70594e9c",
   "metadata": {},
   "source": [
    "The square is moving and it reaches its maximum velocity within one second, as ploted below."
   ]
  },
  {
   "cell_type": "code",
   "execution_count": null,
   "id": "e560a48e-492c-445f-b9df-91e20359f989",
   "metadata": {},
   "outputs": [],
   "source": [
    "from IPython.display import Image, display\n",
    "\n",
    "# Afficher l'image\n",
    "display(Image(filename='src/velocity.png'))"
   ]
  },
  {
   "cell_type": "markdown",
   "id": "c8d3ace3-07ba-444a-99ee-574c1c899590",
   "metadata": {},
   "source": [
    "######                       Figure 2: Square velocity"
   ]
  },
  {
   "cell_type": "markdown",
   "id": "26cecd22-2d8a-43a7-b274-10a2a849ab2b",
   "metadata": {},
   "source": [
    "The boundaries of the cavity are assigned to the fixed wall, except for the right one, which is assigned to a null imposed pressure."
   ]
  },
  {
   "cell_type": "code",
   "execution_count": null,
   "id": "dbc3204b-892a-4c72-a7fe-ce15628c7c97",
   "metadata": {},
   "outputs": [],
   "source": []
  },
  {
   "cell_type": "markdown",
   "id": "75bea91d",
   "metadata": {},
   "source": [
    "### Fluid Properties \n"
   ]
  },
  {
   "cell_type": "markdown",
   "id": "106d4695",
   "metadata": {},
   "source": [
    "The square is immersed in a Newtonian incompressible homogeneous fluid, with mass density $\\rho \\,(1 \\,Kg/m^3 )$ and kinematic viscosity $\\nu \\,(0.02\\, m^2/s)$.\n"
   ]
  },
  {
   "cell_type": "markdown",
   "id": "e92f8e24",
   "metadata": {},
   "source": [
    "### Model Options \n"
   ]
  },
  {
   "cell_type": "markdown",
   "id": "a919418e",
   "metadata": {},
   "source": [
    "The fluid problem with moving boundaries is handled using the direct-forcing immersed boundary method, with linear interpolation for VDF discretization and linear basis functions for VEF discretization.\n"
   ]
  },
  {
   "cell_type": "markdown",
   "id": "59fe52ea",
   "metadata": {},
   "source": [
    "In the IBM approach, the computational domain includes both the fluid and solid domains. The interface is described using a Lagrangian mesh, and interface tracking is performed through the Front-Tracking technique."
   ]
  },
  {
   "cell_type": "markdown",
   "id": "9a49b567",
   "metadata": {},
   "source": [
    "## Results \n",
    "### Validation Specific Informations \n",
    "* Version TRUST : 1.9.5 \n",
    "* Problem : Probleme\\_FT\\_Disc\\_gen\n",
    "* Dimension : 2D\n",
    "* Time scheme : Scheme\\_euler\\_explicit\n",
    "* Medium : Fluide\\_Incompressible\n",
    "* Hydraulic problem : Navier\\_Stokes\\_FT\\_Disc\n",
    "* Interface tracking : Transport\\_Interfaces\\_FT\\_Disc\n",
    "* Convection scheme: amont\n",
    "* Generated Test cases : \n",
    "\t- ./square.data :  \n"
   ]
  },
  {
   "cell_type": "markdown",
   "id": "d2232bc4",
   "metadata": {},
   "source": [
    "### Plot Data \n",
    " \n"
   ]
  },
  {
   "cell_type": "markdown",
   "id": "02f2599d",
   "metadata": {},
   "source": [
    "Probes: 1D Plots\n"
   ]
  },
  {
   "cell_type": "markdown",
   "id": "70d053ca-b2a1-4c80-a698-4abd418caa3b",
   "metadata": {},
   "source": [
    "The drag coefficient pressure component $C_{D,p}$ (pressure component) is given by:\n",
    "\n",
    "\n",
    "\n",
    "$\\displaystyle{C_d = \\frac{\\int_{\\text{interface}} (-p \\cdot \\vec{n}_x) \\, dS}{\\frac{1}{2} \\cdot \\rho  \\cdot S \\cdot U_{\\text{max}}^2}}$\n",
    "\n",
    "where $U_{\\text{max} = 1 \\, \\text{m/s}}$ (the maximum velocity of the obstacle). This value is plotted for the described test case (IBM) and compared to ALE_TrioCFD using a amont convection scheme and an explicit Euler time scheme.\n"
   ]
  },
  {
   "cell_type": "code",
   "execution_count": null,
   "id": "61dd0019",
   "metadata": {},
   "outputs": [],
   "source": [
    "import numpy as np\n",
    "import matplotlib.pyplot as plt\n",
    "\n",
    "# Paramètre\n",
    "vitesse=1\n",
    "surface=1\n",
    "rho=1\n",
    "param = 1/(0.5*(vitesse**2)*surface*rho)\n",
    "\n",
    "frequence = 5\n",
    "\n",
    "# Lecture du fichier IBM\n",
    "data_ibm_VDF = np.loadtxt('build/VDF/square_Friction_Pression_sur_square.out')\n",
    "x_ibm_VDF = data_ibm_VDF[::frequence, 0]\n",
    "y_ibm_VDF = param * np.abs(data_ibm_VDF[::frequence, 1])\n",
    "\n",
    "data_ibm_VEF = np.loadtxt('build/VEF/square_Friction_Pression_sur_square.out')\n",
    "x_ibm_VEF = data_ibm_VEF[::frequence, 0]\n",
    "y_ibm_VEF = param * np.abs(data_ibm_VEF[::frequence, 1])\n",
    "\n",
    "# Lecture du fichier ALE\n",
    "data_ale = np.loadtxt('build/ALE/SquareObstacle_ALE_SONDE_DRAG_COEF_PRESSURE_COMP.son')\n",
    "x_ale = data_ale[::frequence, 0]\n",
    "y_ale = data_ale[::frequence, 1]\n",
    "\n",
    "# Tracé\n",
    "plt.figure(figsize=(10, 5))\n",
    "plt.plot(x_ibm_VEF, y_ibm_VEF, 'o-', label='IBM-VEF')\n",
    "plt.plot(x_ibm_VDF, y_ibm_VDF, '^-', label='IBM-VDF')\n",
    "\n",
    "plt.plot(x_ale, y_ale, 's-', label='ALE')\n",
    "plt.xlabel('t')\n",
    "plt.ylabel('Cd (pressure component)')\n",
    "plt.title('Drag coefficient pressure component')\n",
    "plt.legend()\n",
    "plt.grid(True)\n",
    "plt.show()\n",
    "\n",
    "\n"
   ]
  },
  {
   "cell_type": "markdown",
   "id": "735be0a0-efb3-4f35-8a73-fc5d2c07eb1c",
   "metadata": {},
   "source": [
    "\n"
   ]
  },
  {
   "cell_type": "markdown",
   "id": "6edb8400-60b4-42b9-9a77-c44ac3757988",
   "metadata": {},
   "source": [
    "The drag coefficient viscous component $\\displaystyle{C_{D,\\nu}}$ (viscous component) is given by:\n",
    "\n",
    "\n",
    "$\\displaystyle{C_{D,\\nu} = \\frac{\\int_{\\text{interface}} \\left( \\boldsymbol{\\tau} \\cdot \\vec{n} \\right)_x \\, dS}{\\frac{1}{2} \\cdot \\rho \\cdot S \\cdot U_{\\text{max}}^2} }$\n",
    "\n",
    "\n",
    "where $\\displaystyle{\\boldsymbol{\\tau}}$ is the viscous stress tensor and $\\displaystyle{\\left( \\boldsymbol{\\tau} \\cdot \\vec{n} \\right)_x}$ is its projection in the flow direction (x). As before, $\\displaystyle{U_{\\text{max}} = 1 \\, \\text{m/s}}$ is the reference velocity. This value is computed for the IBM test case and compared to ALE_TrioCFD with an upwind convection scheme and explicit Euler time integration.\n"
   ]
  },
  {
   "cell_type": "code",
   "execution_count": null,
   "id": "0433cc8c-41b9-4fb0-8b27-0294a5e0c5d4",
   "metadata": {},
   "outputs": [],
   "source": [
    "import numpy as np\n",
    "import matplotlib.pyplot as plt\n",
    "\n",
    "# Paramètre\n",
    "vitesse=1\n",
    "surface=1\n",
    "rho=1\n",
    "param = 1/(0.5*(vitesse**2)*surface*rho)\n",
    "\n",
    "frequence = 5\n",
    "\n",
    "# Lecture du fichier IBM\n",
    "data_ibm_VDF = np.loadtxt('build/VDF/square_Friction_conv_diff_sur_square.out')\n",
    "x_ibm_VDF = data_ibm_VDF[::frequence, 0]\n",
    "y_ibm_VDF = param * np.abs(data_ibm_VDF[::frequence, 1])\n",
    "\n",
    "data_ibm_VEF = np.loadtxt('build/VEF/square_Friction_conv_diff_sur_square.out')\n",
    "x_ibm_VEF = data_ibm_VEF[::frequence, 0]\n",
    "y_ibm_VEF = param * np.abs(data_ibm_VEF[::frequence, 1])\n",
    "\n",
    "# Lecture du fichier ALE\n",
    "data_ale = np.loadtxt('build/ALE/SquareObstacle_ALE_pb_Contrainte_visqueuse.out')\n",
    "x_ale = data_ale[::frequence, 0]\n",
    "y_ale = data_ale[::frequence, 7]+data_ale[::frequence, 9]\n",
    "y_ale =param *abs(y_ale)\n",
    "\n",
    "# Tracé\n",
    "plt.figure(figsize=(10, 5))\n",
    "plt.plot(x_ibm_VEF, y_ibm_VEF, 'o-', label='IBM-VEF')\n",
    "plt.plot(x_ibm_VDF, y_ibm_VDF, '^-', label='IBM-VDF')\n",
    "plt.plot(x_ale, y_ale, 's-', label='ALE')\n",
    "plt.xlabel('t')\n",
    "plt.ylabel('Cd (viscous component)')\n",
    "plt.title('Drag coefficient viscous component')\n",
    "plt.legend()\n",
    "plt.grid(True)\n",
    "plt.show()"
   ]
  },
  {
   "cell_type": "markdown",
   "id": "6865181b-87cb-455e-be55-e4bf8a030c52",
   "metadata": {},
   "source": [
    "Below, we present several 1D plots showing the evolution of pressure and velocity along different segments, with the aim of comparing the results obtained using the IBM and ALE methods."
   ]
  },
  {
   "cell_type": "code",
   "execution_count": null,
   "id": "3929b058",
   "metadata": {},
   "outputs": [],
   "source": [
    "from trustutils import plot \n",
    " \n",
    "fig = plot.Graph(r\"Pressure along line (Y=1.5) \") \n",
    "fig.addSegment(\"ALE/SquareObstacle_ALE_SONDE_PRESSION_SEGMENT_H1.son\",label=r\"ALE\",marker='-x') \n",
    "fig.addSegment(\"VDF/square_SONDE_PRESSION_SEGMENT_H1.son\",label=r\"IBM_VDF\",marker='-^') \n",
    "fig.addSegment(\"VEF/square_SONDE_PRESSION_SEGMENT_H1.son\",label=r\"IBM_VEF\",marker='-o') \n",
    "fig.label(r\"X\",r\"Pressure\")\n",
    "\n",
    "\n"
   ]
  },
  {
   "cell_type": "code",
   "execution_count": null,
   "id": "e90e170c-d90c-49ff-840d-38ceaf30071b",
   "metadata": {},
   "outputs": [],
   "source": [
    "from trustutils import plot \n",
    " \n",
    "fig = plot.Graph(r\"Pressure along line (Y=3.5) \") \n",
    "fig.addSegment(\"ALE/SquareObstacle_ALE_SONDE_PRESSION_SEGMENT_H3.son\",label=r\"ALE\",marker='-x') \n",
    "fig.addSegment(\"VDF/square_SONDE_PRESSION_SEGMENT_H3.son\",label=r\"IBM_VDF\",marker='-^') \n",
    "fig.addSegment(\"VEF/square_SONDE_PRESSION_SEGMENT_H3.son\",label=r\"IBM_VEF\",marker='-o')\n",
    "fig.label(r\"X\",r\"Pressure\")"
   ]
  },
  {
   "cell_type": "code",
   "execution_count": null,
   "id": "442f7f80-4668-4c9e-a9dc-4a6fe77f96a5",
   "metadata": {},
   "outputs": [],
   "source": [
    "from trustutils import plot \n",
    " \n",
    "fig = plot.Graph(r\"Velocity along line Y=1.5 \") \n",
    "fig.addSegment(\"ALE/SquareObstacle_ALE_SONDE_VITESSEX_SEGMENT_H1.son\",label=r\"ALE\",marker='-x') \n",
    "fig.addSegment(\"VDF/square_SONDE_VITESSEX_SEGMENT_H1.son\",label=r\"IBM_VDF\",marker='-^') \n",
    "fig.addSegment(\"VEF/square_SONDE_VITESSEX_SEGMENT_H1.son\",label=r\"IBM_VEF\",marker='-o') \n",
    "fig.label(r\"X\",r\"Vx\")"
   ]
  },
  {
   "cell_type": "code",
   "execution_count": null,
   "id": "cca504fd-16fa-4c6a-a002-a07ad8aa7830",
   "metadata": {},
   "outputs": [],
   "source": [
    "from trustutils import plot \n",
    " \n",
    "fig = plot.Graph(r\"Velocity along line Y=1.5 \") \n",
    "fig.addSegment(\"ALE/SquareObstacle_ALE_SONDE_VITESSEY_SEGMENT_H1.son\",label=r\"ALE\",marker='-x') \n",
    "fig.addSegment(\"VDF/square_SONDE_VITESSEY_SEGMENT_H1.son\",label=r\"IBM_VDF\",marker='-^') \n",
    "fig.addSegment(\"VEF/square_SONDE_VITESSEY_SEGMENT_H1.son\",label=r\"IBM_VEF\",marker='-o') \n",
    "fig.label(r\"X\",r\"VY\")"
   ]
  },
  {
   "cell_type": "markdown",
   "id": "313dfeec",
   "metadata": {},
   "source": [
    "Probes: 3D Plots\n"
   ]
  },
  {
   "cell_type": "markdown",
   "id": "636a7baa",
   "metadata": {},
   "source": [
    "# Visualisation of contours\n",
    " \n",
    " "
   ]
  },
  {
   "cell_type": "markdown",
   "id": "f0504d43-51dc-4f1c-9442-ab382fbad803",
   "metadata": {},
   "source": [
    "### Velocity"
   ]
  },
  {
   "cell_type": "markdown",
   "id": "84556694-7406-43dd-87bd-e77355e3f415",
   "metadata": {},
   "source": [
    "#### IBM_VDF"
   ]
  },
  {
   "cell_type": "code",
   "execution_count": null,
   "id": "e1cbb0df-7428-41b3-882f-f9f53183bdcb",
   "metadata": {},
   "outputs": [],
   "source": [
    "from trustutils import visit\n",
    " \n",
    "visu = visit.Show(\"./VDF/IBM.lata\",\"Pseudocolor\",\"VITESSE_ELEM_DOM_magnitude\",plotmesh=False)\n",
    "\n",
    "\n",
    "visu.plot()"
   ]
  },
  {
   "cell_type": "markdown",
   "id": "0aec6c87-4845-44d4-a0a0-e901ee40b104",
   "metadata": {},
   "source": [
    "#### ALE"
   ]
  },
  {
   "cell_type": "code",
   "execution_count": null,
   "id": "2441f253-5dbb-4bed-a263-b76730f7e2f8",
   "metadata": {},
   "outputs": [],
   "source": [
    "from trustutils import visit\n",
    " \n",
    "visu = visit.Show(\"./ALE/lata/ALE.lata\",\"Pseudocolor\",\"VITESSE_ELEM_dom_magnitude\",plotmesh=False)\n",
    "\n",
    "\n",
    "visu.plot()"
   ]
  },
  {
   "cell_type": "markdown",
   "id": "318cb4ea-7c0f-4316-9bd4-0d1dceb72f57",
   "metadata": {},
   "source": [
    "#### IBM_VEF"
   ]
  },
  {
   "cell_type": "code",
   "execution_count": null,
   "id": "b8dac322-e308-401c-b83d-3865b5d05e17",
   "metadata": {},
   "outputs": [],
   "source": [
    "from trustutils import visit\n",
    " \n",
    "visu = visit.Show(\"./VEF/IBM.lata\",\"Pseudocolor\",\"VITESSE_ELEM_DOM_magnitude\",plotmesh=False)\n",
    "\n",
    "\n",
    "visu.plot()"
   ]
  },
  {
   "cell_type": "markdown",
   "id": "c3c01ddf-bd8c-472c-b0c0-6d6de015fd81",
   "metadata": {},
   "source": [
    "### Pressure"
   ]
  },
  {
   "cell_type": "markdown",
   "id": "2dc92b9e-471a-4210-b237-4390867643a2",
   "metadata": {},
   "source": [
    "#### IBM_VDF"
   ]
  },
  {
   "cell_type": "code",
   "execution_count": null,
   "id": "2e21d780-fca0-4c16-bc71-4b095ab9e9f6",
   "metadata": {},
   "outputs": [],
   "source": [
    "from trustutils import visit\n",
    " \n",
    "visu = visit.Show(\"./VDF/IBM.lata\",\"Pseudocolor\",\"PRESSION_SOM_DOM\",plotmesh=False)\n",
    "\n",
    "visu.plot()"
   ]
  },
  {
   "cell_type": "markdown",
   "id": "30133b15-7b0e-43bd-b1bb-2164b07cbd60",
   "metadata": {},
   "source": [
    "#### ALE"
   ]
  },
  {
   "cell_type": "code",
   "execution_count": null,
   "id": "d57ffc93-21d7-412b-8952-d641a6a45d89",
   "metadata": {},
   "outputs": [],
   "source": [
    "from trustutils import visit\n",
    " \n",
    "visu = visit.Show(\"./ALE/lata/ALE.lata\",\"Pseudocolor\",\"PRESSION_SOM_dom\",plotmesh=False)\n",
    "\n",
    "visu.plot()"
   ]
  },
  {
   "cell_type": "markdown",
   "id": "2c0ba996-5acc-4951-8761-ff7fce2d4eb6",
   "metadata": {},
   "source": [
    "#### IBM_VEF"
   ]
  },
  {
   "cell_type": "code",
   "execution_count": null,
   "id": "3785fb39-3faf-4639-ba4c-fabfdef346a7",
   "metadata": {},
   "outputs": [],
   "source": [
    "from trustutils import visit\n",
    " \n",
    "visu = visit.Show(\"./VEF/IBM.lata\",\"Pseudocolor\",\"PRESSION_SOM_DOM\",plotmesh=False)\n",
    "\n",
    "visu.plot()"
   ]
  },
  {
   "cell_type": "markdown",
   "id": "7cac2e8c",
   "metadata": {},
   "source": [
    "## Conclusion \n",
    "The analysis of the plots of various quantities such as aerodynamic coefficients, velocities, and pressures shows good agreement between the results obtained using the DF-IBM and ALE methods. This validates the implementation of the DF-IBM approach in the context of the SPHERIC benchmark test cases [1].\n",
    "\n"
   ]
  },
  {
   "cell_type": "markdown",
   "id": "cf6a1a84",
   "metadata": {},
   "source": [
    "## References: \n",
    "\n",
    "* 1. A. Colagrossi, 'SPHERIC benchmark 6: 2D Incompressible flow around a moving square inside a rectangular box. - 2D SPH Validation.', SPHERIC, [Online]. Available: http://spheric-sph.org/tests/test-6. [Accessed Sept. 29, 2017].\n",
    "\n"
   ]
  }
 ],
 "metadata": {
  "kernelspec": {
   "display_name": "Python 3 (ipykernel)",
   "language": "python",
   "name": "python3"
  },
  "language_info": {
   "codemirror_mode": {
    "name": "ipython",
    "version": 3
   },
   "file_extension": ".py",
   "mimetype": "text/x-python",
   "name": "python",
   "nbconvert_exporter": "python",
   "pygments_lexer": "ipython3",
   "version": "3.12.5"
  }
 },
 "nbformat": 4,
 "nbformat_minor": 5
}
