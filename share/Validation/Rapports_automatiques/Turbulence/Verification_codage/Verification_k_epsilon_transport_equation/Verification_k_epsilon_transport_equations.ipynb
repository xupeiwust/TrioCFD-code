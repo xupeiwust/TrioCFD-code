{
 "cells": [
  {
   "cell_type": "markdown",
   "id": "ffa5e26c",
   "metadata": {},
   "source": [
    "# Purpose \n",
    " \n",
    "The present verification report aims at checking the post-processing of the convective, diffusive and source terms of the standard and realisable $k$-$\\varepsilon$ transport equations using VDF and VEF discretizations. No numerical resolution is performed.\n",
    "\n",
    "Validation made by: Pierre-Emmanuel Angeli and Alan Burlot"
   ]
  },
  {
   "attachments": {},
   "cell_type": "markdown",
   "id": "0887c6a3-01be-458f-8f57-764717674db1",
   "metadata": {},
   "source": [
    "# Problem Description \n",
    "\n",
    "## Geometry \n",
    "\n",
    "The computational domain is the unit cube.\n",
    "\n",
    "## Initial Conditions and Boundary Conditions \n",
    "\n",
    "- **Boundary conditions**: Triple periodicity.\n",
    "\n",
    "\n",
    "- **Initial conditions**: Periodic velocity, turbulent kinetic energy and turbulent dissipation fields defined by the following analytical expressions:\n",
    "\n",
    "\\begin{align*}\n",
    "&\\text{velocity vector: } && \\textbf{u}(x,y,z) = \\begin{pmatrix} -2 \\cos(2\\pi x) \\sin(2\\pi y) \\sin(2\\pi z) \\\\\\\\ \\sin(2\\pi x) \\cos(2\\pi y) \\sin(2\\pi z) \\\\\\\\ \\sin(2\\pi x) \\sin(2\\pi y) \\cos(2\\pi z) \\end{pmatrix} \\\\ \n",
    "&\\text{turbulent kinetic energy: } && k(x,y,z) = \\cos(2 \\pi y)+2 \\\\ \n",
    "&\\text{turbulent dissipation rate: } && \\varepsilon(x,y,z) = \\sin(2 \\pi y)+2\\end{align*}\n",
    "\n",
    "N.B.: The imposed velocity field has a zero divergence."
   ]
  },
  {
   "attachments": {},
   "cell_type": "markdown",
   "id": "3b458a83-a344-4dbf-9ee5-69eb5a614ee8",
   "metadata": {},
   "source": [
    "## Fluid Properties \n",
    "\n",
    "- $\\mu$ = 0.001 Pa.s\n",
    "- $\\rho$ = 1000 kg/s\n",
    "\n",
    "## Flow Physics \n",
    "\n",
    "This is a verification of post-processing: analytical velocity, $k$ and $\\varepsilon$ fields are imposed and frozen (no resolution of the flow).\n",
    "\n",
    "# Case Setup \n",
    "\n",
    "## Grid \n",
    "\n",
    "- The VDF mesh has 101 points in each direction $\\Rightarrow (101-1)^3 = 10^6$ cells.\n",
    "- The VEF mesh has 26 points in each direction and the cells are divided into 48 tetrahedra with the ```tetraedriser_homogene_fin``` option $\\Rightarrow 48 \\times (26-1)^3 = 7.5 \\cdot 10^5$ cells.\n"
   ]
  },
  {
   "cell_type": "markdown",
   "id": "7e5fb3b1",
   "metadata": {},
   "source": [
    "## Model Options \n"
   ]
  },
  {
   "cell_type": "markdown",
   "id": "4c3930f0",
   "metadata": {},
   "source": [
    "The transport equations of $k$ and $\\varepsilon$ write under the following form:\n"
   ]
  },
  {
   "cell_type": "markdown",
   "id": "1ab7cbca",
   "metadata": {},
   "source": [
    "\\begin{align*}\n",
    "&\\dfrac{\\partial k}{\\partial t} + \\underbrace{U_i \\dfrac{\\partial k}{\\partial x_i}}_{\\text{conv}_k} = \\underbrace{\\dfrac{\\partial}{\\partial x_i} \\left[ \\left( \\dfrac{\\nu_t}{\\sigma_k} \\right) \\dfrac{\\partial k}{\\partial x_i} \\right]}_{\\text{diff}_k} + \\underbrace{P - \\varepsilon}_{\\text{ source}_k}\\\\\n",
    "&\\dfrac{\\partial \\varepsilon}{\\partial t} + \\underbrace{U_i \\dfrac{\\partial \\varepsilon}{\\partial x_i}}_{\\text{conv}_\\varepsilon} = \\underbrace{\\dfrac{\\partial}{\\partial x_i} \\left[ \\left( \\dfrac{\\nu_t}{\\sigma_\\varepsilon} \\right) \\dfrac{\\partial \\varepsilon}{\\partial x_i} \\right]}_{\\text{diff}_\\varepsilon} + \\text{ source}_\\varepsilon\n",
    "\\end{align*}"
   ]
  },
  {
   "cell_type": "markdown",
   "id": "e581cdb7",
   "metadata": {},
   "source": [
    "The $\\varepsilon$ source term in the standard and realizable $k$--$\\varepsilon$ models is defined as:"
   ]
  },
  {
   "cell_type": "markdown",
   "id": "9edabc9c",
   "metadata": {},
   "source": [
    "\\begin{align*}\n",
    "&\\text{standard: } && \\text{source}_\\varepsilon = \\dfrac{\\varepsilon}{k} \\left( C_{\\varepsilon_1} P - C_{\\varepsilon_2} \\varepsilon \\right) \\\\\n",
    "&\\text{realizable: } && \\text{source}_\\varepsilon = C_1 S \\varepsilon -C_2 \\dfrac{\\varepsilon^2}{k + \\sqrt{\\nu \\varepsilon}}\n",
    "\\end{align*}"
   ]
  },
  {
   "attachments": {},
   "cell_type": "markdown",
   "id": "0f358d22-b0ad-4bdc-94dc-90588054c05a",
   "metadata": {},
   "source": [
    "For the complete description of the models, refer to equations and (21) and (54) of [1].\n",
    "\n",
    "\n",
    "The analytical expressions are computing using symbolic computation with sympy.\n",
    "\n",
    "\n",
    "In order to get rid of interpolation of their values, the terms are plotted by means of probes at their real location, namely:\n",
    "- at gravity center of cells in VDF;\n",
    "- at face center of cells in VEF."
   ]
  },
  {
   "attachments": {},
   "cell_type": "markdown",
   "id": "5e9664d9-eca9-4974-a27e-a16eb6ae37e8",
   "metadata": {},
   "source": [
    "## Other Options (calculation) \n",
    "\n",
    "The ```equation_non_resolue``` option is used to disable the resolution.\n",
    "\n",
    "\n",
    "The number of time steps ```nb_pas_dt_max``` is set to zero.\n"
   ]
  },
  {
   "cell_type": "markdown",
   "id": "0463e825-4523-44b6-8b2a-45660b63ad46",
   "metadata": {},
   "source": [
    "# Analytic $k$-$\\varepsilon$ computation"
   ]
  },
  {
   "cell_type": "markdown",
   "id": "89a5ccc2-0ed1-4523-8896-61f2dee0352a",
   "metadata": {},
   "source": [
    "## Tools and definitions"
   ]
  },
  {
   "cell_type": "markdown",
   "id": "72c62dd5-84ce-419a-bc31-9fe712ebd500",
   "metadata": {},
   "source": [
    "We define a gradient function and a divergence function with sympy. The `create_function` function allows to convert the sympy expression in a callable function by lambdifying it."
   ]
  },
  {
   "cell_type": "code",
   "execution_count": null,
   "id": "17470316-b4ba-44de-bf42-0f8cf8b6de05",
   "metadata": {},
   "outputs": [],
   "source": [
    "import sympy\n",
    "from sympy import cos, sin, pi\n",
    "import numpy\n",
    "import pandas\n",
    "\n",
    "\n",
    "x, y, z = sympy.symbols('x y z', real=True)\n",
    "\n",
    "\n",
    "def grad(f):\n",
    "    \"\"\"Compute the gradient of a scalar function f with respect to x, y, and z.\"\"\"\n",
    "    return [sympy.diff(f, x), sympy.diff(f, y), sympy.diff(f, z)]\n",
    "\n",
    "\n",
    "def div(f):\n",
    "    \"\"\"Compute the divergence of a vector field f.\"\"\"\n",
    "    return sympy.diff(f[0], x) + sympy.diff(f[1], y) + sympy.diff(f[2], z)\n",
    "\n",
    "\n",
    "def create_function(func, dsubsti):\n",
    "    \"\"\"Lambdify the sympy expression.\"\"\"\n",
    "    lam_func = sympy.lambdify([x, y, z],\n",
    "                              func.subs(dsubsti),\n",
    "                              modules=[{'sqrt': numpy.emath.sqrt, \"Max\": numpy.max}, \"numpy\"])\n",
    "    return lam_func\n"
   ]
  },
  {
   "cell_type": "markdown",
   "id": "8485aa80-7743-47b3-8714-7449b68df7eb",
   "metadata": {},
   "source": [
    "Special functions are defined for tensors. The rotation tensor computation was validated to obtain the correct sign."
   ]
  },
  {
   "cell_type": "code",
   "execution_count": null,
   "id": "afeb76e9-632c-4ac0-98d9-2813e9e5debf",
   "metadata": {},
   "outputs": [],
   "source": [
    "def compute_strain_tensor(velocity):\n",
    "    \"\"\"Compute 1/2*(du_i/dx_j + du_j/dx_i).\"\"\"\n",
    "    gradv = [grad(velocity[0]),\n",
    "             grad(velocity[1]),\n",
    "             grad(velocity[2])]\n",
    "    strain_ij = pandas.DataFrame((pandas.DataFrame(gradv)\n",
    "                                  + pandas.DataFrame(gradv).T)/2).values.tolist()\n",
    "    assert numpy.array(strain_ij).shape == (3, 3)\n",
    "    assert strain_ij[0][1] == strain_ij[1][0]\n",
    "    assert strain_ij[0][2] == strain_ij[2][0]\n",
    "    assert strain_ij[1][2] == strain_ij[2][1]\n",
    "\n",
    "    return strain_ij\n",
    "\n",
    "def compute_rotation_tensor(velocity):\n",
    "    \"\"\"Compute 1/2*(du_i/dx_j - du_j/dx_i).\"\"\"\n",
    "    gradv = [grad(velocity[0]),\n",
    "             grad(velocity[1]),\n",
    "             grad(velocity[2])]\n",
    "    rota_ij = pandas.DataFrame((pandas.DataFrame(gradv).T\n",
    "                                - pandas.DataFrame(gradv))/2).values.tolist()\n",
    "    assert numpy.array(rota_ij).shape == (3, 3)\n",
    "    assert rota_ij[0][1] == - rota_ij[1][0]\n",
    "    assert rota_ij[0][2] == - rota_ij[2][0]\n",
    "    assert rota_ij[1][2] == - rota_ij[2][1]\n",
    "    for diag in [0, 1, 2]:\n",
    "        assert rota_ij[diag][diag] == 0\n",
    "\n",
    "    return rota_ij\n",
    "\n",
    "def compute_tensor_contraction(tensor_ij):\n",
    "    \"\"\"Compute einstein summation of TijTij\"\"\"\n",
    "    return numpy.einsum('ij,ij->', numpy.array(tensor_ij), numpy.array(tensor_ij))\n"
   ]
  },
  {
   "cell_type": "markdown",
   "id": "df7b3514-72a8-4d3f-bf7a-ba1b7117efdd",
   "metadata": {},
   "source": [
    "## Commons"
   ]
  },
  {
   "cell_type": "code",
   "execution_count": null,
   "id": "8ff1b324-1fdf-444b-b0dc-20f21945a7d6",
   "metadata": {},
   "outputs": [],
   "source": [
    "def compute_convection(velocity, tkeOReps):\n",
    "    \"\"\"Compute U_i x dk/dx_i.\"\"\"\n",
    "    return sum([a*b for a, b in zip(velocity, grad(tkeOReps))])\n",
    "\n",
    "\n",
    "def compute_diffusion(tkeOReps, nut):\n",
    "    \"\"\"Compute d/dx_i(nu_t/epsX x dX/dx_i)\"\"\"\n",
    "    return div([nut*sympy.diff(tkeOReps, a) for a in [x, y, z]])"
   ]
  },
  {
   "cell_type": "markdown",
   "id": "a5e0007d-9e7e-4f87-9c4d-0d6cdc938986",
   "metadata": {},
   "source": [
    "## Definition of the models terms"
   ]
  },
  {
   "cell_type": "code",
   "execution_count": null,
   "id": "15357dbd-2372-4dd0-a53a-af37f50fe9b0",
   "metadata": {},
   "outputs": [],
   "source": [
    "def compute_production_tke(nut, strain):\n",
    "    \"\"\"Compute the production term of the turbulent kinetic energy equation.\"\"\"\n",
    "    return 2*nut*strain\n",
    "\n",
    "def compute_sources_tke(prod, eps):\n",
    "    \"\"\"Compute the total source termes for the turbulent kinetic energy of the standard k-epsilon\n",
    "    equation, i.e. Prod - eps.\"\"\"\n",
    "    return prod - eps\n",
    "\n",
    "def compute_sources_eps_std(kepsstd):\n",
    "    \"\"\"Compute the total source termes for the turbulent kinetic energy of the standard k-epsilon\n",
    "    equation, i.e. eps/tke*(C_eps1*Prod - C_eps2*eps).\"\"\"\n",
    "    return kepsstd[\"eps\"]/kepsstd[\"tke\"] * (kepsstd[\"ceps1\"]*kepsstd[\"prod_tke\"]\n",
    "                                            - kepsstd[\"ceps2\"]*kepsstd[\"eps\"])\n",
    "\n",
    "def compute_sources_eps_rea(kepsrea):\n",
    "    \"\"\"Compute the total source termes for the turbulent kinetic energy of the standard k-epsilon\n",
    "    equation, i.e. c1*strain*eps - c2*eps*eps/(tke + sympy.sqrt(nu*eps)).\"\"\"\n",
    "    tke, eps = kepsrea[\"tke\"], kepsrea[\"eps\"]\n",
    "    S = kepsrea[\"S\"]\n",
    "    c1, c2, nu = kepsrea[\"c1\"], kepsrea[\"c2\"], kepsrea[\"nu\"]\n",
    "    return c1*S*eps - c2*eps*eps/(tke + sympy.sqrt(nu*eps))\n"
   ]
  },
  {
   "cell_type": "markdown",
   "id": "3bde9fbf-6f91-47a2-8ef7-c3588fba8279",
   "metadata": {},
   "source": [
    "## Computation of the standard $k$-$\\varepsilon$ model"
   ]
  },
  {
   "cell_type": "code",
   "execution_count": null,
   "id": "7ae2ec6d-f7c8-4b00-a707-94aa2111eb17",
   "metadata": {},
   "outputs": [],
   "source": [
    "def compute_kepsilon_std():\n",
    "    \"\"\"Sympy expressions for the standard k-epsilon.\"\"\"\n",
    "    sigmak, sigmae = sympy.symbols(\"sigmak sigmae\")\n",
    "    ceps1, ceps2 = sympy.symbols('ceps1 ceps2')\n",
    "    cmu = sympy.symbols(\"cmu\")\n",
    "    # nu = sympy.symbols(\"nu\")\n",
    "\n",
    "    # for substitution at the end\n",
    "    dsubsti = {\n",
    "        \"sigmak\": 1,\n",
    "        \"sigmae\": 1.3,\n",
    "        \"ceps1\": 1.44,\n",
    "        \"ceps2\": 1.92,\n",
    "        \"cmu\": 0.09\n",
    "    }\n",
    "\n",
    "    # init variables\n",
    "    velocity = [-2*cos(2*pi*x)*sin(2*pi*y)*sin(2*pi*z),\n",
    "                sin(2*pi*x)*cos(2*pi*y)*sin(2*pi*z),\n",
    "                sin(2*pi*x)*sin(2*pi*y)*cos(2*pi*z)]\n",
    "    tke = 2 + cos(2*pi*y)\n",
    "    eps = 2 + sin(2*pi*y)\n",
    "\n",
    "    kepsstd = {\n",
    "        \"tke\": tke,\n",
    "        \"eps\": eps,\n",
    "        \"ceps1\": ceps1,\n",
    "        \"ceps2\": ceps2\n",
    "    }\n",
    "\n",
    "    # Compute the strain tensor and its contracted product\n",
    "    strain_ij = compute_strain_tensor(velocity)\n",
    "    strain = compute_tensor_contraction(strain_ij)\n",
    "\n",
    "    # Turbulent viscosity\n",
    "    nut = cmu*tke*tke/eps\n",
    "    kepsstd[\"nut\"] = nut\n",
    "    \n",
    "    # TKE\n",
    "    conv_tke = compute_convection(velocity, tke)\n",
    "    kepsstd[\"conv_tke\"] = conv_tke\n",
    "    diff_tke = compute_diffusion(tke, nut/sigmak)\n",
    "    kepsstd[\"diff_tke\"] = diff_tke\n",
    "    prod_tke = compute_production_tke(nut, strain)\n",
    "    kepsstd[\"prod_tke\"] = prod_tke\n",
    "    sources_tke = compute_sources_tke(prod_tke, eps)\n",
    "    kepsstd[\"sources_tke\"] = sources_tke\n",
    "\n",
    "    # EPS\n",
    "    conv_eps = compute_convection(velocity, eps)\n",
    "    kepsstd[\"conv_eps\"] = conv_eps\n",
    "    diff_eps = compute_diffusion(eps, nut/sigmae)\n",
    "    kepsstd[\"diff_eps\"] = diff_eps\n",
    "    sources_eps = compute_sources_eps_std(kepsstd)\n",
    "    kepsstd[\"sources_eps\"] = sources_eps\n",
    "\n",
    "    return kepsstd\n",
    "\n",
    "kepsstd = compute_kepsilon_std()"
   ]
  },
  {
   "cell_type": "markdown",
   "id": "aa038612-3931-4b3a-8f99-9da753791d8b",
   "metadata": {},
   "source": [
    "## Computation of the realizable $k$-$\\varepsilon$ model"
   ]
  },
  {
   "cell_type": "code",
   "execution_count": null,
   "id": "15e3bbba-9fd1-4fa4-bec9-3245d2eb1629",
   "metadata": {},
   "outputs": [],
   "source": [
    "def compute_kepsilon_rea():\n",
    "    \"\"\"Sympy expressions for the realisable k-epsilon model.\"\"\"\n",
    "\n",
    "    # Constants of the models\n",
    "    sigmak = 1.0  # sympy.symbols(\"sigmak\", positive=True, real=True, zero=False)\n",
    "    sigmae = 1.3  # sympy.symbols(\"sigmae\", positive=True, real=True, zero=False)\n",
    "    c2 = 1.9  # sympy.symbols(\"c2\", positive=True, real=True, zero=False)\n",
    "    A0 = 4.04  # sympy.symbols(\"A0\", positive=True, real=True, zero=False)\n",
    "    nu = 1e-6  # sympy.symbols(\"nu\", positive=True, real=True, zero=False)\n",
    "\n",
    "    # init fields and constants\n",
    "    velocity = [-2*cos(2*pi*x)*sin(2*pi*y)*sin(2*pi*z),\n",
    "                sin(2*pi*x)*cos(2*pi*y)*sin(2*pi*z),\n",
    "                sin(2*pi*x)*sin(2*pi*y)*cos(2*pi*z)]\n",
    "    tke = 2 + cos(2*pi*y)\n",
    "    eps = 2 + sin(2*pi*y)\n",
    "\n",
    "    dsubsti = {\n",
    "        \"sigmak\": 1.0,\n",
    "        \"sigmae\": 1.3, \n",
    "        \"A0\": 4.04,\n",
    "        \"c2\": 1.9,\n",
    "        \"nu\": 1e-6 \n",
    "    }\n",
    "\n",
    "    # Create the output dictionnary\n",
    "    kepsrea = {\n",
    "        \"tke\": tke,\n",
    "        \"eps\": eps,\n",
    "        \"c2\": c2,\n",
    "        \"nu\": nu,\n",
    "        \"dsubsti\": dsubsti\n",
    "    }\n",
    "\n",
    "    # Compute the strain tensor and its contracted product\n",
    "    strain_ij = compute_strain_tensor(velocity)\n",
    "    strain = compute_tensor_contraction(strain_ij)\n",
    "    kepsrea[\"strain\"] = strain\n",
    "\n",
    "    rota_ij = compute_rotation_tensor(velocity)\n",
    "    rota = compute_tensor_contraction(rota_ij)\n",
    "    kepsrea[\"rota\"] = rota\n",
    "\n",
    "    S = sympy.sqrt(2*strain)\n",
    "    W = 2**(3/2)*numpy.einsum('ij,jk,ki->', strain_ij, strain_ij, strain_ij)/S**3\n",
    "    AS = numpy.sqrt(6)*sympy.cos(1/3*sympy.acos(numpy.sqrt(6)*W))\n",
    "    Ustar = sympy.sqrt(strain + rota)\n",
    "    cmu = 1/(A0 + AS*Ustar*tke/eps)\n",
    "    nut = cmu*tke*tke/eps\n",
    "    C1 = sympy.Max(0.43, S*tke/(5*eps + S*tke))\n",
    "\n",
    "    kepsrea[\"S\"] = S\n",
    "    kepsrea[\"c1\"] = C1\n",
    "    kepsrea[\"W\"] = W\n",
    "    kepsrea[\"AS\"] = AS\n",
    "    kepsrea[\"Ustar\"] = Ustar\n",
    "    kepsrea[\"cmu\"] = cmu\n",
    "\n",
    "    # Turbulent viscosity\n",
    "    kepsrea[\"nut\"] = nut\n",
    "\n",
    "    # TKE\n",
    "    conv_tke = compute_convection(velocity, tke)\n",
    "    kepsrea[\"conv_tke\"] = conv_tke\n",
    "    diff_tke = compute_diffusion(tke, nut)/sigmak\n",
    "    kepsrea[\"diff_tke\"] = diff_tke\n",
    "    prod_tke = compute_production_tke(nut, strain)\n",
    "    kepsrea[\"prod_tke\"] = prod_tke\n",
    "    sources_tke = compute_sources_tke(prod_tke, eps)\n",
    "    kepsrea[\"sources_tke\"] = sources_tke\n",
    "\n",
    "    # EPS\n",
    "    conv_eps = compute_convection(velocity, eps)\n",
    "    kepsrea[\"conv_eps\"] = conv_eps\n",
    "    diff_eps = compute_diffusion(eps, nut)/sigmae\n",
    "    kepsrea[\"diff_eps\"] = diff_eps\n",
    "    sources_eps = compute_sources_eps_rea(kepsrea)\n",
    "    kepsrea[\"sources_eps\"] = sources_eps\n",
    "\n",
    "    return kepsrea\n",
    "\n",
    "kepsrea = compute_kepsilon_rea()"
   ]
  },
  {
   "cell_type": "markdown",
   "id": "a81d0360-1053-40fc-8672-38009e17f32d",
   "metadata": {},
   "source": [
    "## Lambdify functions"
   ]
  },
  {
   "cell_type": "markdown",
   "id": "17a96d4f-fd8e-4cc6-864b-cbdfffc14a66",
   "metadata": {},
   "source": [
    "We create callable function to plot them."
   ]
  },
  {
   "cell_type": "markdown",
   "id": "74bc346c-816a-4bd5-81ed-4b5b74517e88",
   "metadata": {},
   "source": [
    "### $k$-$\\varepsilon$ standard"
   ]
  },
  {
   "cell_type": "code",
   "execution_count": null,
   "id": "2fae8822-9def-4403-8f4d-df56db06ad55",
   "metadata": {},
   "outputs": [],
   "source": [
    "dsubsti = {\n",
    "    \"sigmak\": 1,\n",
    "    \"sigmae\": 1.3,\n",
    "    \"ceps1\": 1.44,\n",
    "    \"ceps2\": 1.92,\n",
    "    \"cmu\": 0.09\n",
    "}\n",
    "nut_std = create_function(kepsstd[\"nut\"], dsubsti)\n",
    "\n",
    "# TKE\n",
    "conv_tke_std = create_function(kepsstd[\"conv_tke\"], dsubsti)\n",
    "diff_tke_std = create_function(kepsstd[\"diff_tke\"], dsubsti)\n",
    "prod_tke_std = create_function(kepsstd[\"prod_tke\"], dsubsti)\n",
    "sources_tke_std = create_function(kepsstd[\"sources_tke\"], dsubsti)\n",
    "\n",
    "# EPS\n",
    "conv_eps_std = create_function(kepsstd[\"conv_eps\"], dsubsti)\n",
    "diff_eps_std = create_function(kepsstd[\"diff_eps\"], dsubsti)\n",
    "sources_eps_std = create_function(kepsstd[\"sources_eps\"], dsubsti)"
   ]
  },
  {
   "cell_type": "markdown",
   "id": "93c7a203-ade4-4237-a2ff-62901654ead0",
   "metadata": {},
   "source": [
    "### $k$-$\\varepsilon$ realisable"
   ]
  },
  {
   "cell_type": "code",
   "execution_count": null,
   "id": "a3c33525-a035-4a48-aabc-b5bc1689a98c",
   "metadata": {},
   "outputs": [],
   "source": [
    "dsubsti = {\n",
    "    \"sigmak\": 1.0,\n",
    "    \"sigmae\": 1.3,\n",
    "    \"A0\": 4.04,\n",
    "    \"c2\": 1.9,\n",
    "    \"nu\": 1e-6\n",
    "}\n",
    "nut_rea = create_function(kepsrea[\"nut\"], dsubsti)\n",
    "\n",
    "# TKE\n",
    "conv_tke_rea = create_function(kepsrea[\"conv_tke\"], dsubsti)\n",
    "diff_tke_rea = create_function(kepsrea[\"diff_tke\"], dsubsti)\n",
    "prod_tke_rea = create_function(kepsrea[\"prod_tke\"], dsubsti)\n",
    "sources_tke_rea = create_function(kepsrea[\"sources_tke\"], dsubsti)\n",
    "\n",
    "# EPS\n",
    "conv_eps_rea = create_function(kepsrea[\"conv_eps\"], dsubsti)\n",
    "diff_eps_rea = create_function(kepsrea[\"diff_eps\"], dsubsti)\n",
    "sources_eps_rea = create_function(kepsrea[\"sources_eps\"], dsubsti)"
   ]
  },
  {
   "cell_type": "markdown",
   "id": "d8864751",
   "metadata": {},
   "source": [
    "# TrioCFD computation"
   ]
  },
  {
   "cell_type": "code",
   "execution_count": null,
   "id": "89c91518",
   "metadata": {},
   "outputs": [],
   "source": [
    "from trustutils import run\n",
    " \n",
    "run.reset() \n",
    "run.addCase(\"VDF_KEPS_STANDARD\",\"Cas.data\")\n",
    "run.addCase(\"VDF_KEPS_REALISABLE\",\"Cas.data\")\n",
    "run.addCase(\"VEF_KEPS_STANDARD\",\"Cas.data\")\n",
    "run.addCase(\"VEF_KEPS_REALISABLE\",\"Cas.data\")\n",
    "run.printCases()\n",
    "run.runCases()"
   ]
  },
  {
   "cell_type": "markdown",
   "id": "c75878de",
   "metadata": {},
   "source": [
    "## Performance Chart"
   ]
  },
  {
   "cell_type": "code",
   "execution_count": null,
   "id": "c214feb7",
   "metadata": {},
   "outputs": [],
   "source": [
    "run.tablePerf()"
   ]
  },
  {
   "cell_type": "markdown",
   "id": "e813a565",
   "metadata": {},
   "source": [
    "# Plot results"
   ]
  },
  {
   "cell_type": "markdown",
   "id": "ba10c774",
   "metadata": {},
   "source": [
    "## VDF standard $k$-$\\varepsilon$ model"
   ]
  },
  {
   "cell_type": "markdown",
   "id": "5bfa0133-d868-49eb-b72d-2dd671ee1ffc",
   "metadata": {},
   "source": [
    "### Turbulent viscosity"
   ]
  },
  {
   "cell_type": "code",
   "execution_count": null,
   "id": "0ab988c1-c841-40e0-b868-a9f4542c5f45",
   "metadata": {},
   "outputs": [],
   "source": [
    "from trustutils import plot \n",
    " \n",
    "fig = plot.Graph(r\"Turbulent viscosity of the standard $k$-$\\varepsilon$ model in VDF at x = z = 0.005\")\n",
    "\n",
    "data = plot.loadText(\"./VDF_KEPS_STANDARD/nut.dat\")\n",
    "fig.add((data[0]),(data[1]),marker=\"x\",label=r\"TrioCFD profile\")\n",
    "\n",
    "xval = numpy.linspace(0, 1, 500)\n",
    "yval = nut_std(5e-3, xval, 5e-3)\n",
    "fig.add(xval, yval, label=\"Sympy\")\n",
    "\n",
    "fig.label(\"y\",\"Turbulent viscosity\")\n",
    "\n",
    "fig.visu()"
   ]
  },
  {
   "cell_type": "markdown",
   "id": "b734c946-d96d-4ecf-a082-39fd51a982bb",
   "metadata": {},
   "source": [
    "### Convective terms"
   ]
  },
  {
   "cell_type": "code",
   "execution_count": null,
   "id": "5284ef63",
   "metadata": {},
   "outputs": [],
   "source": [
    "fig = plot.Graph(r\"Convective terms of the standard $k$-$\\varepsilon$ model in VDF at x = z = 0.005\")\n",
    "\n",
    "data = plot.loadText(\"./VDF_KEPS_STANDARD/conv_tke.dat\")\n",
    "fig.add((data[0]),(data[1]),marker=\"x\",label=r\"TrioCFD profile (k equation)\")\n",
    "\n",
    "data = plot.loadText(\"./VDF_KEPS_STANDARD/conv_eps.dat\")\n",
    "fig.add((data[0]),(data[1]),marker=\"x\",label=r\"TrioCFD profile (eps equation)\")\n",
    "\n",
    "xval = numpy.linspace(0, 1, 500)\n",
    "yval = conv_tke_std(5e-3, xval, 5e-3)\n",
    "fig.add(xval, -yval, label=\"Sympy TKE\")\n",
    "yval = conv_eps_std(5e-3, xval, 5e-3)\n",
    "fig.add(xval, -yval, label=\"Sympy EPS\")\n",
    "\n",
    "fig.label(\"y\",\"convective term\")\n",
    "\n",
    "fig.visu()\n"
   ]
  },
  {
   "cell_type": "markdown",
   "id": "8c783996-6db3-4273-b67a-4da2d9d8bcdc",
   "metadata": {},
   "source": [
    "### Diffusive terms"
   ]
  },
  {
   "cell_type": "code",
   "execution_count": null,
   "id": "09a92dd6",
   "metadata": {},
   "outputs": [],
   "source": [
    "fig = plot.Graph(r\"Diffusive terms of the standard $k$-$\\varepsilon$ model in VDF at x = z = 0.005\")\n",
    "\n",
    "data = plot.loadText(\"./VDF_KEPS_STANDARD/diff_tke.dat\")\n",
    "fig.add((data[0]),(data[1]),marker=\"x\",label=r\"TrioCFD profile (k equation)\")\n",
    "\n",
    "data = plot.loadText(\"./VDF_KEPS_STANDARD/diff_eps.dat\")\n",
    "fig.add((data[0]),(data[1]),marker=\"x\",label=r\"TrioCFD profile (eps equation)\")\n",
    "\n",
    "xval = numpy.linspace(0, 1, 500)\n",
    "yval = diff_tke_std(5e-3, xval, 5e-3)\n",
    "fig.add(xval, yval, label=\"Sympy TKE\")\n",
    "yval = diff_eps_std(5e-3, xval, 5e-3)\n",
    "fig.add(xval, yval, label=\"Sympy EPS\")\n",
    "\n",
    "fig.label(r\"y\",r\"diffusive term\")\n",
    "\n",
    "fig.visu(xmin=0.0,xmax=1.0)\n"
   ]
  },
  {
   "cell_type": "markdown",
   "id": "657263ce-35a0-4666-ada8-fc67a461bd6c",
   "metadata": {},
   "source": [
    "### Source terms"
   ]
  },
  {
   "cell_type": "code",
   "execution_count": null,
   "id": "94cff264",
   "metadata": {},
   "outputs": [],
   "source": [
    "fig = plot.Graph(r\"Source terms of the standard $k$-$\\varepsilon$ model in VDF at x = z = 0.005\")\n",
    "\n",
    "data = plot.loadText(\"./VDF_KEPS_STANDARD/source_tke.dat\")\n",
    "fig.add((data[0]),(data[1]),marker=\"x\",label=r\"TrioCFD profile (k equation)\")\n",
    "\n",
    "data = plot.loadText(\"./VDF_KEPS_STANDARD/source_eps.dat\")\n",
    "fig.add((data[0]),(data[1]),marker=\"x\",label=r\"TrioCFD profile (eps equation)\")\n",
    "\n",
    "xval = numpy.linspace(0, 1, 500)\n",
    "yval = sources_tke_std(5e-3, xval, 5e-3)\n",
    "fig.add(xval, yval, label=\"Sympy TKE\")\n",
    "yval = sources_eps_std(5e-3, xval, 5e-3)\n",
    "fig.add(xval, yval, label=\"Sympy EPS\")\n",
    "\n",
    "fig.label(r\"y\",r\"source term\")\n",
    "\n",
    "fig.visu(xmin=0.0,xmax=1.0)\n"
   ]
  },
  {
   "cell_type": "markdown",
   "id": "a3d9d335",
   "metadata": {},
   "source": [
    "## VDF realizable $k$-$\\varepsilon$ model\n"
   ]
  },
  {
   "cell_type": "markdown",
   "id": "a6bd3bf3-d92f-4c35-8739-9e576682ae60",
   "metadata": {},
   "source": [
    "### Turbulent viscosity"
   ]
  },
  {
   "cell_type": "code",
   "execution_count": null,
   "id": "8b0a6f7c-f941-4a85-acd9-742c5a530b09",
   "metadata": {},
   "outputs": [],
   "source": [
    "fig = plot.Graph(r\"Turbulent viscosity of the realizable $k$-$\\varepsilon$ model in VDF at x = z = 0.005\")\n",
    "\n",
    "data = plot.loadText(\"./VDF_KEPS_REALISABLE/nut.dat\")\n",
    "fig.add((data[0]),(data[1]),marker=\"x\",label=r\"TrioCFD profile\")\n",
    "\n",
    "xval = numpy.linspace(0, 1, 500)\n",
    "yval = nut_rea(5e-3, xval, 5e-3)\n",
    "fig.add(xval, yval, label=\"Sympy\")\n",
    "\n",
    "fig.label(\"y\",\"Turbulent viscosity\")\n",
    "\n",
    "fig.visu()"
   ]
  },
  {
   "cell_type": "markdown",
   "id": "04fbd190-5163-4403-abcb-07b7497eed92",
   "metadata": {},
   "source": [
    "### Convective terms"
   ]
  },
  {
   "cell_type": "code",
   "execution_count": null,
   "id": "2088b477",
   "metadata": {},
   "outputs": [],
   "source": [
    "fig = plot.Graph(r\"Convective terms of the realizable $k$-$\\varepsilon$ model in VDF at x = z = 0.005\")\n",
    "\n",
    "data = plot.loadText(\"./VDF_KEPS_REALISABLE/conv_tke.dat\")\n",
    "fig.add((data[0]),(data[1]),marker=\"x\",label=r\"TrioCFD profile (k equation)\")\n",
    "\n",
    "data = plot.loadText(\"./VDF_KEPS_REALISABLE/conv_eps.dat\")\n",
    "fig.add((data[0]),(data[1]),marker=\"x\",label=r\"TrioCFD profile (eps equation)\")\n",
    "\n",
    "xval = numpy.linspace(0, 1, 500)\n",
    "yval = conv_tke_rea(5e-3, xval, 5e-3)\n",
    "fig.add(xval, -yval, label=\"Sympy TKE\")\n",
    "yval = conv_eps_rea(5e-3, xval, 5e-3)\n",
    "fig.add(xval, -yval, label=\"Sympy EPS\")\n",
    "\n",
    "fig.label(r\"y\", r\"convective term\")\n",
    "\n",
    "fig.visu(xmin=0.0, xmax=1.0)\n"
   ]
  },
  {
   "cell_type": "markdown",
   "id": "a74d2332-af6a-4ffe-a5aa-2ed89f189837",
   "metadata": {},
   "source": [
    "### Diffusive terms"
   ]
  },
  {
   "cell_type": "code",
   "execution_count": null,
   "id": "42831408",
   "metadata": {},
   "outputs": [],
   "source": [
    "fig = plot.Graph(r\"Diffusive terms of the realizable $k$-$\\varepsilon$ model in VDF at x = z = 0.005\")\n",
    "\n",
    "data = plot.loadText(\"./VDF_KEPS_REALISABLE/diff_tke.dat\")\n",
    "fig.add((data[0]),(data[1]),marker=\"x\",label=r\"TrioCFD profile (k equation)\")\n",
    "\n",
    "data = plot.loadText(\"./VDF_KEPS_REALISABLE/diff_eps.dat\")\n",
    "fig.add((data[0]),(data[1]),marker=\"x\",label=r\"TrioCFD profile (eps equation)\")\n",
    "\n",
    "xval = numpy.linspace(0, 1, 500)\n",
    "yval = diff_tke_rea(5e-3, xval, 5e-3)\n",
    "fig.add(xval, yval, label=\"Sympy TKE\")\n",
    "yval = diff_eps_rea(5e-3, xval, 5e-3)\n",
    "fig.add(xval, yval, label=\"Sympy EPS\")\n",
    "\n",
    "fig.label(r\"y\",r\"diffusive term\")\n",
    "\n",
    "fig.visu(xmin=0.0,xmax=1.0)\n"
   ]
  },
  {
   "cell_type": "markdown",
   "id": "f92726f5-8b98-4be7-9ca5-80b52d213e1a",
   "metadata": {},
   "source": [
    "### Source terms"
   ]
  },
  {
   "cell_type": "code",
   "execution_count": null,
   "id": "82cf5c90",
   "metadata": {},
   "outputs": [],
   "source": [
    "fig = plot.Graph(r\"Source terms of the realizable $k$-$\\varepsilon$ model in VDF at x = z = 0.005.\")\n",
    "\n",
    "data = plot.loadText(\"./VDF_KEPS_REALISABLE/source_tke.dat\")\n",
    "fig.add((data[0]),(data[1]),marker=\"x\",label=r\"TrioCFD profile (k equation)\")\n",
    "\n",
    "data = plot.loadText(\"./VDF_KEPS_REALISABLE/source_eps.dat\")\n",
    "fig.add((data[0]),(data[1]),marker=\"x\",label=r\"TrioCFD profile (eps equation)\")\n",
    "\n",
    "xval = numpy.linspace(0, 1, 500)\n",
    "yval = numpy.array([sources_tke_rea(5e-3, y, 5e-3) for y in xval])\n",
    "fig.add(xval, yval, label=\"Sympy TKE\")\n",
    "yval = numpy.array([sources_eps_rea(5e-3, y, 5e-3) for y in xval])\n",
    "fig.add(xval, yval, label=\"Sympy EPS\")\n",
    "\n",
    "fig.label(r\"y\",r\"source term\")\n",
    "\n",
    "fig.visu(xmin=0.0,xmax=1.0)\n"
   ]
  },
  {
   "cell_type": "markdown",
   "id": "5be99378",
   "metadata": {},
   "source": [
    "## VEF standard $k$-$\\varepsilon$ model\n"
   ]
  },
  {
   "cell_type": "markdown",
   "id": "7308982f-fbd6-4d85-94a7-b99c75c74213",
   "metadata": {},
   "source": [
    "### Turbulent viscosity"
   ]
  },
  {
   "cell_type": "code",
   "execution_count": null,
   "id": "315507ea-d5ba-4e61-bfff-fdd464cc97b0",
   "metadata": {},
   "outputs": [],
   "source": [
    "fig = plot.Graph(r\"Turbulent viscosity of the standard $k$-$\\varepsilon$ model in VEF at x = 0.04 and z = 0.033\")\n",
    "\n",
    "data = plot.loadText(\"./VEF_KEPS_STANDARD/nut.dat\")\n",
    "fig.add((data[0]),(data[1]),marker=\"x\",label=r\"TrioCFD profile\")\n",
    "\n",
    "xval = numpy.linspace(0, 1, 500)\n",
    "yval = nut_std(4e-2, xval, 1/30)\n",
    "fig.add(xval, yval, label=\"Sympy\")\n",
    "\n",
    "fig.label(\"y\",\"Turbulent viscosity\")\n",
    "\n",
    "fig.visu()"
   ]
  },
  {
   "cell_type": "markdown",
   "id": "834ffe5f-5ac7-43bc-bef7-04557f654fc9",
   "metadata": {},
   "source": [
    "### Convective terms"
   ]
  },
  {
   "cell_type": "code",
   "execution_count": null,
   "id": "ed1c7673",
   "metadata": {},
   "outputs": [],
   "source": [
    "fig = plot.Graph(r\"Convective terms of the standard $k$-$\\varepsilon$ model in VEF at x = 0.04 and z = 0.033\")\n",
    "\n",
    "data = plot.loadText(\"./VEF_KEPS_STANDARD/conv_tke.dat\")\n",
    "fig.add((data[0]),(data[1]),marker=\"x\",label=r\"TrioCFD profile (k equation)\")\n",
    "\n",
    "data = plot.loadText(\"./VEF_KEPS_STANDARD/conv_eps.dat\")\n",
    "fig.add((data[0]),(data[1]),marker=\"x\",label=r\"TrioCFD profile (eps equation)\")\n",
    "\n",
    "xval = numpy.linspace(0, 1, 500)\n",
    "yval = conv_tke_std(4e-2, xval, 1/30)\n",
    "fig.add(xval, -yval, label=\"Sympy TKE\")\n",
    "yval = conv_eps_std(4e-2, xval, 1/30)\n",
    "fig.add(xval, -yval, label=\"Sympy EPS\")\n",
    "\n",
    "fig.label(r\"y\",r\"convective term\")\n",
    "\n",
    "fig.visu(xmin=0.0,xmax=1.0)\n"
   ]
  },
  {
   "cell_type": "markdown",
   "id": "c6f63b00-64be-4b32-9973-1f92df82271f",
   "metadata": {},
   "source": [
    "### Diffusive terms"
   ]
  },
  {
   "cell_type": "code",
   "execution_count": null,
   "id": "172dfe5b",
   "metadata": {},
   "outputs": [],
   "source": [
    "fig = plot.Graph(r\"Diffusive terms of the standard $k$-$\\varepsilon$ model in VEF at x = 0.04 and z = 0.033\")\n",
    "\n",
    "data = plot.loadText(\"./VEF_KEPS_STANDARD/diff_tke.dat\")\n",
    "fig.add((data[0]),(data[1]),marker=\"x\",label=r\"TrioCFD profile (k equation)\")\n",
    "\n",
    "data = plot.loadText(\"./VEF_KEPS_STANDARD/diff_eps.dat\")\n",
    "fig.add((data[0]),(data[1]),marker=\"x\",label=r\"TrioCFD profile (eps equation)\")\n",
    "\n",
    "xval = numpy.linspace(0, 1, 500)\n",
    "yval = diff_tke_std(4e-2, xval, 1/30)\n",
    "fig.add(xval, yval, label=\"Sympy TKE\")\n",
    "yval = diff_eps_std(4e-2, xval, 1/30)\n",
    "fig.add(xval, yval, label=\"Sympy EPS\")\n",
    "\n",
    "fig.label(r\"y\",r\"diffusive term\")\n",
    "\n",
    "fig.visu(xmin=0.0,xmax=1.0)\n"
   ]
  },
  {
   "cell_type": "markdown",
   "id": "72c7946a-8de0-4b3d-9623-81662a761051",
   "metadata": {},
   "source": [
    "### Source terms"
   ]
  },
  {
   "cell_type": "code",
   "execution_count": null,
   "id": "ee7225b4",
   "metadata": {},
   "outputs": [],
   "source": [
    "fig = plot.Graph(r\"Source terms of the standard $k$-$\\varepsilon$ model in VEF at x = 0.04 and z = 0.033\")\n",
    "\n",
    "data = plot.loadText(\"./VEF_KEPS_STANDARD/source_tke.dat\")\n",
    "fig.add((data[0]),(data[1]),marker=\"x\",label=r\"TrioCFD profile (k equation)\")\n",
    "\n",
    "data = plot.loadText(\"./VEF_KEPS_STANDARD/source_eps.dat\")\n",
    "fig.add((data[0]),(data[1]),marker=\"x\",label=r\"TrioCFD profile (eps equation)\")\n",
    "\n",
    "xval = numpy.linspace(0, 1, 500)\n",
    "yval = sources_tke_std(4e-2, xval, 1/30)\n",
    "fig.add(xval, yval, label=\"Sympy TKE\")\n",
    "yval = sources_eps_std(4e-2, xval, 1/30)\n",
    "fig.add(xval, yval, label=\"Sympy EPS\")\n",
    "\n",
    "fig.label(r\"y\",r\"source term\")\n",
    "\n",
    "fig.visu(xmin=0.0,xmax=1.0)\n"
   ]
  },
  {
   "cell_type": "markdown",
   "id": "57f8b17b",
   "metadata": {},
   "source": [
    "## VEF realizable $k$-$\\varepsilon$ model\n"
   ]
  },
  {
   "cell_type": "markdown",
   "id": "4ecf5336-4e61-4785-881f-b384eac61a53",
   "metadata": {},
   "source": [
    "### Turbulent viscosity"
   ]
  },
  {
   "cell_type": "code",
   "execution_count": null,
   "id": "66b44350-0ba4-46e5-90e7-4cb801e6c18e",
   "metadata": {},
   "outputs": [],
   "source": [
    "fig = plot.Graph(r\"Turbulent viscosity of the realisable $k$-$\\varepsilon$ model in VEF at x = 0.04 and z = 0.033\")\n",
    "\n",
    "data = plot.loadText(\"./VEF_KEPS_REALISABLE/nut.dat\")\n",
    "fig.add((data[0]),(data[1]),marker=\"x\",label=r\"TrioCFD profile\")\n",
    "\n",
    "xval = numpy.linspace(0, 1, 500)\n",
    "yval = nut_rea(4e-2, xval, 1/30)\n",
    "fig.add(xval, yval, label=\"Sympy\")\n",
    "\n",
    "fig.label(\"y\",\"Turbulent viscosity\")\n",
    "\n",
    "fig.visu()"
   ]
  },
  {
   "cell_type": "markdown",
   "id": "fbd562d8-cb57-4342-95d0-cdc7d667c603",
   "metadata": {},
   "source": [
    "### Convective terms"
   ]
  },
  {
   "cell_type": "code",
   "execution_count": null,
   "id": "6e8dee8d",
   "metadata": {},
   "outputs": [],
   "source": [
    "fig = plot.Graph(r\"Convective terms of the realizable $k$-$\\varepsilon$ model in VEF at x = 0.04 and z = 0.033\")\n",
    "\n",
    "data = plot.loadText(\"./VEF_KEPS_REALISABLE/conv_tke.dat\")\n",
    "fig.add((data[0]),(data[1]),marker=\"x\",label=r\"TrioCFD profile (k equation)\")\n",
    "\n",
    "data = plot.loadText(\"./VEF_KEPS_REALISABLE/conv_eps.dat\")\n",
    "fig.add((data[0]),(data[1]),marker=\"x\",label=r\"TrioCFD profile (eps equation)\")\n",
    "\n",
    "xval = numpy.linspace(0, 1, 500)\n",
    "yval = conv_tke_rea(4e-2, xval, 1/30)\n",
    "fig.add(xval, -yval, label=\"Sympy TKE\")\n",
    "yval = conv_eps_rea(4e-2, xval, 1/30)\n",
    "fig.add(xval, -yval, label=\"Sympy EPS\")\n",
    "\n",
    "fig.label(r\"y\",r\"convective term\")\n",
    "\n",
    "fig.visu(xmin=0.0,xmax=1.0)\n"
   ]
  },
  {
   "cell_type": "markdown",
   "id": "e8e015cd-520e-4281-b35f-161ee52666d6",
   "metadata": {},
   "source": [
    "### Diffusive terms"
   ]
  },
  {
   "cell_type": "code",
   "execution_count": null,
   "id": "472192f5",
   "metadata": {},
   "outputs": [],
   "source": [
    "fig = plot.Graph(r\"Diffusive terms of the realizable $k$-$\\varepsilon$ model in VEF at x = 0.04 and z = 0.033\")\n",
    "\n",
    "data = plot.loadText(\"./VEF_KEPS_REALISABLE/diff_tke.dat\")\n",
    "fig.add((data[0]),(data[1]),marker=\"x\",label=r\"TrioCFD profile (k equation)\")\n",
    "\n",
    "data = plot.loadText(\"./VEF_KEPS_REALISABLE/diff_eps.dat\")\n",
    "fig.add((data[0]),(data[1]),marker=\"x\",label=r\"TrioCFD profile (eps equation)\")\n",
    "\n",
    "xval = numpy.linspace(0, 1, 500)\n",
    "yval = diff_tke_rea(4e-2, xval, 1/30)\n",
    "fig.add(xval, yval, label=\"Sympy TKE\")\n",
    "yval = diff_eps_rea(4e-2, xval, 1/30)\n",
    "fig.add(xval, yval, label=\"Sympy EPS\")\n",
    "\n",
    "fig.label(r\"y\",r\"diffusive term\")\n",
    "\n",
    "fig.visu(xmin=0.0,xmax=1.0)\n"
   ]
  },
  {
   "cell_type": "markdown",
   "id": "ed38cb78-d8f4-4ab4-9229-d86bc608e602",
   "metadata": {},
   "source": [
    "### Source terms"
   ]
  },
  {
   "cell_type": "code",
   "execution_count": null,
   "id": "1df095ef",
   "metadata": {},
   "outputs": [],
   "source": [
    "fig = plot.Graph(r\"Source terms of the realizable $k$-$\\varepsilon$ model in VEF at x = 0.04 and z = 0.033\")\n",
    "\n",
    "data = plot.loadText(\"./VEF_KEPS_REALISABLE/source_tke.dat\")\n",
    "fig.add((data[0]),(data[1]),marker=\"x\",label=r\"TrioCFD profile (k equation)\")\n",
    "\n",
    "data = plot.loadText(\"./VEF_KEPS_REALISABLE/source_eps.dat\")\n",
    "fig.add((data[0]),(data[1]),marker=\"x\",label=r\"TrioCFD profile (eps equation)\")\n",
    "\n",
    "xval = numpy.linspace(0, 1, 500)\n",
    "yval = sources_tke_rea(4e-2, xval, 1/30)\n",
    "fig.add(xval, yval, label=\"Sympy TKE\")\n",
    "yval = numpy.array([sources_eps_rea(4e-2, y, 1/30) for y in xval])\n",
    "fig.add(xval, yval, label=\"Sympy EPS\")\n",
    "\n",
    "fig.label(r\"y\",r\"source term\")\n",
    "\n",
    "fig.visu(xmin=0.0, xmax=1.0)\n"
   ]
  },
  {
   "cell_type": "markdown",
   "id": "708f3649",
   "metadata": {},
   "source": [
    "# Conclusion \n",
    " \n",
    "In this report, the coding of the diffusive, convective and source terms of the $k$ and $\\varepsilon$ transport equations have been verified for the standard and realizable models. Analytical fields of velocity, $k$ and $\\varepsilon$ have been imposed in input, and the terms of equations have been post-processed without resolution. The TrioCFD output profiles have been shown to be almost superimposed with the analytical profiles, except for the diffusive terms which falsely appear to be zero. This problem will soon be fixed. It should also be noted that terms involving derivatives are less accurate in VEF discretization, especially near the boundaries. A refinement of the mesh would likely result in a higher accuracy.\n",
    "\n"
   ]
  },
  {
   "cell_type": "markdown",
   "id": "ffb014dc",
   "metadata": {},
   "source": [
    "# References\n",
    " \n",
    "[1] P.-E. Angeli et G. Damblin, Calage des paramètres du modéle $k$-$\\varepsilon$ réalisable par algorithmes EGO pour la simulation des écoulements turbulents, note technique DES/ISAS/DM2S/STMF/LMSF/NT/2020-66507/A.\n"
   ]
  },
  {
   "cell_type": "markdown",
   "id": "3fbc37b9",
   "metadata": {},
   "source": [
    "# Data Files"
   ]
  },
  {
   "cell_type": "markdown",
   "id": "6d8b88d9",
   "metadata": {},
   "source": [
    "## Cas"
   ]
  },
  {
   "cell_type": "code",
   "execution_count": null,
   "id": "36e36aae",
   "metadata": {},
   "outputs": [],
   "source": [
    "run.dumpDatasetMD(\"VDF_KEPS_STANDARD/Cas.data\")"
   ]
  }
 ],
 "metadata": {
  "kernelspec": {
   "display_name": "Python 3 (ipykernel)",
   "language": "python",
   "name": "python3"
  },
  "language_info": {
   "codemirror_mode": {
    "name": "ipython",
    "version": 3
   },
   "file_extension": ".py",
   "mimetype": "text/x-python",
   "name": "python",
   "nbconvert_exporter": "python",
   "pygments_lexer": "ipython3",
   "version": "3.12.5"
  }
 },
 "nbformat": 4,
 "nbformat_minor": 5
}
