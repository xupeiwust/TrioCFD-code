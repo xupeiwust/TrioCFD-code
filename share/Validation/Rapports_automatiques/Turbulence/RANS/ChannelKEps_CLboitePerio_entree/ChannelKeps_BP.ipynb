{
 "cells": [
  {
   "cell_type": "markdown",
   "id": "e084ad9f",
   "metadata": {},
   "source": [
    "# Periodic box on a turbulent flow in a 3D VEF plane channel with k-$\\epsilon$ model."
   ]
  },
  {
   "cell_type": "markdown",
   "id": "fb415208",
   "metadata": {},
   "source": [
    "## Introduction\n",
    " \n",
    " Validation made by: A.AUROUSSEAU (S.VANDROUX)\n",
    " Ported to jupyter notebook by Téo Boutin"
   ]
  },
  {
   "cell_type": "markdown",
   "id": "0c595edd",
   "metadata": {},
   "source": [
    "### Description\n",
    " \n",
    "This case test aims to validate the production of boundary conditions for an inlet/outlet turbulent flow in a plane channel, with the use of a periodic box.\n",
    "k-$\\epsilon$ modelling with wall function.\n",
    " Validation with comparison between profiles in the periodic box and in the main computation domain.\n",
    " \n"
   ]
  },
  {
   "cell_type": "markdown",
   "id": "6617bf71",
   "metadata": {},
   "source": [
    "### TRUST parameters\n",
    " \n",
    "* Version TRUST : 1.6.3 \n",
    "* Type of problem : Hydraulique_Turbulent \n",
    "* Diffusion scheme : Default{} \n",
    "* Discretization : VEFPreP1B (ICEM mesh with prisms layer at walls) \n",
    "* Time scheme : Euler_implicite - Solveur Implicite \n",
    "* Solving of equations : \"Navier Stokes turbulent\" \n",
    "* Convection : EF_stab \n",
    "* Turbulence model : \"k-$\\epsilon$ model\" \n",
    "* Wall law : \"loi_standard_hydr\" \n",
    "* Type of boundary conditions : Periodic box: periodicity in the x direction, walls in the y directions, symmetry in the z direction. Main computation domain: Imposed velocity field and K-Epsilon field (from periodic box) for the inlet, outlet pressure, walls and symmetry. \n"
   ]
  },
  {
   "cell_type": "code",
   "execution_count": null,
   "id": "472dcd92-5fdf-4f0b-8a42-be7f93efc1aa",
   "metadata": {},
   "outputs": [],
   "source": [
    "from trustutils import run\n",
    "run.reset() \n",
    "run.initBuildDirectory()"
   ]
  },
  {
   "cell_type": "code",
   "execution_count": null,
   "id": "50530ce1",
   "metadata": {},
   "outputs": [],
   "source": [
    "# prepare test case by running a periodic box\n",
    "\n",
    "prepare=run.TRUSTCase(\"Calcul\", \"Prepare.data\")\n",
    "print(\"test\")\n",
    "if run.isExtractingNR():\n",
    "    print(\"Prepare will only run on 3 time steps during non regression tests\")\n",
    "    prepare.substitute(\"# nb_pas_dt_max 3 #\", \"nb_pas_dt_max 3\")\n",
    "prepare.runCase(verbose=True)\n",
    "\n",
    "# post pro for initialisation of main case\n",
    "run.executeScript(\"postpro_prepare.sh\")"
   ]
  },
  {
   "cell_type": "code",
   "execution_count": null,
   "id": "db0bc635-2800-4843-b472-918d3d03f99c",
   "metadata": {},
   "outputs": [],
   "source": [
    "# run main case which starts from established velocity in Prepare.data\n",
    "\n",
    "run.addCase(\"Calcul\",\"mixedBC.data\")\n",
    "\n",
    "run.printCases()\n",
    "run.runCases()\n",
    "\n",
    "run.executeScript(\"postpro_mixedBC.sh\")"
   ]
  },
  {
   "cell_type": "markdown",
   "id": "fc0fc236",
   "metadata": {},
   "source": [
    "### References: \n",
    " \n",
    "* Reichardt H. : Vollstaendige Darstellung der turbulenten Geschwindigkeitsverteliung in glatten Leitungen. ZAMM 31, 208-219 (1951) \n",
    "* http://www.sla.maschinenbau.tu-darmstadt.de/lehre/tms/Turbulence-TUDarmstadt-Pt2-6.pdf \n"
   ]
  },
  {
   "cell_type": "markdown",
   "id": "bebb5462",
   "metadata": {},
   "source": [
    "## Tests Description\n",
    " \n",
    "Dimensions:\n",
    "Lx=10 (main computational domain), Lx=0.4 (periodic box) , Ly=2.0 and Lz=0.8\n",
    " Initial conditions : Ux=10m/s\n",
    " Boundary conditions : the periodicity conditions need a source term to maintain the flow constant. For the main computation domain, a velocity field and a K-Epsilon field from the periodic box are applied on the inlet. The outlet is a fixed pressure\n",
    " Canal\\_perio \\{ bord PERIO \\}\n",
    " The main computation mesh features prism layers at the walls and is generated with ICEM. The periodic box grid is generated from the main computation mesh using the Trio\\_U keyword ExtrudeBord\n",
    " \n",
    " $\\rho = 1 kg/m^3$\n",
    "$\\mu = 0.0001 Pa.s $ such as Reb = (Ub.h) / v = 100 000 (h=1 m : half-height)\n",
    " \n",
    "![](src/./Geometry.png)"
   ]
  },
  {
   "cell_type": "markdown",
   "id": "cc2b1f5f",
   "metadata": {},
   "source": [
    "### Main Computation Mesh (13552 cells)\n",
    " \n",
    " "
   ]
  },
  {
   "cell_type": "code",
   "execution_count": null,
   "id": "d76eb9af",
   "metadata": {},
   "outputs": [],
   "source": [
    "from trustutils import visit\n",
    " \n",
    "visu = visit.Show(\"Calcul/mixedBC.lata\",\"Mesh\",\"DOM_BODY\")\n",
    "visu.normal3D([0.2,0.3,0.9])\n",
    "visu.up3D([-0.1,1,-0.3])\n",
    "visu.zoom3D([0,0,0.8])\n",
    "visu.visuOptions([\"no_axes\"])\n",
    "visu.visuOptions([\"no_bounding_box\"])\n",
    "visu.visuOptions([\"no_databaseinfo\"])\n",
    "visu.visuOptions([\"no_legend\"])\n",
    "visu.visuOptions([\"no_triad\"])\n",
    "visu.plot()"
   ]
  },
  {
   "cell_type": "markdown",
   "id": "f35cb207",
   "metadata": {},
   "source": [
    "### Periodic Box Mesh (2100 cells)\n",
    " \n",
    " "
   ]
  },
  {
   "cell_type": "code",
   "execution_count": null,
   "id": "23733010",
   "metadata": {},
   "outputs": [],
   "source": [
    "from trustutils import visit\n",
    " \n",
    "visu = visit.Show(\"Calcul/Prepare.lata\",\"Mesh\",\"dom_prepare\")\n",
    "visu.normal3D([0.2,0.3,0.9])\n",
    "visu.up3D([-0.1,1,-0.3])\n",
    "visu.zoom3D([0,0,0.8])\n",
    "visu.visuOptions([\"no_axes\"])\n",
    "visu.visuOptions([\"no_bounding_box\"])\n",
    "visu.visuOptions([\"no_databaseinfo\"])\n",
    "visu.visuOptions([\"no_legend\"])\n",
    "visu.visuOptions([\"no_triad\"])\n",
    "visu.plot()"
   ]
  },
  {
   "cell_type": "markdown",
   "id": "6f78eed1",
   "metadata": {},
   "source": [
    "## Results\n",
    " \n"
   ]
  },
  {
   "cell_type": "code",
   "execution_count": null,
   "id": "daf8e1c6",
   "metadata": {},
   "outputs": [],
   "source": [
    "from trustutils import plot \n",
    " \n",
    "fig = plot.Graph(r\"Computations convergence: friction velocity evolution\") \n",
    "data = plot.loadText(\"./Calcul/u_tau.dat.perio\")\n",
    "fig.add((data[0]),(data[1]),label=r\"Periodic Box\",marker='+')\n",
    "data = plot.loadText(\"./Calcul/u_tau.dat\")\n",
    "fig.add((data[0]),(data[1]),label=r\"Main computation\",marker='x')\n",
    "\n",
    "fig.label(r\"Time (s)\",r\"Friction velocity\")\n",
    "\n",
    "fig.visu(0,15.0,0.4,0.7)\n"
   ]
  },
  {
   "cell_type": "code",
   "execution_count": null,
   "id": "9e2c8f8d",
   "metadata": {},
   "outputs": [],
   "source": [
    "from trustutils import plot \n",
    " \n",
    "fig = plot.Graph(r\"Velocity profiles\") \n",
    "fig.addSegment(\"./Calcul/Prepare_SONDE_VIT.son\",label=r\"Periodic box established profile\",marker='x') \n",
    "data = plot.loadText(\"./Calcul/mixedBC_SONDE_VIT.coupe.dat\")\n",
    "fig.add((data[0]),(data[1]),label=r\"Main computation profile at x=1\",marker='s')\n",
    "data = plot.loadText(\"./Calcul/mixedBC_SONDE_VIT4.coupe.dat\")\n",
    "fig.add((data[0]),(data[1]),label=r\"Main computation profile at x=9\",marker='s')\n",
    "\n",
    "fig.label(r\"Y (m)\",r\"Vx Velocity (m/s)\")\n",
    "\n",
    "fig.visu(0.,2.,5.,12.)\n"
   ]
  },
  {
   "cell_type": "code",
   "execution_count": null,
   "id": "62130e35",
   "metadata": {},
   "outputs": [],
   "source": [
    "from trustutils import plot \n",
    " \n",
    "fig = plot.Graph(r\"Dimensionless velocity profiles\") \n",
    "\n",
    "import numpy as np \n",
    "x = np.linspace(10.0,10000.0,10000) \n",
    "y = 1/0.415*np.log(1+0.415*x)+7.44*(1-np.exp(-x/11)-(x)/11*np.exp(-x/3)) \n",
    "fig.add(x,y,label=r\"Reichardt\",marker='-') \n",
    "data = plot.loadText(\"./Calcul/Prepare_SONDE_VIT.coupe_dimensionless.dat\")\n",
    "fig.add((data[0]),(data[1]),label=r\"Periodic box established profile\",marker='x')\n",
    "data = plot.loadText(\"./Calcul/mixedBC_SONDE_VIT4.coupe_dimensionless.dat\")\n",
    "fig.add((data[0]),(data[1]),label=r\"Main computation profile at x=9\",marker='s')\n",
    "\n",
    "fig.label(r\"Y+\",r\"U+\")\n",
    "\n",
    "fig.visu(10.,10000.,0.,30.)\n",
    "\n",
    "fig.scale(xscale='log')\n"
   ]
  },
  {
   "cell_type": "code",
   "execution_count": null,
   "id": "402fe3ec",
   "metadata": {},
   "outputs": [],
   "source": [
    "from trustutils import plot \n",
    " \n",
    "fig = plot.Graph(r\"Turbulent viscosity profiles\") \n",
    "fig.addSegment(\"./Calcul/Prepare_SONDE_VISC_TURB.son\",label=r\"Periodic box  profile\",marker='x') \n",
    "fig.addSegment(\"./Calcul/mixedBC_SONDE_VISC_TURB1.son\",label=r\"Main computation profile at x=1\",marker='s') \n",
    "fig.addSegment(\"./Calcul/mixedBC_SONDE_VISC_TURB2.son\",label=r\"Main computation profile at x=0.9\",marker='s') \n",
    "\n",
    "fig.label(r\"y (m)\",r\"Nut\")\n",
    "\n",
    "fig.visu(0.,2.,0.,0.025)\n"
   ]
  },
  {
   "cell_type": "code",
   "execution_count": null,
   "id": "8d2c61ab",
   "metadata": {},
   "outputs": [],
   "source": [
    "from trustutils import plot \n",
    " \n",
    "fig = plot.Graph(r\"Dimensionless turbulent viscosity profiles\") \n",
    "data = plot.loadText(\"./Calcul/mixedBC_SONDE_VISC_TURB1.coupe_Dimensionless.dat\")\n",
    "fig.add((data[0]),(data[1]),label=r\"Profile at x=1\",marker='x')\n",
    "data = plot.loadText(\"./Calcul/mixedBC_SONDE_VISC_TURB2.coupe_Dimensionless.dat\")\n",
    "fig.add((data[0]),(data[1]),label=r\"Profile at x=9\",marker='s')\n",
    "data = plot.loadText(\"nut_profile_LaunderSh.dat\")\n",
    "fig.add((data[0]),(data[1]),label=r\"Launder-Sharma profile\",marker='s')\n",
    "\n",
    "fig.label(r\"y (m)\",r\"Dimensionless Nut\")\n",
    "\n",
    "fig.visu(0.,1.,0.,0.15)\n"
   ]
  },
  {
   "cell_type": "code",
   "execution_count": null,
   "id": "2c1ddc5b",
   "metadata": {},
   "outputs": [],
   "source": [
    "from trustutils import plot \n",
    " \n",
    "fig = plot.Graph(r\"Turbulence kinetic energy\") \n",
    "fig.addSegment(\"./Calcul/Prepare_SONDE_K.son\",label=r\"Periodic box established profile\",marker='x') \n",
    "fig.addSegment(\"./Calcul/mixedBC_SONDE_K1.son\",label=r\"Main computation profile at x=1\",marker='s') \n",
    "fig.addSegment(\"./Calcul/mixedBC_SONDE_K4.son\",label=r\"Main computation profile at x=0.9\",marker='s') \n",
    "\n",
    "fig.label(r\"y (m)\",r\"K\")\n",
    "\n",
    "fig.visu(0.,2.,0.,0.7)\n"
   ]
  },
  {
   "cell_type": "code",
   "execution_count": null,
   "id": "f1bf2eb3",
   "metadata": {},
   "outputs": [],
   "source": [
    "from trustutils import plot \n",
    " \n",
    "fig = plot.Graph(r\"Turbulence kinetic energy dissipation rate\") \n",
    "fig.addSegment(\"./Calcul/Prepare_SONDE_EPS.son\",label=r\"Periodic box established profile\",marker='x') \n",
    "fig.addSegment(\"./Calcul/mixedBC_SONDE_EPS1.son\",label=r\"Main computation profile at x=1\",marker='s') \n",
    "fig.addSegment(\"./Calcul/mixedBC_SONDE_EPS4.son\",label=r\"Main computation profile at x=0.9\",marker='s') \n",
    "\n",
    "fig.label(r\"y (m)\",r\"Epsilon\")\n",
    "\n",
    "fig.visu(0.,2.,0.,7.0)\n"
   ]
  },
  {
   "cell_type": "markdown",
   "id": "1711c587",
   "metadata": {},
   "source": [
    "### $Re_{\\tau}$ of the Periodic box computation\n",
    " \n",
    " "
   ]
  },
  {
   "cell_type": "code",
   "execution_count": null,
   "id": "8434df38",
   "metadata": {},
   "outputs": [],
   "source": [
    "from trustutils import plot \n",
    " \n",
    "columns=['y+ ', ' $Re_{\\\\tau}$ ', ' Theoretical $Re_{\\\\tau}$ ', ' Relative error (pourcent)'] \n",
    "tab = plot.Table(columns)\n",
    "data = plot.loadText(\"./Calcul/ligneTableau.dat.perio\",transpose=False, dtype=\"str\")\n",
    "tab.addLine([[(data[-1][0]),(data[-1][1]),(data[-1][3]),(data[-1][2]),]],r\"Periodic Box\")\n",
    "tab.setTitle(\"$Re_{\\tau}$ of the Periodic box computation\")\n",
    "display(tab)"
   ]
  },
  {
   "cell_type": "markdown",
   "id": "f58953a1",
   "metadata": {},
   "source": [
    "### $Re_{\\tau}$ of the main computation\n",
    " \n",
    " "
   ]
  },
  {
   "cell_type": "code",
   "execution_count": null,
   "id": "cefe5564",
   "metadata": {},
   "outputs": [],
   "source": [
    "from trustutils import plot \n",
    " \n",
    "columns=['y+ ', ' $Re_{\\\\tau}$ ', ' Theoretical $Re_{\\\\tau}$ ', ' Relative error (pourcent)'] \n",
    "tab = plot.Table(columns)\n",
    "data = plot.loadText(\"./Calcul/ligneTableau.dat\",transpose=False, dtype=\"str\")\n",
    "tab.addLine([[(data[-1][0]),(data[-1][2]),(data[-1][3]),(data[-1][4]),]],r\"Main computation\")\n",
    "tab.setTitle(\"$Re_{\\tau}$ of the main computation\")\n",
    "display(tab)"
   ]
  },
  {
   "cell_type": "markdown",
   "id": "dddf07ad",
   "metadata": {},
   "source": [
    "## Conclusions\n",
    " \n"
   ]
  },
  {
   "cell_type": "markdown",
   "id": "d78725f3",
   "metadata": {},
   "source": [
    "Use of inlet velocity and K-Eps fields extracted from a periodic box has proved to be usefull since we have good results on the velocity profiles and friction Reynolds, and the canal length needed to get an established flow is reduced\n",
    "The velocity profiles of the main computation at two locations and the periodic box velocity profile are plotted on the same figure. The main computation profiles (one near the inlet: x=1.0 and one near the outlet: x=9.0) are relatively similar to each other. They're also close to the established profile of the periodic box.\n",
    " The dimensionless velocity profiles have similar slopes and slopes that are close to Reichardt curve.\n",
    " The dimensionless Nut profiles for the main computation are plotted, and they're quite far from the Launder-Sharma model profile.\n",
    " The friction Reynolds is also calculated in both computations. The error to the theory is much higher (6 pourcent) in the periodic box than in the main computation (0.08 pourcent). This difference on the friction Reynolds between the periodic box and the main computation domain can be explained by the difference in the meshing. Values of Y+ are indeed different.\n",
    " \n"
   ]
  },
  {
   "cell_type": "markdown",
   "id": "95c8b5cb",
   "metadata": {},
   "source": [
    "## Performances\n",
    " \n"
   ]
  },
  {
   "cell_type": "code",
   "execution_count": null,
   "id": "84f725ff",
   "metadata": {},
   "outputs": [],
   "source": [
    "from trustutils import plot \n",
    "\n",
    "# hack API because we cannot add cases from prepare step in perf table easily\n",
    "columns = [\"host\", \"system\", \"Total CPU Time\", \"CPU time/step\", \"number of cells\"]\n",
    "zeTable = plot.Table(columns)\n",
    "prepare._addPerfToTable(zeTable)\n",
    "for case in run.defaultSuite_.getCases():\n",
    "    case._addPerfToTable(zeTable)\n",
    "zeTable.sum(\"Total CPU Time\")\n",
    "zeTable.df\n"
   ]
  },
  {
   "cell_type": "markdown",
   "id": "dcd6f2fe",
   "metadata": {},
   "source": [
    "## Data Files"
   ]
  },
  {
   "cell_type": "markdown",
   "id": "4f06b1d0",
   "metadata": {},
   "source": [
    "### mixedBC"
   ]
  },
  {
   "cell_type": "code",
   "execution_count": null,
   "id": "674214da",
   "metadata": {},
   "outputs": [],
   "source": [
    "run.dumpDatasetMD(\"Calcul/mixedBC.data\")"
   ]
  }
 ],
 "metadata": {
  "kernelspec": {
   "display_name": "Python 3 (ipykernel)",
   "language": "python",
   "name": "python3"
  },
  "language_info": {
   "codemirror_mode": {
    "name": "ipython",
    "version": 3
   },
   "file_extension": ".py",
   "mimetype": "text/x-python",
   "name": "python",
   "nbconvert_exporter": "python",
   "pygments_lexer": "ipython3",
   "version": "3.12.5"
  },
  "title": "Periodic box on a turbulent flow in a 3D VEF plane channel with k-$\\epsilon$ model."
 },
 "nbformat": 4,
 "nbformat_minor": 5
}
