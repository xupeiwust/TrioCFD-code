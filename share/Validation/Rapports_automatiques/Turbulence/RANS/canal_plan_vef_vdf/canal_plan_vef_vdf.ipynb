{
 "cells": [
  {
   "attachments": {},
   "cell_type": "markdown",
   "id": "boolean-earth",
   "metadata": {
    "jupyter": {
     "source_hidden": false
    }
   },
   "source": [
    "# K_omega vs K_eps : Pb_Hydaulique"
   ]
  },
  {
   "cell_type": "code",
   "execution_count": null,
   "id": "c50babfc",
   "metadata": {
    "collapsed": false,
    "jupyter": {
     "outputs_hidden": false,
     "source_hidden": false
    },
    "scrolled": true
   },
   "outputs": [],
   "source": [
    "from trustutils import run\n",
    "import matplotlib.pyplot as plt\n",
    "run.introduction(\"Elie Saikali & Alan Burlot\")\n",
    "run.TRUST_parameters()"
   ]
  },
  {
   "cell_type": "markdown",
   "id": "dd69b8bc",
   "metadata": {
    "jupyter": {
     "source_hidden": false
    }
   },
   "source": [
    "## Problem description"
   ]
  },
  {
   "cell_type": "markdown",
   "id": "955094b8",
   "metadata": {
    "jupyter": {
     "source_hidden": false
    }
   },
   "source": [
    "This form allows to compare both $k-\\epsilon$ and $k-\\omega$ models in a simple channel flow. The $k-\\varepsilon$ model is tested in both VEF and VDF with implicit and explicit time schemes. The $k-\\omega$ model is tested implicit and explicit time schemes in VEF discretisation only. Standard $k-\\omega$ model should not be used as it depends to much on the freestream condition. Use with caution.\n",
    "\n",
    "We simulate a single phase turbulent flow in RANS in a channel flow. The channel is L=100m long and 2H=2m height :\n",
    "\n",
    "                                            symmetry\n",
    "                    ______________________________________________________________\n",
    "                    |                                                             |\n",
    "        Inlet:      |             3rd block mesh : height=0.6m                    | Outlet:\n",
    "          velocity->|-------------------------------------------------------------|-> pressure\n",
    "          k       ->|             2nd block mesh : height=0.2m                    |-> k\n",
    "          epsilon ->|-------------------------------------------------------------|-> epsilon\n",
    "                    |             1st block mesh : height=0.2m                    |\n",
    "                    |_____________________________________________________________|\n",
    "                                             Wall\n"
   ]
  },
  {
   "cell_type": "markdown",
   "id": "69931d85-b395-4cb1-81fa-cdb82d3a6396",
   "metadata": {},
   "source": [
    "## Definition of bloc dictionnaries\n",
    "### Discretisations\n",
    "The domain uses three blocks. Both VEF and VDF are tested. For VEF, we use :\n",
    "- B1 : Nx = 51, Ny = 3\n",
    "- B2 : Nx = 51, Ny = 3\n",
    "- B3 : Nx = 51, Ny = 7\n",
    "\n",
    "For VDF, we use\n",
    "- B1 : Nx = 101, Ny = 5\n",
    "- B2 : Nx = 101, Ny = 5\n",
    "- B3 : Nx = 101, Ny = 9"
   ]
  },
  {
   "cell_type": "code",
   "execution_count": null,
   "id": "c5787aa7-1ca3-4427-8d26-246bb4075eef",
   "metadata": {
    "collapsed": false,
    "jupyter": {
     "outputs_hidden": false
    }
   },
   "outputs": [],
   "source": [
    "dic_VEF = {\"discretisation\": \"VEF\",\n",
    "           \"triangulate\": \"trianguler_H dom\",\n",
    "           \"nx_b1\": 51,\n",
    "           \"ny_b1\": 3,\n",
    "           \"nx_b2\": 51,\n",
    "           \"ny_b2\": 3,    \n",
    "           \"nx_b3\": 51,\n",
    "           \"ny_b3\": 7}\n",
    "dic_VDF = {\"discretisation\": \"VDF\",\n",
    "           \"triangulate\": \"\",\n",
    "           \"nx_b1\": 101,\n",
    "           \"ny_b1\": 5,\n",
    "           \"nx_b2\": 101,\n",
    "           \"ny_b2\": 5,\n",
    "           \"nx_b3\": 101,\n",
    "           \"ny_b3\": 9,}"
   ]
  },
  {
   "cell_type": "markdown",
   "id": "d35a5e89-da70-4a6c-8f2a-8de07b0204e0",
   "metadata": {},
   "source": [
    "### Time schemes"
   ]
  },
  {
   "cell_type": "markdown",
   "id": "96c54f2f-308a-491a-a45e-58878619a250",
   "metadata": {},
   "source": [
    "Both explicit and implicit Euler schemes are tested. For the implicit scheme, a `facsec = 20` is used."
   ]
  },
  {
   "cell_type": "code",
   "execution_count": null,
   "id": "6566a089-6bd6-4bca-a112-50f5b668ad0e",
   "metadata": {
    "collapsed": false,
    "jupyter": {
     "outputs_hidden": false
    }
   },
   "outputs": [],
   "source": [
    "dic_expl = {\n",
    "    \"scheme\": \"schema_euler_explicite\",\n",
    "    \"scheme_options\":\n",
    "    \"\"\"\n",
    "\ttmax 400\n",
    "\tdt_min 1.e-10\n",
    "\tdt_max 1.e+10\n",
    "\tdt_impr 1.e-10\n",
    "\tseuil_statio 1.e-40\n",
    "\tResiduals { relative 2 }\"\"\"\n",
    "}\n",
    "dic_impl = {\n",
    "    \"scheme\": \"schema_euler_implicite\",\n",
    "    \"scheme_options\":\n",
    "    \"\"\"\n",
    "    dt_impr 1e+6\n",
    "    facsec 20\n",
    "    facsec_max 20\n",
    "    nb_pas_dt_max 10000\n",
    "    solveur implicite { solveur gmres { diag nb_it_max 3 seuil 1e-12 impr } }\n",
    "    seuil_statio 1e-30\n",
    "    residuals { relative 2 }\n",
    "    tmax 400\"\"\"\n",
    "}"
   ]
  },
  {
   "cell_type": "markdown",
   "id": "e454a547-4df9-4c6b-8cc1-d2adfd3d985b",
   "metadata": {},
   "source": [
    "### Computation setup"
   ]
  },
  {
   "cell_type": "markdown",
   "id": "d7bc2cfe-c437-4b1e-862a-84e2064632d0",
   "metadata": {},
   "source": [
    "For the $k-\\omega$ model, we perform a test for both SST and STD variants."
   ]
  },
  {
   "cell_type": "code",
   "execution_count": null,
   "id": "3a38d27f-8e92-454b-83a7-e3d07ab1b372",
   "metadata": {
    "collapsed": false,
    "jupyter": {
     "outputs_hidden": false
    }
   },
   "outputs": [],
   "source": [
    "komega_variant = [\"SST\", \"STD\"]\n",
    "\n",
    "ddis = {\n",
    "    \"VEF\": dic_VEF,\n",
    "    \"VDF\": dic_VDF\n",
    "}\n",
    "dscheme = {\n",
    "    \"IMPL\": dic_impl,\n",
    "    \"EXPL\": dic_expl\n",
    "}"
   ]
  },
  {
   "cell_type": "code",
   "execution_count": null,
   "id": "balanced-boating",
   "metadata": {
    "collapsed": false,
    "jupyter": {
     "outputs_hidden": false
    }
   },
   "outputs": [],
   "source": [
    "run.reset()\n",
    "run.initBuildDirectory()\n",
    "\n",
    "# K-epsilon cases\n",
    "for kdis, vdis in ddis.items():\n",
    "    for kscheme, vscheme in dscheme.items():\n",
    "        target_repo = f\"{kdis}/{kscheme}/KEPSILON\"\n",
    "        run.addCaseFromTemplate(\"jdd-kepsilon.data\", target_repo, {**vdis, **vscheme})\n",
    "\n",
    "# K-omega cases\n",
    "for kscheme, vscheme in dscheme.items():\n",
    "    for modvar in komega_variant:\n",
    "        dico = {\"modvar\": modvar}\n",
    "        target_repo = f\"VEF/{kscheme}/KOMEGA-{modvar}\"\n",
    "        run.addCaseFromTemplate(\"jdd-komega.data\", target_repo, {**dic_VEF, **vscheme, **dico})\n",
    "\n",
    "run.printCases()"
   ]
  },
  {
   "cell_type": "code",
   "execution_count": null,
   "id": "ede9e488-eed9-43dc-8a03-33b05b5d5768",
   "metadata": {
    "collapsed": false,
    "jupyter": {
     "outputs_hidden": false
    }
   },
   "outputs": [],
   "source": [
    "run.runCases()"
   ]
  },
  {
   "cell_type": "markdown",
   "id": "b95cc311-99f8-4099-92bb-ef5a3a2fd615",
   "metadata": {},
   "source": [
    "### Performances"
   ]
  },
  {
   "cell_type": "code",
   "execution_count": null,
   "id": "b2c5c5a6-b2c4-4b50-8e9e-9c94c0c86760",
   "metadata": {
    "collapsed": false,
    "jupyter": {
     "outputs_hidden": false
    }
   },
   "outputs": [],
   "source": [
    "table = run.tablePerf()\n",
    "table = table.drop(columns=[\"host\", \"system\"]).drop(\"Total\")\n",
    "table"
   ]
  },
  {
   "cell_type": "markdown",
   "id": "379dc9a9-5f45-474d-b509-9f4637690071",
   "metadata": {},
   "source": [
    "## Results\n",
    "### Residuals"
   ]
  },
  {
   "cell_type": "code",
   "execution_count": null,
   "id": "91fe1784-a637-43a9-a0eb-c946a2ecf0c5",
   "metadata": {
    "collapsed": false,
    "jupyter": {
     "outputs_hidden": false
    }
   },
   "outputs": [],
   "source": [
    "from trustutils import plot\n",
    "import itertools\n",
    "\n",
    "marker = itertools.cycle(('^', '+', 'd', 'o', '*', '<', '>', 's'))\n",
    "\n",
    "dcolors = {\"VEF\": \"blue\", \"VDF\": \"red\"}\n",
    "dstyle = {\"IMPL\": \"solid\", \"EXPL\": \"dashed\"}"
   ]
  },
  {
   "cell_type": "code",
   "execution_count": null,
   "id": "5c747323",
   "metadata": {
    "collapsed": false,
    "jupyter": {
     "outputs_hidden": false
    }
   },
   "outputs": [],
   "source": [
    "a = plot.Graph(\"Residuals\")\n",
    "\n",
    "for kdis in ddis.keys():\n",
    "    for kscheme in dscheme.keys():\n",
    "        a.addResidu(f\"{run.BUILD_DIRECTORY}/{kdis}/{kscheme}/KEPSILON/jdd-kepsilon.dt_ev\",\n",
    "                    label=f\"{kdis} {kscheme} KEPSILON \")\n",
    "\n",
    "kdis = \"VEF\"\n",
    "for kscheme in dscheme.keys():\n",
    "    for modvar in komega_variant:\n",
    "        a.addResidu(f\"{run.BUILD_DIRECTORY}/VEF/{kscheme}/KOMEGA-{modvar}/jdd-komega.dt_ev\",\n",
    "                    label=f\"{kdis} {kscheme} KOMEGA {modvar.upper()}\")\n",
    "\n",
    "a.scale(yscale='log')"
   ]
  },
  {
   "cell_type": "code",
   "execution_count": null,
   "id": "747bc2d8",
   "metadata": {
    "collapsed": false,
    "jupyter": {
     "outputs_hidden": false
    }
   },
   "outputs": [],
   "source": [
    "a = plot.Graph(\"Pressure\")\n",
    "\n",
    "for kdis in ddis.keys():\n",
    "    for kscheme in dscheme.keys():\n",
    "        a.addSegment(f\"{run.BUILD_DIRECTORY}/{kdis}/{kscheme}/KEPSILON/jdd-kepsilon_PRESSION.son\",\n",
    "                     label=f\"{kdis} {kscheme} KEPSILON \",\n",
    "                     marker = next(marker),\n",
    "                     color=dcolors[kdis],\n",
    "                     linestyle=dstyle[kscheme])\n",
    "\n",
    "for kscheme in dscheme.keys():\n",
    "    for modvar in komega_variant:\n",
    "        a.addSegment(f\"{run.BUILD_DIRECTORY}/VEF/{kscheme}/KOMEGA-{modvar}/jdd-komega_PRESSION.son\",\n",
    "                     label=f\"VEF {kscheme} KOMEGA {modvar.upper()}\",\n",
    "                     marker = next(marker),\n",
    "                     color=dcolors[\"VEF\"],\n",
    "                     linestyle=dstyle[kscheme])"
   ]
  },
  {
   "cell_type": "code",
   "execution_count": null,
   "id": "7a618ea6",
   "metadata": {
    "collapsed": false,
    "jupyter": {
     "outputs_hidden": false
    }
   },
   "outputs": [],
   "source": [
    "a = plot.Graph(\"Velocity X\")\n",
    "for kdis in ddis.keys():\n",
    "    for kscheme in dscheme.keys():\n",
    "        a.addSegment(f\"{run.BUILD_DIRECTORY}/{kdis}/{kscheme}/KEPSILON/jdd-kepsilon_VITESSE.son\",\n",
    "                     compo=0,\n",
    "                     marker = next(marker),\n",
    "                     label=f\"{kdis} {kscheme} KEPSILON\",\n",
    "                     color=dcolors[kdis],\n",
    "                     linestyle=dstyle[kscheme])\n",
    "\n",
    "for kscheme in dscheme.keys():\n",
    "    for modvar in komega_variant:\n",
    "        a.addSegment(f\"{run.BUILD_DIRECTORY}/VEF/{kscheme}/KOMEGA-{modvar}/jdd-komega_VITESSE.son\",\n",
    "                     compo=0,\n",
    "                     marker = next(marker),\n",
    "                     label=f\"VEF {kscheme} KOMEGA {modvar.upper()}\",\n",
    "                     color=dcolors[\"VEF\"],\n",
    "                     linestyle=dstyle[kscheme])"
   ]
  },
  {
   "cell_type": "code",
   "execution_count": null,
   "id": "47093257-8646-4462-ac5a-87f8f6393d8b",
   "metadata": {
    "collapsed": false,
    "jupyter": {
     "outputs_hidden": false
    }
   },
   "outputs": [],
   "source": [
    "a = plot.Graph(\"Velocity Y\")\n",
    "for kdis in ddis.keys():\n",
    "    for kscheme in dscheme.keys():\n",
    "        a.addSegment(f\"{run.BUILD_DIRECTORY}/{kdis}/{kscheme}/KEPSILON/jdd-kepsilon_VITESSE.son\",\n",
    "                     compo=1,\n",
    "                     marker = next(marker),\n",
    "                     label=f\"{kdis} {kscheme} KEPSILON\",\n",
    "                     color=dcolors[kdis],\n",
    "                     linestyle=dstyle[kscheme])\n",
    "\n",
    "for kscheme in dscheme.keys():\n",
    "    for modvar in komega_variant:\n",
    "        a.addSegment(f\"{run.BUILD_DIRECTORY}/VEF/{kscheme}/KOMEGA-{modvar}/jdd-komega_VITESSE.son\",\n",
    "                     compo=1,\n",
    "                     marker = next(marker),\n",
    "                     label=f\"VEF {kscheme} KOMEGA {modvar.upper()}\",\n",
    "                     color=dcolors[\"VEF\"],\n",
    "                     linestyle=dstyle[kscheme])"
   ]
  },
  {
   "cell_type": "code",
   "execution_count": null,
   "id": "3018a0c5-8dbf-4e02-ae03-e6c898efcff6",
   "metadata": {
    "collapsed": false,
    "jupyter": {
     "outputs_hidden": false
    }
   },
   "outputs": [],
   "source": [
    "a = plot.Graph(\"Y+\")\n",
    "for kdis in ddis.keys():\n",
    "    for kscheme in dscheme.keys():\n",
    "        a.addSegment(f\"{run.BUILD_DIRECTORY}/{kdis}/{kscheme}/KEPSILON/jdd-kepsilon_Y_PLUS.son\",\n",
    "                     marker = next(marker),\n",
    "                     label=f\"{kdis} {kscheme} KEPSILON\",\n",
    "                     color=dcolors[kdis],\n",
    "                     linestyle=dstyle[kscheme])\n",
    "\n",
    "for kscheme in dscheme.keys():\n",
    "    for modvar in komega_variant:\n",
    "        a.addSegment(f\"{run.BUILD_DIRECTORY}/VEF/{kscheme}/KOMEGA-{modvar}/jdd-komega_Y_PLUS.son\",\n",
    "                     marker = next(marker),\n",
    "                     label=f\"VEF {kscheme} KOMEGA {modvar.upper()}\",\n",
    "                     color=dcolors[\"VEF\"],\n",
    "                     linestyle=dstyle[kscheme])\n"
   ]
  },
  {
   "cell_type": "markdown",
   "id": "949ebfac-263d-4de4-87e1-c65a887ae7ea",
   "metadata": {},
   "source": [
    "# TODO\n",
    "2024-12-12 : This validation form will be extended to VDF for the $k-\\omega$ model to have a complete comparison."
   ]
  }
 ],
 "metadata": {
  "kernelspec": {
   "display_name": "Python 3 (ipykernel)",
   "language": "python",
   "name": "python3"
  },
  "language_info": {
   "codemirror_mode": {
    "name": "ipython",
    "version": 3
   },
   "file_extension": ".py",
   "mimetype": "text/x-python",
   "name": "python",
   "nbconvert_exporter": "python",
   "pygments_lexer": "ipython3",
   "version": "3.12.5"
  },
  "toc-autonumbering": true,
  "widgets": {
   "application/vnd.jupyter.widget-state+json": {
    "state": {},
    "version_major": 2,
    "version_minor": 0
   }
  }
 },
 "nbformat": 4,
 "nbformat_minor": 5
}
