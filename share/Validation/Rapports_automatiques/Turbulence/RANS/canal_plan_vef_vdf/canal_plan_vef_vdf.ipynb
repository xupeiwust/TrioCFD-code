{
 "cells": [
  {
   "attachments": {},
   "cell_type": "markdown",
   "id": "boolean-earth",
   "metadata": {},
   "source": [
    "# K_omega vs K_eps : Pb_Hydaulique"
   ]
  },
  {
   "cell_type": "code",
   "execution_count": null,
   "id": "c50babfc",
   "metadata": {
    "scrolled": true
   },
   "outputs": [],
   "source": [
    "from trustutils import run\n",
    "run.introduction(\"Elie Saikali & Alan Burlot\")\n",
    "run.TRUST_parameters()"
   ]
  },
  {
   "cell_type": "code",
   "execution_count": null,
   "id": "balanced-boating",
   "metadata": {
    "scrolled": false
   },
   "outputs": [],
   "source": [
    "run.reset()\n",
    "run.initBuildDirectory()\n",
    "\n",
    "dis = [(\"VDF\", \"\"), (\"VEF\", \"trianguler_H dom\")]\n",
    "\n",
    "for d, dd in dis:\n",
    "    run.addCaseFromTemplate(\"jdd-kepsilon.data\", f\"{d}/KEPS\", {\"dis\" : d, \"tri\":dd })\n",
    "\n",
    "# TODO later : VDF komega\n",
    "run.addCaseFromTemplate(\"jdd-komega.data\", f\"VEF/KOMEGA\", {\"dis\" : \"VEF\", \"tri\":\"trianguler_H dom\" })  \n",
    "\n",
    "run.printCases()\n",
    "run.runCases()\n",
    "run.tablePerf()"
   ]
  },
  {
   "cell_type": "code",
   "execution_count": null,
   "id": "5c747323",
   "metadata": {},
   "outputs": [],
   "source": [
    "from trustutils import plot\n",
    "a = plot.Graph(\"Residuals\")\n",
    "\n",
    "for d, _ in dis:\n",
    "    a.addResidu(f\"{run.BUILD_DIRECTORY}/{d}/KEPS/jdd-kepsilon.dt_ev\",label=f\"{d}_KEPS\")\n",
    "    \n",
    "a.addResidu(f\"{run.BUILD_DIRECTORY}/VEF/KOMEGA/jdd-komega.dt_ev\",label=f\"VEF_KOMEGA\")\n",
    "\n",
    "a.scale(yscale='log')"
   ]
  },
  {
   "cell_type": "code",
   "execution_count": null,
   "id": "747bc2d8",
   "metadata": {},
   "outputs": [],
   "source": [
    "a = plot.Graph(\"Pressure\")\n",
    "for d, _ in dis:\n",
    "    a.addSegment(f\"{run.BUILD_DIRECTORY}/{d}/KEPS/jdd-kepsilon_PRESSION.son\", label=f\"{d}_KEPS\")\n",
    "\n",
    "a.addSegment(f\"{run.BUILD_DIRECTORY}/VEF/KOMEGA/jdd-komega_PRESSION.son\", label=f\"VEF_KOMEGA\")\n"
   ]
  },
  {
   "cell_type": "code",
   "execution_count": null,
   "id": "7a618ea6",
   "metadata": {},
   "outputs": [],
   "source": [
    "a = plot.Graph(\"Velocity X\")\n",
    "for d, _ in dis:\n",
    "    a.addSegment(f\"{run.BUILD_DIRECTORY}/{d}/KEPS/jdd-kepsilon_VITESSE.son\", label=f\"{d}_KEPS\")\n",
    "\n",
    "a.addSegment(f\"{run.BUILD_DIRECTORY}/VEF/KOMEGA/jdd-komega_VITESSE.son\", label=f\"VEF_KOMEGA\")\n",
    "\n"
   ]
  },
  {
   "cell_type": "code",
   "execution_count": null,
   "id": "7ec4b276",
   "metadata": {},
   "outputs": [],
   "source": []
  }
 ],
 "metadata": {
  "kernelspec": {
   "display_name": "base",
   "language": "python",
   "name": "python3"
  },
  "language_info": {
   "codemirror_mode": {
    "name": "ipython",
    "version": 3
   },
   "file_extension": ".py",
   "mimetype": "text/x-python",
   "name": "python",
   "nbconvert_exporter": "python",
   "pygments_lexer": "ipython3",
   "version": "3.12.7"
  },
  "toc-autonumbering": true
 },
 "nbformat": 4,
 "nbformat_minor": 5
}
